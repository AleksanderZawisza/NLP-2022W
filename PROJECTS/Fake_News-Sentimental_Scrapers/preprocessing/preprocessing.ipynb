{
 "cells": [
  {
   "cell_type": "code",
   "execution_count": null,
   "id": "933a3d70",
   "metadata": {},
   "outputs": [],
   "source": [
    "import spacy\n",
    "import pandas as pd\n",
    "import re\n",
    "import string\n",
    "\n",
    "from wordcloud import STOPWORDS"
   ]
  },
  {
   "cell_type": "code",
   "execution_count": null,
   "id": "5de8cce8",
   "metadata": {},
   "outputs": [],
   "source": [
    "# ISOT Fake news dataset\n",
    "dataset_fake = pd.read_csv(\"../data/ISOT/Fake.csv.zip\")\n",
    "dataset_fake['label'] = 0\n",
    "dataset_true = pd.read_csv(\"../data/ISOT/True.csv.zip\")\n",
    "dataset_true['label'] = 1\n",
    "ISOT_dataset = pd.concat([dataset_fake, dataset_true])\n",
    "\n",
    "# Fake news dataset\n",
    "FN_dataset = pd.read_csv(\"../data/FakeNews/train.csv.zip\")\n",
    "FN_dataset.dropna(inplace=True)\n",
    "\n",
    "# There are missing apostrophes in contractions (e.g. \"couldn't\" -> \"couldn t\")"
   ]
  },
  {
   "cell_type": "code",
   "execution_count": null,
   "id": "bfc60f8a",
   "metadata": {},
   "outputs": [],
   "source": [
    "class DataPreprocessing():\n",
    "    # python -m spacy download en_core_web_sm\n",
    "    _nlp = spacy.load('en_core_web_sm')\n",
    "    _punctuations= \"?:!.,;\"\n",
    "    _stop_words = [\"https\", \"ul\", \"-\", \" \", \".\", \"org\", \"wiki\", \"wikipedia\", \"will\", \"image\", \"s\", \"t\", \"m\", \"ve\", \"u\", \"said\", \\\n",
    "                    \"code\", \"span\", \"container\", \"imgur\", \"html\", \"jpg\", \"png\", \"jpeg\", \"nofollow\", \"quot\",  \"comment\", \\\n",
    "                    \"site\", \"SE\", \"tags\", \"comments\", \"moderators\", \"answers\", \"posts\", \"stackoverflow\", \"amp\", \"strike\", \\\n",
    "                    \"chat\", \"edit\", \"alt\", \"link\", \"exchange\", \"help\", \"votes\", \"noreferrer\", \"closed\", \"png\", \"h1\", \"new\", \\\n",
    "                    \"stackexchange\", \"class\",\"users\",\"questions\", \"topic\", \"meta\", \"stack\", \"href\", \"tag\", \"p\", \"em\", \"rel\", \\\n",
    "                    \"li\", \"user\", \"answer\", \"title\", \"h3\", \"moderator\", \"post\", \"vote\", \"blockquote\", \"strong\",\"tagged\", \\\n",
    "                    \"question\", \"img\", \"page\", '\"', \"\\n\"] + list(STOPWORDS)\n",
    "        \n",
    "    def process(self, data):\n",
    "        # Lowercase\n",
    "        data = data.lower()\n",
    "        data = re.sub(' +', ' ', data)\n",
    "        data = data.translate(str.maketrans('', '', string.punctuation + '\"'))\n",
    "        doc = self._nlp(data)\n",
    "\n",
    "        # Tokenization and lemmatization \n",
    "        lemma_list = []\n",
    "        for token in doc:\n",
    "            lemma_list.append(token.lemma_)\n",
    "\n",
    "        # Filter the stopword\n",
    "        filtered_sentence = [] \n",
    "        for word in lemma_list:\n",
    "            lexeme = self._nlp.vocab[word]\n",
    "            if lexeme.is_stop == False and word not in self._stop_words:\n",
    "                filtered_sentence.append(word) \n",
    "\n",
    "        # Remove punctuation\n",
    "        for word in filtered_sentence:\n",
    "            if word in self._punctuations:\n",
    "                filtered_sentence.remove(word)\n",
    "        \n",
    "        return filtered_sentence"
   ]
  },
  {
   "cell_type": "code",
   "execution_count": null,
   "id": "9e98f356",
   "metadata": {},
   "outputs": [],
   "source": [
    "dataPreprocessing = DataPreprocessing()"
   ]
  },
  {
   "cell_type": "code",
   "execution_count": null,
   "id": "d58fe6b0",
   "metadata": {
    "scrolled": true
   },
   "outputs": [],
   "source": [
    "# ISOT preprocessing\n",
    "ISOT_res = ISOT_dataset['text'][0:99].apply(dataPreprocessing.process)\n",
    "ISOT_res = pd.DataFrame(ISOT_res)\n",
    "ISOT_res['label'] = ISOT_dataset['label'][0:99]\n",
    "\n",
    "# Saving to file\n",
    "ISOT_res.to_csv('../data/ISOT_Preprocessed/data.csv')"
   ]
  },
  {
   "cell_type": "code",
   "execution_count": null,
   "id": "15dde7ff",
   "metadata": {},
   "outputs": [],
   "source": [
    "# Fake News preprocessing\n",
    "FN_res = FN_dataset['text'][0:99].apply(dataPreprocessing.process)\n",
    "FN_res = pd.DataFrame(FN_res)\n",
    "FN_res['label'] = FN_dataset['label'][0:99]\n",
    "\n",
    "# Saving to file\n",
    "FN_res.to_csv('../data/FakeNews_Preprocessed/data.csv')"
   ]
  },
  {
   "cell_type": "code",
   "execution_count": null,
   "id": "0c6a3540",
   "metadata": {},
   "outputs": [],
   "source": []
  }
 ],
 "metadata": {
  "kernelspec": {
   "display_name": "Python 3 (ipykernel)",
   "language": "python",
   "name": "python3"
  },
  "language_info": {
   "codemirror_mode": {
    "name": "ipython",
    "version": 3
   },
   "file_extension": ".py",
   "mimetype": "text/x-python",
   "name": "python",
   "nbconvert_exporter": "python",
   "pygments_lexer": "ipython3",
   "version": "3.9.7"
  }
 },
 "nbformat": 4,
 "nbformat_minor": 5
}
