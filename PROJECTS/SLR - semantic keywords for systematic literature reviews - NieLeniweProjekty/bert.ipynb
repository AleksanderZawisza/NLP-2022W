{
 "cells": [
  {
   "cell_type": "code",
   "execution_count": 2,
   "metadata": {},
   "outputs": [
    {
     "name": "stderr",
     "output_type": "stream",
     "text": [
      "c:\\Users\\gosia\\anaconda3\\envs\\envNNN\\lib\\site-packages\\tqdm\\auto.py:22: TqdmWarning: IProgress not found. Please update jupyter and ipywidgets. See https://ipywidgets.readthedocs.io/en/stable/user_install.html\n",
      "  from .autonotebook import tqdm as notebook_tqdm\n"
     ]
    }
   ],
   "source": [
    "\n",
    "from bertopic import BERTopic\n",
    "from sklearn.datasets import fetch_20newsgroups\n",
    "import pandas as pd\n",
    "from nltk.corpus import stopwords\n",
    "from nltk.tokenize import word_tokenize"
   ]
  },
  {
   "cell_type": "code",
   "execution_count": 1,
   "metadata": {},
   "outputs": [],
   "source": [
    "# import nltk\n",
    "# nltk.download()"
   ]
  },
  {
   "cell_type": "markdown",
   "metadata": {},
   "source": [
    "# Etapy pracy BERTopic\n",
    "1. embedding_model - default \n",
    "                   - mozna podac stringiem z https://www.sbert.net/docs/pretrained_models.html\n",
    "                   - albo zalaczyc swoj embedding_model  -   w fit_transform:  embeddings: Pre-trained document embeddings. These can be used\n",
    "                        instead of the sentence-transformer model\n",
    "                    - tak jak powyzej mozna tez zamiast embedingu uzyc  modeli statystycznych np. TF-IDF (  ctfidf_model)\n",
    "2. Clustering - dimensionality reduction algorithms, default:UMAP\n",
    "             -  clustering algorithm; default HDBSAN \n",
    "\n",
    "3. Topic reduction - manulal/auto : liczba topicow [nr_topics: numer/ 'auto' - wtedy zostawia sie to dla dbscanna]\n",
    "                - po treningu - funkcja .reduce_topics()\n",
    "4. Topic Representation - default CountVectorizer - atrybut w init: vectorizer_model\n",
    "                        - mozna tez zmienic po treningu .update_topics()\n",
    "                                    n_gram_range: The n-gram range for the CountVectorizer.\n",
    "                                    vectorizer_model: Pass in your own CountVectorizer from scikit-learn\n",
    "                                    ctfidf_model: Pass in your own c-TF-IDF model to update the representations"
   ]
  },
  {
   "cell_type": "code",
   "execution_count": 8,
   "metadata": {},
   "outputs": [
    {
     "data": {
      "text/plain": [
       "Index(['pmid', 'journal', 'title', 'abstract', 'keywords', 'label', 'pub_type',\n",
       "       'authors', 'date1', 'doi', 'date2', 'label_category'],\n",
       "      dtype='object')"
      ]
     },
     "execution_count": 8,
     "metadata": {},
     "output_type": "execute_result"
    }
   ],
   "source": [
    "data = pd.read_csv(\"data/LitCovid.csv\")\n",
    "data = data.dropna(subset=['abstract'])\n",
    "data.columns"
   ]
  },
  {
   "cell_type": "markdown",
   "metadata": {},
   "source": [
    "# Stop words removal"
   ]
  },
  {
   "cell_type": "code",
   "execution_count": 6,
   "metadata": {},
   "outputs": [],
   "source": [
    "stop_words = set(stopwords.words('english'))"
   ]
  },
  {
   "cell_type": "code",
   "execution_count": 7,
   "metadata": {},
   "outputs": [],
   "source": [
    "data['abstract_no_stop_words'] = data['abstract'].apply(lambda x: ' '.join([w for w in x.split(' ') if not w.lower() in stop_words]))"
   ]
  },
  {
   "cell_type": "markdown",
   "metadata": {},
   "source": [
    "# Topic modelling"
   ]
  },
  {
   "cell_type": "code",
   "execution_count": 9,
   "metadata": {},
   "outputs": [],
   "source": [
    "topic_model = BERTopic(nr_topics =8)\n",
    "topics, probs = topic_model.fit_transform(list(data['abstract_no_stop_words']))"
   ]
  },
  {
   "cell_type": "code",
   "execution_count": 10,
   "metadata": {},
   "outputs": [],
   "source": [
    "data['topic_detected'] = topic_model.topics_"
   ]
  },
  {
   "cell_type": "code",
   "execution_count": 11,
   "metadata": {},
   "outputs": [
    {
     "data": {
      "text/html": [
       "<div>\n",
       "<style scoped>\n",
       "    .dataframe tbody tr th:only-of-type {\n",
       "        vertical-align: middle;\n",
       "    }\n",
       "\n",
       "    .dataframe tbody tr th {\n",
       "        vertical-align: top;\n",
       "    }\n",
       "\n",
       "    .dataframe thead th {\n",
       "        text-align: right;\n",
       "    }\n",
       "</style>\n",
       "<table border=\"1\" class=\"dataframe\">\n",
       "  <thead>\n",
       "    <tr style=\"text-align: right;\">\n",
       "      <th></th>\n",
       "      <th>Topic</th>\n",
       "      <th>Count</th>\n",
       "      <th>Name</th>\n",
       "    </tr>\n",
       "  </thead>\n",
       "  <tbody>\n",
       "    <tr>\n",
       "      <th>0</th>\n",
       "      <td>-1</td>\n",
       "      <td>25444</td>\n",
       "      <td>-1_covid19_patients_pandemic_sarscov2</td>\n",
       "    </tr>\n",
       "    <tr>\n",
       "      <th>1</th>\n",
       "      <td>0</td>\n",
       "      <td>967</td>\n",
       "      <td>0_sarscov2_detection_igg_samples</td>\n",
       "    </tr>\n",
       "    <tr>\n",
       "      <th>2</th>\n",
       "      <td>1</td>\n",
       "      <td>932</td>\n",
       "      <td>1_patients_covid19_injury_cardiac</td>\n",
       "    </tr>\n",
       "    <tr>\n",
       "      <th>3</th>\n",
       "      <td>2</td>\n",
       "      <td>879</td>\n",
       "      <td>2_ct_patients_covid19_chest</td>\n",
       "    </tr>\n",
       "    <tr>\n",
       "      <th>4</th>\n",
       "      <td>3</td>\n",
       "      <td>707</td>\n",
       "      <td>3_children_pediatric_covid19_disease</td>\n",
       "    </tr>\n",
       "    <tr>\n",
       "      <th>5</th>\n",
       "      <td>4</td>\n",
       "      <td>697</td>\n",
       "      <td>4_food_pandemic_health_covid19</td>\n",
       "    </tr>\n",
       "    <tr>\n",
       "      <th>6</th>\n",
       "      <td>5</td>\n",
       "      <td>658</td>\n",
       "      <td>5_model_epidemic_cases_covid19</td>\n",
       "    </tr>\n",
       "    <tr>\n",
       "      <th>7</th>\n",
       "      <td>6</td>\n",
       "      <td>636</td>\n",
       "      <td>6_anxiety_sleep_depression_covid19</td>\n",
       "    </tr>\n",
       "    <tr>\n",
       "      <th>8</th>\n",
       "      <td>7</td>\n",
       "      <td>580</td>\n",
       "      <td>7_women_pregnant_pregnancy_covid19</td>\n",
       "    </tr>\n",
       "  </tbody>\n",
       "</table>\n",
       "</div>"
      ],
      "text/plain": [
       "   Topic  Count                                   Name\n",
       "0     -1  25444  -1_covid19_patients_pandemic_sarscov2\n",
       "1      0    967       0_sarscov2_detection_igg_samples\n",
       "2      1    932      1_patients_covid19_injury_cardiac\n",
       "3      2    879            2_ct_patients_covid19_chest\n",
       "4      3    707   3_children_pediatric_covid19_disease\n",
       "5      4    697         4_food_pandemic_health_covid19\n",
       "6      5    658         5_model_epidemic_cases_covid19\n",
       "7      6    636     6_anxiety_sleep_depression_covid19\n",
       "8      7    580     7_women_pregnant_pregnancy_covid19"
      ]
     },
     "execution_count": 11,
     "metadata": {},
     "output_type": "execute_result"
    }
   ],
   "source": [
    "topic_model.get_topic_info()"
   ]
  },
  {
   "cell_type": "code",
   "execution_count": 19,
   "metadata": {},
   "outputs": [],
   "source": [
    "gr = data[data[\"topic_detected\"]!=-1][['label','topic_detected']].groupby('topic_detected')"
   ]
  },
  {
   "cell_type": "code",
   "execution_count": 26,
   "metadata": {},
   "outputs": [
    {
     "name": "stdout",
     "output_type": "stream",
     "text": [
      "Group nr 0 with len 967\n",
      "Diagnosis     711\n",
      "Prevention     35\n",
      "Name: label, dtype: int64\n",
      "Group nr 1 with len 932\n",
      "Treatment;Diagnosis    242\n",
      "Case Report            153\n",
      "Name: label, dtype: int64\n",
      "Group nr 2 with len 879\n",
      "Diagnosis      509\n",
      "Case Report    122\n",
      "Name: label, dtype: int64\n",
      "Group nr 3 with len 707\n",
      "Prevention     124\n",
      "Case Report    114\n",
      "Name: label, dtype: int64\n",
      "Group nr 4 with len 697\n",
      "Prevention      173\n",
      "General Info      9\n",
      "Name: label, dtype: int64\n",
      "Group nr 5 with len 658\n",
      "Prevention                         178\n",
      "Prevention;Epidemic Forecasting    103\n",
      "Name: label, dtype: int64\n",
      "Group nr 6 with len 636\n",
      "Prevention              131\n",
      "Prevention;Diagnosis      7\n",
      "Name: label, dtype: int64\n",
      "Group nr 7 with len 580\n",
      "Prevention     163\n",
      "Case Report     81\n",
      "Name: label, dtype: int64\n"
     ]
    }
   ],
   "source": [
    "for g in gr.groups:\n",
    "    print(f\"Group nr {g} with len {len(gr.get_group(g))}\")\n",
    "    print(gr.get_group(g)['label'].value_counts().iloc[:2])"
   ]
  },
  {
   "cell_type": "code",
   "execution_count": 85,
   "metadata": {},
   "outputs": [
    {
     "name": "stdout",
     "output_type": "stream",
     "text": [
      "['sarscov2', 'detection', 'igg', 'samples', 'assay', 'testing', 'positive', 'sensitivity', 'test', 'antibodies']\n",
      "['patients', 'covid19', 'injury', 'cardiac', 'liver', 'disease', 'myocardial', 'cardiovascular', 'mortality', 'acute']\n",
      "['ct', 'patients', 'covid19', 'chest', 'pneumonia', 'lung', 'imaging', 'disease', 'images', 'findings']\n",
      "['children', 'pediatric', 'covid19', 'disease', 'sarscov2', 'patients', 'infection', 'severe', 'cases', 'coronavirus']\n",
      "['food', 'pandemic', 'health', 'covid19', 'economic', 'crisis', 'public', 'global', 'countries', 'policy']\n",
      "['model', 'epidemic', 'cases', 'covid19', 'number', 'data', 'models', 'spread', 'china', 'countries']\n",
      "['anxiety', 'sleep', 'depression', 'covid19', 'nurses', 'health', 'stress', 'psychological', 'mental', 'nursing']\n"
     ]
    }
   ],
   "source": [
    "for i in range(7):\n",
    "    print([k for k,v in topic_model.get_topic(i)])"
   ]
  },
  {
   "cell_type": "markdown",
   "metadata": {},
   "source": [
    "# OWL"
   ]
  },
  {
   "cell_type": "code",
   "execution_count": 52,
   "metadata": {},
   "outputs": [
    {
     "data": {
      "text/plain": [
       "get_ontology(\"http://purl.obolibrary.org/obo/go.owl#\")"
      ]
     },
     "execution_count": 52,
     "metadata": {},
     "output_type": "execute_result"
    }
   ],
   "source": [
    "from owlready2 import *\n",
    "onto = owlready2.get_ontology(\"data/go.owl\")\n",
    "onto.load()"
   ]
  },
  {
   "cell_type": "code",
   "execution_count": 90,
   "metadata": {},
   "outputs": [],
   "source": [
    "nmspc = pd.Series([None if len(cls.hasOBONamespace) == 0 else cls.hasOBONamespace[0] for cls in list(onto.classes())])"
   ]
  },
  {
   "cell_type": "code",
   "execution_count": 93,
   "metadata": {},
   "outputs": [],
   "source": [
    "lbl = pd.Series([None if len(cls.label) == 0 else cls.label[0] for cls in list(onto.classes())])"
   ]
  },
  {
   "cell_type": "code",
   "execution_count": 94,
   "metadata": {},
   "outputs": [
    {
     "data": {
      "text/plain": [
       "obsolete cell wall inner membrane                                                                                                               2\n",
       "obsolete elastin                                                                                                                                2\n",
       "obsolete positive regulation of induction of conjugation with cellular fusion by regulation of transcription from RNA polymerase II promoter    2\n",
       "obsolete small nucleolar RNA                                                                                                                    2\n",
       "obsolete negative regulation of transcription from RNA polymerase II promoter involved in heart development                                     2\n",
       "                                                                                                                                               ..\n",
       "glycosinolate biosynthetic process                                                                                                              1\n",
       "glycosinolate catabolic process                                                                                                                 1\n",
       "glucosinolate metabolic process                                                                                                                 1\n",
       "glucosinolate catabolic process                                                                                                                 1\n",
       "hydrogen peroxide channel activity                                                                                                              1\n",
       "Length: 47341, dtype: int64"
      ]
     },
     "execution_count": 94,
     "metadata": {},
     "output_type": "execute_result"
    }
   ],
   "source": [
    "lbl.value_counts()"
   ]
  },
  {
   "cell_type": "code",
   "execution_count": 92,
   "metadata": {},
   "outputs": [
    {
     "data": {
      "text/plain": [
       "biological_process    30485\n",
       "molecular_function    12404\n",
       "cellular_component     4464\n",
       "dtype: int64"
      ]
     },
     "execution_count": 92,
     "metadata": {},
     "output_type": "execute_result"
    }
   ],
   "source": [
    "nmspc.value_counts()"
   ]
  },
  {
   "cell_type": "code",
   "execution_count": 83,
   "metadata": {},
   "outputs": [
    {
     "name": "stdout",
     "output_type": "stream",
     "text": [
      "['biological_process'] ['mitochondrion inheritance'] ['The distribution of mitochondria, including the mitochondrial genome, into daughter cells after mitosis or meiosis, mediated by interactions between mitochondria and the cytoskeleton.']\n",
      "['biological_process'] ['organelle inheritance'] ['The partitioning of organelles between daughter cells at cell division.']\n",
      "['biological_process'] ['mitochondrion distribution'] ['Any process that establishes the spatial arrangement of mitochondria between and within cells.']\n",
      "['biological_process'] ['mitochondrial genome maintenance'] ['The maintenance of the structure and integrity of the mitochondrial genome; includes replication and segregation of the mitochondrial chromosome.']\n",
      "['biological_process'] ['mitochondrion organization'] ['A process that is carried out at the cellular level which results in the assembly, arrangement of constituent parts, or disassembly of a mitochondrion; includes mitochondrial morphogenesis and distribution, and replication of the mitochondrial genome as well as synthesis of new mitochondrial components.']\n",
      "['biological_process'] ['reproduction'] ['The production of new individuals that contain some portion of genetic material inherited from one or more parent organisms.']\n",
      "['biological_process'] ['biological_process'] ['A biological process represents a specific objective that the organism is genetically programmed to achieve. Biological processes are often described by their outcome or ending state, e.g., the biological process of cell division results in the creation of two daughter cells (a divided cell) from a single parent cell. A biological process is accomplished by a particular set of molecular functions carried out by specific gene products (or macromolecular complexes), often in a highly regulated manner and in a particular temporal sequence.']\n",
      "['biological_process'] ['biological phase'] ['A distinct period or stage in a biological process or cycle.']\n",
      "[] [] []\n",
      "['molecular_function'] ['obsolete ribosomal chaperone activity'] ['OBSOLETE. Assists in the correct assembly of ribosomes or ribosomal subunits in vivo, but is not a component of the assembled ribosome when performing its normal biological function.']\n",
      "['molecular_function'] ['high-affinity zinc transmembrane transporter activity'] ['Enables the transfer of zinc ions (Zn2+) from one side of a membrane to the other, probably powered by proton motive force. In high-affinity transport the transporter is able to bind the solute even if it is only present at very low concentrations.']\n",
      "['molecular_function'] ['zinc ion transmembrane transporter activity'] ['Enables the transfer of zinc (Zn) ions from one side of a membrane to the other.']\n",
      "['molecular_function'] ['low-affinity zinc ion transmembrane transporter activity'] ['Enables the transfer of a solute or solutes from one side of a membrane to the other according to the reaction: Zn2+ = Zn2+, probably powered by proton motive force. In low-affinity transport the transporter is able to bind the solute only if it is present at very high concentrations.']\n",
      "['molecular_function'] ['obsolete thioredoxin'] ['OBSOLETE. A small disulfide-containing redox protein that serves as a general protein disulfide oxidoreductase. Interacts with a broad range of proteins by a redox mechanism, based on the reversible oxidation of 2 cysteine thiol groups to a disulfide, accompanied by the transfer of 2 electrons and 2 protons. The net result is the covalent interconversion of a disulfide and a dithiol.']\n",
      "['molecular_function'] ['alpha-1,6-mannosyltransferase activity'] ['Catalysis of the transfer of a mannose residue to an oligosaccharide, forming an alpha-(1->6) linkage.']\n",
      "['molecular_function'] ['mannosyltransferase activity'] ['Catalysis of the transfer of a mannosyl group to an acceptor molecule, typically another carbohydrate or a lipid.']\n",
      "['molecular_function'] ['trans-hexaprenyltranstransferase activity'] ['Catalysis of the reaction: (2E,6E)-farnesyl diphosphate + 4 isopentenyl diphosphate = 4 diphosphate + all-trans-heptaprenyl diphosphate.']\n",
      "['molecular_function'] ['prenyltransferase activity'] ['Catalysis of the transfer of a prenyl group from one compound (donor) to another (acceptor).']\n",
      "['biological_process'] ['vacuole inheritance'] ['The distribution of vacuoles into daughter cells after mitosis or meiosis, mediated by interactions between vacuoles and the cytoskeleton.']\n",
      "['biological_process'] ['vacuole organization'] ['A process that is carried out at the cellular level which results in the assembly, arrangement of constituent parts, or disassembly of a vacuole.']\n",
      "['biological_process'] ['single strand break repair'] ['The repair of single strand breaks in DNA. Repair of such breaks is mediated by the same enzyme systems as are used in base excision repair.']\n",
      "['biological_process'] ['DNA repair'] ['The process of restoring DNA after damage. Genomes are subject to damage by chemical and physical agents in the environment (e.g. UV and ionizing radiations, chemical mutagens, fungal and bacterial toxins, etc.) and by free radicals or alkylating agents endogenously generated in metabolism. DNA is also damaged because of errors during its replication. A variety of different DNA repair pathways have been reported that include direct reversal, base excision repair, nucleotide excision repair, photoreactivation, bypass, double-strand break repair pathway, and mismatch repair pathway.']\n",
      "[] [] []\n",
      "['molecular_function'] ['single-stranded DNA endodeoxyribonuclease activity'] ['Catalysis of the hydrolysis of ester linkages within a single-stranded deoxyribonucleic acid molecule by creating internal breaks.']\n",
      "['molecular_function'] ['endodeoxyribonuclease activity'] ['Catalysis of the hydrolysis of ester linkages within deoxyribonucleic acid by creating internal breaks.']\n",
      "['cellular_component'] ['phosphopyruvate hydratase complex'] ['A multimeric enzyme complex, usually a dimer or an octamer, that catalyzes the conversion of 2-phospho-D-glycerate to phosphoenolpyruvate and water.']\n",
      "['cellular_component'] ['catalytic complex'] ['A protein complex which is capable of catalytic activity.']\n",
      "['cellular_component'] ['cytosol'] ['The part of the cytoplasm that does not contain organelles but which does contain other particulate matter, such as protein complexes.']\n",
      "['molecular_function'] ['lactase activity'] ['Catalysis of the reaction: lactose + H2O = D-glucose + D-galactose.']\n",
      "['molecular_function'] ['hydrolase activity, hydrolyzing O-glycosyl compounds'] ['Catalysis of the hydrolysis of any O-glycosyl bond.']\n",
      "['biological_process'] ['alpha-glucoside transport'] ['The directed movement of alpha-glucosides into, out of or within a cell, or between cells, by means of some agent such as a transporter or pore. Alpha-glucosides are glycosides in which the sugar group is a glucose residue, and the anomeric carbon of the bond is in an alpha configuration.']\n",
      "['biological_process'] ['glucoside transport'] ['The directed movement of glucosides into, out of or within a cell, or between cells, by means of some agent such as a transporter or pore. Glucosides are glycosides in which the sugar group is a glucose residue.']\n",
      "['biological_process'] ['regulation of DNA recombination'] ['Any process that modulates the frequency, rate or extent of DNA recombination, a DNA metabolic process in which a new genotype is formed by reassortment of genes resulting in gene combinations different from those that were present in the parents.']\n",
      "['biological_process'] ['biological regulation'] ['Any process that modulates a measurable attribute of any biological process, quality or function.']\n",
      "['biological_process'] ['DNA recombination'] ['Any process in which a new genotype is formed by reassortment of genes resulting in gene combinations different from those that were present in the parents. In eukaryotes genetic recombination can occur by chromosome assortment, intrachromosomal recombination, or nonreciprocal interchromosomal recombination. Interchromosomal recombination occurs by crossing over. In bacteria it may occur by genetic transformation, conjugation, transduction, or F-duction.']\n"
     ]
    }
   ],
   "source": [
    "for cls in list(onto.classes())[:35]:\n",
    "    #print(cls.get_class_properties())\n",
    "    print(cls.hasOBONamespace,  cls.label, cls.IAO_0000115)"
   ]
  },
  {
   "cell_type": "markdown",
   "metadata": {},
   "source": [
    "# Embedded Topic Model"
   ]
  },
  {
   "cell_type": "code",
   "execution_count": null,
   "metadata": {},
   "outputs": [
    {
     "name": "stdout",
     "output_type": "stream",
     "text": [
      "Collecting embedded_topic_model\n",
      "  Using cached embedded_topic_model-1.0.2-py3-none-any.whl (17 kB)\n",
      "Collecting gensim==3.8.3\n",
      "  Downloading gensim-3.8.3-cp38-cp38-win_amd64.whl (24.2 MB)\n",
      "     --------------------------------------- 24.2/24.2 MB 10.4 MB/s eta 0:00:00\n",
      "Collecting embedded_topic_model\n",
      "  Using cached embedded_topic_model-1.0.1-py3-none-any.whl (17 kB)\n",
      "  Using cached embedded_topic_model-1.0.0-py3-none-any.whl (17 kB)\n",
      "  Using cached embedded_topic_model-0.1.1-py3-none-any.whl (17 kB)\n",
      "  Using cached embedded_topic_model-0.1.0-py3-none-any.whl (17 kB)\n",
      "Collecting numpy==1.20.0\n",
      "  Downloading numpy-1.20.0-cp38-cp38-win_amd64.whl (13.7 MB)\n",
      "     ---------------------------------------- 13.7/13.7 MB 6.9 MB/s eta 0:00:00\n",
      "\n",
      "The conflict is caused by:\n",
      "    embedded-topic-model 1.0.2 depends on torch==1.6.0\n",
      "    embedded-topic-model 1.0.1 depends on torch==1.6.0\n",
      "    embedded-topic-model 1.0.0 depends on torch==1.6.0\n",
      "    embedded-topic-model 0.1.1 depends on torch==1.6.0\n",
      "    embedded-topic-model 0.1.0 depends on torch==1.6.0\n",
      "\n",
      "To fix this you could try to:\n",
      "1. loosen the range of package versions you've specified\n",
      "2. remove package versions to allow pip attempt to solve the dependency conflict\n",
      "\n"
     ]
    },
    {
     "name": "stderr",
     "output_type": "stream",
     "text": [
      "ERROR: Cannot install embedded-topic-model==0.1.0, embedded-topic-model==0.1.1, embedded-topic-model==1.0.0, embedded-topic-model==1.0.1 and embedded-topic-model==1.0.2 because these package versions have conflicting dependencies.\n",
      "ERROR: ResolutionImpossible: for help visit https://pip.pypa.io/en/latest/topics/dependency-resolution/#dealing-with-dependency-conflicts\n"
     ]
    }
   ],
   "source": [
    "#!pip install -U embedded_topic_model"
   ]
  },
  {
   "cell_type": "code",
   "execution_count": 13,
   "metadata": {},
   "outputs": [],
   "source": [
    "from embedded_topic_model.utils import preprocessing\n",
    "from embedded_topic_model.utils import embedding\n",
    "import pandas as pd\n",
    "from embedded_topic_model.models.etm import ETM"
   ]
  },
  {
   "cell_type": "code",
   "execution_count": 12,
   "metadata": {},
   "outputs": [],
   "source": [
    "vocabulary, train_dataset, _, = preprocessing.create_etm_datasets(\n",
    "    list(data['abstract']), \n",
    "    min_df=0.01, \n",
    "    max_df=0.75, \n",
    "    train_size=0.85, \n",
    ")"
   ]
  },
  {
   "cell_type": "code",
   "execution_count": 19,
   "metadata": {},
   "outputs": [],
   "source": [
    "embeddings_mapping = embedding.create_word2vec_embedding_from_dataset(list(data['abstract']))"
   ]
  },
  {
   "cell_type": "code",
   "execution_count": 20,
   "metadata": {},
   "outputs": [
    {
     "name": "stdout",
     "output_type": "stream",
     "text": [
      "Topics before training: [['mellitus', '56', '69', 'reactions', 'male', 'diabetes', 'diarrhea', 'animal', 'hazard', 'software'], ['adapt', 'detect', 'weight', 'molecules', 'ranging', 'spectrum', 'pneumonia', 'pandemics', 'shock', 'protease'], ['78', 'make', 'late', 'versus', 'normal', 'nine', '73', '87', 'corona', 'delayed'], ['mg', 'lopinavir', 'confirmed', 'strongly', 'problem', 'domain', 'dependent', 'pro', 'taking', 'south'], ['spike', 'domain', 'droplets', 'male', 'random', 'compliance', 'admission', 'receptor', 'wearing', 'genetic'], ['receptors', '95', 'interleukin', 'species', 'reactive', 'expressed', 'likelihood', 'he', 'cardiac', 'confidence'], ['free', 'severely', 'energy', 'themselves', '31', 'lead', 'airway', 'allocation', 'explore', 'angiotensin'], ['self', 'hazard', 'above', 'imposed', 'discharged', 'themselves', 'mellitus', 'linear', 'alpha', 'confidence']]\n",
      "Epoch 1 - Learning Rate: 0.005 - KL theta: 0.27 - Rec loss: 650.14 - NELBO: 650.41\n",
      "Epoch 2 - Learning Rate: 0.005 - KL theta: 2.15 - Rec loss: 613.65 - NELBO: 615.8\n",
      "Epoch 3 - Learning Rate: 0.005 - KL theta: 3.43 - Rec loss: 596.88 - NELBO: 600.31\n",
      "Epoch 4 - Learning Rate: 0.005 - KL theta: 3.73 - Rec loss: 591.15 - NELBO: 594.88\n",
      "Epoch 5 - Learning Rate: 0.005 - KL theta: 4.1 - Rec loss: 587.67 - NELBO: 591.77\n",
      "Epoch 6 - Learning Rate: 0.005 - KL theta: 4.48 - Rec loss: 584.99 - NELBO: 589.47\n",
      "Epoch 7 - Learning Rate: 0.005 - KL theta: 4.72 - Rec loss: 583.01 - NELBO: 587.73\n",
      "Epoch 8 - Learning Rate: 0.005 - KL theta: 4.94 - Rec loss: 581.74 - NELBO: 586.68\n",
      "Epoch 9 - Learning Rate: 0.005 - KL theta: 5.04 - Rec loss: 580.66 - NELBO: 585.7\n",
      "Epoch 10 - Learning Rate: 0.005 - KL theta: 5.15 - Rec loss: 580.02 - NELBO: 585.17\n",
      "Topics: [['patients', 'were', 'was', 'disease', 'had', 'or', 'clinical', 'severe', 'associated', 'risk'], ['is', 'that', 'coronavirus', 'respiratory', 'are', 'by', 'acute', 'severe', 'disease', 'syndrome'], ['health', 'care', 'pandemic', 'this', 'have', 'has', 'are', 'be', 'is', 'current'], ['is', 'that', 'this', 'has', 'we', 'are', 'on', 'by', 'from', 'an'], ['from', 'cases', 'was', 'at', 'were', 'number', 'by', 'first', 'reported', 'than'], ['were', 'during', 'was', 'their', 'health', 'on', 'pandemic', 'study', 'by', 'social'], ['as', 'on', 'not', 'an', 'use', 'but', 'from', 'well', 'all', 'or'], ['be', 'was', 'is', 'positive', 'using', 'were', 'can', 'by', 'used', 'may']]\n",
      "Epoch 11 - Learning Rate: 0.005 - KL theta: 5.19 - Rec loss: 579.4 - NELBO: 584.59\n",
      "Epoch 12 - Learning Rate: 0.005 - KL theta: 5.25 - Rec loss: 579.1 - NELBO: 584.35\n",
      "Epoch 13 - Learning Rate: 0.005 - KL theta: 5.31 - Rec loss: 578.87 - NELBO: 584.18\n",
      "Epoch 14 - Learning Rate: 0.005 - KL theta: 5.34 - Rec loss: 578.19 - NELBO: 583.53\n",
      "Epoch 15 - Learning Rate: 0.005 - KL theta: 5.37 - Rec loss: 578.06 - NELBO: 583.43\n",
      "Epoch 16 - Learning Rate: 0.005 - KL theta: 5.4 - Rec loss: 577.9 - NELBO: 583.3\n",
      "Epoch 17 - Learning Rate: 0.005 - KL theta: 5.41 - Rec loss: 577.54 - NELBO: 582.95\n",
      "Epoch 18 - Learning Rate: 0.005 - KL theta: 5.44 - Rec loss: 577.35 - NELBO: 582.79\n",
      "Epoch 19 - Learning Rate: 0.005 - KL theta: 5.44 - Rec loss: 577.18 - NELBO: 582.62\n"
     ]
    },
    {
     "data": {
      "text/plain": [
       "<embedded_topic_model.models.etm.ETM at 0x24b743f13c8>"
      ]
     },
     "execution_count": 20,
     "metadata": {},
     "output_type": "execute_result"
    }
   ],
   "source": [
    "etm_instance = ETM(\n",
    "    vocabulary,\n",
    "    embeddings=embeddings_mapping, # You can pass here the path to a word2vec file or\n",
    "                                   # a KeyedVectors instance\n",
    "    num_topics=8,\n",
    "    epochs=20,\n",
    "    debug_mode=True,\n",
    "    train_embeddings=False, # Optional. If True, ETM will learn word embeddings jointly with\n",
    "                            # topic embeddings. By default, is False. If 'embeddings' argument\n",
    "                            # is being passed, this argument must not be True\n",
    ")\n",
    "\n",
    "etm_instance.fit(train_dataset)"
   ]
  },
  {
   "cell_type": "code",
   "execution_count": 21,
   "metadata": {},
   "outputs": [],
   "source": [
    "topics = etm_instance.get_topics(3)"
   ]
  },
  {
   "cell_type": "code",
   "execution_count": 22,
   "metadata": {},
   "outputs": [
    {
     "data": {
      "text/plain": [
       "[['patients', 'were', 'was'],\n",
       " ['is', 'that', 'coronavirus'],\n",
       " ['care', 'health', 'pandemic'],\n",
       " ['that', 'is', 'this'],\n",
       " ['cases', 'from', 'was'],\n",
       " ['were', 'during', 'was'],\n",
       " ['on', 'as', 'not'],\n",
       " ['was', 'be', 'is']]"
      ]
     },
     "execution_count": 22,
     "metadata": {},
     "output_type": "execute_result"
    }
   ],
   "source": [
    "topics"
   ]
  },
  {
   "cell_type": "code",
   "execution_count": null,
   "metadata": {},
   "outputs": [],
   "source": []
  }
 ],
 "metadata": {
  "kernelspec": {
   "display_name": "Python 3 (ipykernel)",
   "language": "python",
   "name": "python3"
  },
  "language_info": {
   "codemirror_mode": {
    "name": "ipython",
    "version": 3
   },
   "file_extension": ".py",
   "mimetype": "text/x-python",
   "name": "python",
   "nbconvert_exporter": "python",
   "pygments_lexer": "ipython3",
   "version": "3.7.13"
  },
  "vscode": {
   "interpreter": {
    "hash": "426ffe08c6f34ea9f7e364594a2431fc34846dfecb96633c473e537b8dcacd77"
   }
  }
 },
 "nbformat": 4,
 "nbformat_minor": 2
}
