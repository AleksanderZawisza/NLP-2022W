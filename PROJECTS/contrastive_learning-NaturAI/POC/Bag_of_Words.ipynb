{
  "nbformat": 4,
  "nbformat_minor": 0,
  "metadata": {
    "colab": {
      "provenance": []
    },
    "kernelspec": {
      "name": "python3",
      "display_name": "Python 3"
    },
    "language_info": {
      "name": "python"
    }
  },
  "cells": [
    {
      "cell_type": "code",
      "source": [
        "!pip install tensorflow-addons"
      ],
      "metadata": {
        "colab": {
          "base_uri": "https://localhost:8080/"
        },
        "id": "b0g-GgRoCb8t",
        "outputId": "ccbb11cd-14d9-4024-d091-646ec627d2d7"
      },
      "execution_count": null,
      "outputs": [
        {
          "output_type": "stream",
          "name": "stdout",
          "text": [
            "Looking in indexes: https://pypi.org/simple, https://us-python.pkg.dev/colab-wheels/public/simple/\n",
            "Collecting tensorflow-addons\n",
            "  Downloading tensorflow_addons-0.18.0-cp37-cp37m-manylinux_2_17_x86_64.manylinux2014_x86_64.whl (1.1 MB)\n",
            "\u001b[K     |████████████████████████████████| 1.1 MB 25.5 MB/s \n",
            "\u001b[?25hRequirement already satisfied: packaging in /usr/local/lib/python3.7/dist-packages (from tensorflow-addons) (21.3)\n",
            "Requirement already satisfied: typeguard>=2.7 in /usr/local/lib/python3.7/dist-packages (from tensorflow-addons) (2.7.1)\n",
            "Requirement already satisfied: pyparsing!=3.0.5,>=2.0.2 in /usr/local/lib/python3.7/dist-packages (from packaging->tensorflow-addons) (3.0.9)\n",
            "Installing collected packages: tensorflow-addons\n",
            "Successfully installed tensorflow-addons-0.18.0\n"
          ]
        }
      ]
    },
    {
      "cell_type": "code",
      "execution_count": null,
      "metadata": {
        "id": "_JbeTP6YArOt",
        "colab": {
          "base_uri": "https://localhost:8080/"
        },
        "outputId": "b3a81197-2bbe-48d2-f7b3-bb930c36d2bd"
      },
      "outputs": [
        {
          "output_type": "stream",
          "name": "stdout",
          "text": [
            "Mounted at /content/drive\n"
          ]
        }
      ],
      "source": [
        "from google.colab import drive\n",
        "drive.mount('/content/drive')"
      ]
    },
    {
      "cell_type": "code",
      "source": [
        "import pandas as pd\n",
        "import numpy as np\n",
        "import nltk\n",
        "import collections\n",
        "import re\n",
        "from sklearn.model_selection import train_test_split\n",
        "from tensorflow.keras import Sequential, layers, losses, Model\n",
        "from tensorflow.keras.datasets import imdb\n",
        "from tensorflow.keras.utils import to_categorical\n",
        "from tensorflow.keras.layers import Dense, Dropout, Input, Concatenate\n",
        "from tensorflow.keras.utils import to_categorical\n",
        "import tensorflow as tf\n",
        "import matplotlib.pyplot as plt\n",
        "import tensorflow_addons as tfa\n",
        "from scipy import spatial"
      ],
      "metadata": {
        "id": "PaPsI-h0Cd2r"
      },
      "execution_count": null,
      "outputs": []
    },
    {
      "cell_type": "code",
      "source": [
        "df = pd.read_csv(\"/content/drive/MyDrive/NLP_Projekt/IMDB Dataset.csv\").iloc[:2000,:]"
      ],
      "metadata": {
        "id": "S1CpFqA6CgQi"
      },
      "execution_count": null,
      "outputs": []
    },
    {
      "cell_type": "code",
      "source": [
        "df['sentiment'][df.sentiment == 'positive'] = 1"
      ],
      "metadata": {
        "id": "HigjF4Hs5L5y"
      },
      "execution_count": null,
      "outputs": []
    },
    {
      "cell_type": "code",
      "source": [
        "df.tail()"
      ],
      "metadata": {
        "colab": {
          "base_uri": "https://localhost:8080/",
          "height": 206
        },
        "id": "R4Lk9AwqD8jU",
        "outputId": "761d2b1b-3d93-4cce-eb44-5dea15033007"
      },
      "execution_count": null,
      "outputs": [
        {
          "output_type": "execute_result",
          "data": {
            "text/plain": [
              "                                                 review sentiment\n",
              "1995  Feeling Minnesota, directed by Steven Baigelma...  negative\n",
              "1996  THE CELL (2000) Rating: 8/10<br /><br />The Ce...         1\n",
              "1997  This movie, despite its list of B, C, and D li...  negative\n",
              "1998  I loved this movie! It was all I could do not ...         1\n",
              "1999  This was the worst movie I have ever seen Bill...  negative"
            ],
            "text/html": [
              "\n",
              "  <div id=\"df-3c3c4e5a-93ef-4edb-8705-4cef8e240fe5\">\n",
              "    <div class=\"colab-df-container\">\n",
              "      <div>\n",
              "<style scoped>\n",
              "    .dataframe tbody tr th:only-of-type {\n",
              "        vertical-align: middle;\n",
              "    }\n",
              "\n",
              "    .dataframe tbody tr th {\n",
              "        vertical-align: top;\n",
              "    }\n",
              "\n",
              "    .dataframe thead th {\n",
              "        text-align: right;\n",
              "    }\n",
              "</style>\n",
              "<table border=\"1\" class=\"dataframe\">\n",
              "  <thead>\n",
              "    <tr style=\"text-align: right;\">\n",
              "      <th></th>\n",
              "      <th>review</th>\n",
              "      <th>sentiment</th>\n",
              "    </tr>\n",
              "  </thead>\n",
              "  <tbody>\n",
              "    <tr>\n",
              "      <th>1995</th>\n",
              "      <td>Feeling Minnesota, directed by Steven Baigelma...</td>\n",
              "      <td>negative</td>\n",
              "    </tr>\n",
              "    <tr>\n",
              "      <th>1996</th>\n",
              "      <td>THE CELL (2000) Rating: 8/10&lt;br /&gt;&lt;br /&gt;The Ce...</td>\n",
              "      <td>1</td>\n",
              "    </tr>\n",
              "    <tr>\n",
              "      <th>1997</th>\n",
              "      <td>This movie, despite its list of B, C, and D li...</td>\n",
              "      <td>negative</td>\n",
              "    </tr>\n",
              "    <tr>\n",
              "      <th>1998</th>\n",
              "      <td>I loved this movie! It was all I could do not ...</td>\n",
              "      <td>1</td>\n",
              "    </tr>\n",
              "    <tr>\n",
              "      <th>1999</th>\n",
              "      <td>This was the worst movie I have ever seen Bill...</td>\n",
              "      <td>negative</td>\n",
              "    </tr>\n",
              "  </tbody>\n",
              "</table>\n",
              "</div>\n",
              "      <button class=\"colab-df-convert\" onclick=\"convertToInteractive('df-3c3c4e5a-93ef-4edb-8705-4cef8e240fe5')\"\n",
              "              title=\"Convert this dataframe to an interactive table.\"\n",
              "              style=\"display:none;\">\n",
              "        \n",
              "  <svg xmlns=\"http://www.w3.org/2000/svg\" height=\"24px\"viewBox=\"0 0 24 24\"\n",
              "       width=\"24px\">\n",
              "    <path d=\"M0 0h24v24H0V0z\" fill=\"none\"/>\n",
              "    <path d=\"M18.56 5.44l.94 2.06.94-2.06 2.06-.94-2.06-.94-.94-2.06-.94 2.06-2.06.94zm-11 1L8.5 8.5l.94-2.06 2.06-.94-2.06-.94L8.5 2.5l-.94 2.06-2.06.94zm10 10l.94 2.06.94-2.06 2.06-.94-2.06-.94-.94-2.06-.94 2.06-2.06.94z\"/><path d=\"M17.41 7.96l-1.37-1.37c-.4-.4-.92-.59-1.43-.59-.52 0-1.04.2-1.43.59L10.3 9.45l-7.72 7.72c-.78.78-.78 2.05 0 2.83L4 21.41c.39.39.9.59 1.41.59.51 0 1.02-.2 1.41-.59l7.78-7.78 2.81-2.81c.8-.78.8-2.07 0-2.86zM5.41 20L4 18.59l7.72-7.72 1.47 1.35L5.41 20z\"/>\n",
              "  </svg>\n",
              "      </button>\n",
              "      \n",
              "  <style>\n",
              "    .colab-df-container {\n",
              "      display:flex;\n",
              "      flex-wrap:wrap;\n",
              "      gap: 12px;\n",
              "    }\n",
              "\n",
              "    .colab-df-convert {\n",
              "      background-color: #E8F0FE;\n",
              "      border: none;\n",
              "      border-radius: 50%;\n",
              "      cursor: pointer;\n",
              "      display: none;\n",
              "      fill: #1967D2;\n",
              "      height: 32px;\n",
              "      padding: 0 0 0 0;\n",
              "      width: 32px;\n",
              "    }\n",
              "\n",
              "    .colab-df-convert:hover {\n",
              "      background-color: #E2EBFA;\n",
              "      box-shadow: 0px 1px 2px rgba(60, 64, 67, 0.3), 0px 1px 3px 1px rgba(60, 64, 67, 0.15);\n",
              "      fill: #174EA6;\n",
              "    }\n",
              "\n",
              "    [theme=dark] .colab-df-convert {\n",
              "      background-color: #3B4455;\n",
              "      fill: #D2E3FC;\n",
              "    }\n",
              "\n",
              "    [theme=dark] .colab-df-convert:hover {\n",
              "      background-color: #434B5C;\n",
              "      box-shadow: 0px 1px 3px 1px rgba(0, 0, 0, 0.15);\n",
              "      filter: drop-shadow(0px 1px 2px rgba(0, 0, 0, 0.3));\n",
              "      fill: #FFFFFF;\n",
              "    }\n",
              "  </style>\n",
              "\n",
              "      <script>\n",
              "        const buttonEl =\n",
              "          document.querySelector('#df-3c3c4e5a-93ef-4edb-8705-4cef8e240fe5 button.colab-df-convert');\n",
              "        buttonEl.style.display =\n",
              "          google.colab.kernel.accessAllowed ? 'block' : 'none';\n",
              "\n",
              "        async function convertToInteractive(key) {\n",
              "          const element = document.querySelector('#df-3c3c4e5a-93ef-4edb-8705-4cef8e240fe5');\n",
              "          const dataTable =\n",
              "            await google.colab.kernel.invokeFunction('convertToInteractive',\n",
              "                                                     [key], {});\n",
              "          if (!dataTable) return;\n",
              "\n",
              "          const docLinkHtml = 'Like what you see? Visit the ' +\n",
              "            '<a target=\"_blank\" href=https://colab.research.google.com/notebooks/data_table.ipynb>data table notebook</a>'\n",
              "            + ' to learn more about interactive tables.';\n",
              "          element.innerHTML = '';\n",
              "          dataTable['output_type'] = 'display_data';\n",
              "          await google.colab.output.renderOutput(dataTable, element);\n",
              "          const docLink = document.createElement('div');\n",
              "          docLink.innerHTML = docLinkHtml;\n",
              "          element.appendChild(docLink);\n",
              "        }\n",
              "      </script>\n",
              "    </div>\n",
              "  </div>\n",
              "  "
            ]
          },
          "metadata": {},
          "execution_count": 8
        }
      ]
    },
    {
      "cell_type": "code",
      "source": [
        "df['review'][2]"
      ],
      "metadata": {
        "colab": {
          "base_uri": "https://localhost:8080/",
          "height": 107
        },
        "id": "05JsBYF5Dq67",
        "outputId": "5b7f6472-386a-4774-e20b-9a83f6bcbfa1"
      },
      "execution_count": null,
      "outputs": [
        {
          "output_type": "execute_result",
          "data": {
            "text/plain": [
              "'I thought this was a wonderful way to spend time on a too hot summer weekend, sitting in the air conditioned theater and watching a light-hearted comedy. The plot is simplistic, but the dialogue is witty and the characters are likable (even the well bread suspected serial killer). While some may be disappointed when they realize this is not Match Point 2: Risk Addiction, I thought it was proof that Woody Allen is still fully in control of the style many of us have grown to love.<br /><br />This was the most I\\'d laughed at one of Woody\\'s comedies in years (dare I say a decade?). While I\\'ve never been impressed with Scarlet Johanson, in this she managed to tone down her \"sexy\" image and jumped right into a average, but spirited young woman.<br /><br />This may not be the crown jewel of his career, but it was wittier than \"Devil Wears Prada\" and more interesting than \"Superman\" a great comedy to go see with friends.'"
            ],
            "application/vnd.google.colaboratory.intrinsic+json": {
              "type": "string"
            }
          },
          "metadata": {},
          "execution_count": 8
        }
      ]
    },
    {
      "cell_type": "code",
      "source": [
        "df['sentiment'][2]"
      ],
      "metadata": {
        "colab": {
          "base_uri": "https://localhost:8080/",
          "height": 35
        },
        "id": "HgkY1N0pD5_i",
        "outputId": "e47f857d-1bb3-4db2-a72e-30c1fa9465b6"
      },
      "execution_count": null,
      "outputs": [
        {
          "output_type": "execute_result",
          "data": {
            "text/plain": [
              "'positive'"
            ],
            "application/vnd.google.colaboratory.intrinsic+json": {
              "type": "string"
            }
          },
          "metadata": {},
          "execution_count": 9
        }
      ]
    },
    {
      "cell_type": "markdown",
      "source": [
        "# Bag-of-Words - preparation"
      ],
      "metadata": {
        "id": "tI62da-9cFCi"
      }
    },
    {
      "cell_type": "code",
      "source": [
        "# list of stopwords for removal"
      ],
      "metadata": {
        "id": "vqapJkKQmJCF"
      },
      "execution_count": null,
      "outputs": []
    },
    {
      "cell_type": "code",
      "source": [
        "STOPWORDS = ['br', 'b', 'le', 'i', 'me', 'my', 'myself', 'we', 'our', 'ours', 'ourselves', \n",
        "             'you', \"you're\", \"you've\", \"you'll\", \"you'd\", 'your', 'yours', 'yourself', \n",
        "             'yourselves', 'he', 'him', 'his', 'himself', 'she', \"she's\", 'her', 'hers',\n",
        "             'herself', 'it', \"it's\", 'its', 'itself', 'they', 'them', 'their', 'theirs', \n",
        "             'themselves', 'what', 'which', 'who', 'whom', 'this', 'that', 'thats', 'would',\n",
        "             \"that'll\", 'these', 'those', 'am', 'is', 'are', 'was', 'were', 'be', 'been',\n",
        "             'being', 'have', 'has', 'had', 'having', 'do', 'does', 'did', 'doing', 'a', \n",
        "             'an', 'the', 'and', 'but', 'if', 'or', 'because', 'as', 'until', 'while', 'of', \n",
        "             'at', 'by', 'for', 'with', 'about', 'against', 'between', 'into', 'through', 'during', \n",
        "             'before', 'after', 'above', 'below', 'to', 'from', 'up', 'down', 'in', 'out', 'on', \n",
        "             'off', 'over', 'under', 'again', 'further', 'then', 'once', 'here', 'there', 'when', \n",
        "             'where', 'why', 'how', 'all', 'any', 'both', 'each', 'few', 'more', 'most', 'other',\n",
        "             'some', 'such', 'no', 'nor', 'not', 'only', 'own', 'same', 'so', 'than', 'too', 'very',\n",
        "             's', 't', 'can', 'will', 'just', 'don', \"don't\", 'should', \"should've\", 'now', 'd', 'll',\n",
        "             'm', 'o', 're', 've', 'y', 'ain', 'aren', \"aren't\", 'couldn', \"couldn't\", 'didn', \"didn't\",\n",
        "             'doesn', \"doesn't\", 'hadn', \"hadn't\", 'hasn', \"hasn't\", 'haven', \"haven't\", 'isn', \"isn't\", \n",
        "             'ma', 'mightn', \"mightn't\", 'mustn', \"mustn't\", 'needn', \"needn't\", 'shan', \"shan't\",\n",
        "             'shouldn', \"shouldn't\", 'wasn', \"wasn't\", 'weren', \"weren't\", 'won', \"won't\", 'wouldn', \"wouldn't\"]"
      ],
      "metadata": {
        "id": "sez8YsNncHt6"
      },
      "execution_count": null,
      "outputs": []
    },
    {
      "cell_type": "code",
      "source": [
        "# word lemmatizer"
      ],
      "metadata": {
        "id": "Z-5UIleRmPfa"
      },
      "execution_count": null,
      "outputs": []
    },
    {
      "cell_type": "code",
      "source": [
        "from nltk.stem import WordNetLemmatizer\n",
        "nltk.download('wordnet')\n",
        "nltk.download('omw-1.4')\n",
        "lemmatizer = WordNetLemmatizer()\n",
        "\n",
        "def calculateBOW(wordset,l_doc):\n",
        "    tf_diz = dict.fromkeys(wordset,0)\n",
        "    for word in l_doc:\n",
        "        tf_diz[word]=np.count_nonzero(l_doc == word)\n",
        "    return tf_diz"
      ],
      "metadata": {
        "id": "g_iZ-fMtfUiO",
        "colab": {
          "base_uri": "https://localhost:8080/"
        },
        "outputId": "1106dfee-13d6-4cfa-c036-42d466313375"
      },
      "execution_count": null,
      "outputs": [
        {
          "output_type": "stream",
          "name": "stderr",
          "text": [
            "[nltk_data] Downloading package wordnet to /root/nltk_data...\n",
            "[nltk_data] Downloading package omw-1.4 to /root/nltk_data...\n"
          ]
        }
      ]
    },
    {
      "cell_type": "code",
      "source": [
        "X = np.asarray(df.iloc[:,0])\n",
        "data = [np.array([lemmatizer.lemmatize(x) for x in np.setdiff1d(re.sub(r\"[^a-zA-Z0-9]\", \" \", obs.lower()).split(), STOPWORDS)]) for obs in X]\n",
        "vocabulary = np.unique(np.concatenate(data))\n",
        "data_bow = pd.DataFrame([calculateBOW(vocabulary,obs) for obs in data])\n",
        "has_digit = [bool(re.search(r'\\d', v)) for v in vocabulary]\n",
        "data_bow = data_bow.drop(columns=vocabulary[has_digit])"
      ],
      "metadata": {
        "id": "YcJch5O3fWnc"
      },
      "execution_count": null,
      "outputs": []
    },
    {
      "cell_type": "code",
      "source": [
        "# removing least frequent words"
      ],
      "metadata": {
        "id": "3Dgw_IDCmX0a"
      },
      "execution_count": null,
      "outputs": []
    },
    {
      "cell_type": "code",
      "source": [
        "colmeans = pd.DataFrame(data_bow.mean(axis=0)).reset_index()\n",
        "data_bow1 = data_bow[data_bow.columns[(colmeans[0]>0.01) & (colmeans[0]<0.5)]]"
      ],
      "metadata": {
        "id": "FdUv_tQcfoKQ"
      },
      "execution_count": null,
      "outputs": []
    },
    {
      "cell_type": "markdown",
      "source": [
        "# Bag of Words - contrastive"
      ],
      "metadata": {
        "id": "W5321UmNvJA7"
      }
    },
    {
      "cell_type": "code",
      "source": [
        "X_train, X_test, y_train, y_test = train_test_split(data_bow, y_cat, test_size=0.5, random_state=42)\n",
        "X_train = np.array(X_train.reset_index(drop=True))\n",
        "X_test = np.array(X_test.reset_index(drop=True))\n",
        "X_train_tensor = tf.convert_to_tensor(X_train)\n",
        "X_test_tensor = tf.convert_to_tensor(X_test)"
      ],
      "metadata": {
        "id": "0Zp_C6KCwJJn"
      },
      "execution_count": null,
      "outputs": []
    },
    {
      "cell_type": "code",
      "source": [
        "X_train_tensor.shape"
      ],
      "metadata": {
        "colab": {
          "base_uri": "https://localhost:8080/"
        },
        "id": "-6m8hux06Sid",
        "outputId": "04038595-cb8f-4ba7-d136-698f4b0981c6"
      },
      "execution_count": null,
      "outputs": [
        {
          "output_type": "execute_result",
          "data": {
            "text/plain": [
              "TensorShape([1000, 318])"
            ]
          },
          "metadata": {},
          "execution_count": 260
        }
      ]
    },
    {
      "cell_type": "code",
      "source": [
        "def encoder_fn(input_shape):\n",
        "    input = layers.Input((len_bag,))\n",
        "    x = tf.keras.layers.BatchNormalization()(input)\n",
        "    x = layers.Dense(512)(x)\n",
        "    x = layers.Dense(128)(x)\n",
        "    outputlayer = layers.Dense(128, activation='relu')(x)\n",
        "\n",
        "    embedding_network = tf.keras.Model(input, outputlayer)\n",
        " \n",
        "    model = Model(inputs=input, outputs=outputlayer)\n",
        "    return model\n",
        "\n",
        "def add_projection_head(input_shape, encoder):\n",
        "    inputs = layers.Input(shape=input_shape, name='inputs')\n",
        "    features = encoder(inputs)\n",
        "    outputs = layers.Dense(64, activation='relu', \n",
        "                      name='projection_head', \n",
        "                      dtype='float32')(features)\n",
        "    \n",
        "    model = Model(inputs=inputs, outputs=outputs)\n",
        "    return model"
      ],
      "metadata": {
        "id": "LYdSu1sOzP7W"
      },
      "execution_count": null,
      "outputs": []
    },
    {
      "cell_type": "code",
      "source": [
        "def classifier_fn(input_shape, encoder, trainable=False):\n",
        "    for layer in encoder.layers:\n",
        "        layer.trainable = trainable\n",
        "        \n",
        "    inputs = layers.Input(shape=input_shape, name='inputs')\n",
        "    \n",
        "    features = encoder(inputs)\n",
        "    outputs = layers.Dense(2, activation='softmax', \n",
        "                      name='outputs', dtype='float32')(features)\n",
        "\n",
        "    model = Model(inputs=inputs, outputs=outputs)\n",
        "    return model"
      ],
      "metadata": {
        "id": "tItNmxV9zQx6"
      },
      "execution_count": null,
      "outputs": []
    },
    {
      "cell_type": "code",
      "source": [
        "class SupervisedContrastiveLoss(losses.Loss):\n",
        "    def __init__(self, temperature=0.1, name=None):\n",
        "        super(SupervisedContrastiveLoss, self).__init__(name=name)\n",
        "        self.temperature = temperature\n",
        "\n",
        "    def __call__(self, labels, ft_vectors, sample_weight=None):\n",
        "        # Normalize feature vectors\n",
        "        ft_vec_normalized = tf.math.l2_normalize(ft_vectors, axis=1)\n",
        "        print(ft_vec_normalized.shape)\n",
        "        # Compute logits\n",
        "        logits = tf.divide(\n",
        "            tf.matmul(ft_vec_normalized, \n",
        "                      tf.transpose(ft_vec_normalized)\n",
        "            ), self.temperature\n",
        "        )\n",
        "        return tfa.losses.npairs_loss(tf.squeeze(labels), logits)"
      ],
      "metadata": {
        "id": "vHvH6F99zWzH"
      },
      "execution_count": null,
      "outputs": []
    },
    {
      "cell_type": "code",
      "source": [
        "len_bag = X_train.shape[1]\n",
        "\n",
        "encoder = encoder_fn(len_bag) # Get the encoder\n",
        "encoder_proj = add_projection_head(len_bag,encoder)\n",
        "# Add the projection head to the encoder\n",
        "encoder_proj.compile(optimizer=tf.keras.optimizers.Adam(learning_rate=1e-4), \n",
        "loss=SupervisedContrastiveLoss(temperature=0.1))\n",
        "\n",
        "encoder_proj.fit(x=X_train_tensor, y=y_train,\n",
        "          validation_data=(X_test_tensor, y_test), \n",
        "          batch_size=32,\n",
        "          epochs=10)"
      ],
      "metadata": {
        "colab": {
          "base_uri": "https://localhost:8080/"
        },
        "id": "k7_f-VjMy-WX",
        "outputId": "fcd2500e-18a1-4c5b-dee0-e658ed299658"
      },
      "execution_count": null,
      "outputs": [
        {
          "output_type": "stream",
          "name": "stdout",
          "text": [
            "Epoch 1/10\n",
            "(None, 64)\n",
            "(None, 64)\n",
            "10/16 [=================>............] - ETA: 0s - loss: 5.0423(None, 64)\n",
            "16/16 [==============================] - 1s 23ms/step - loss: 4.9469 - val_loss: 4.7695\n",
            "Epoch 2/10\n",
            "16/16 [==============================] - 0s 13ms/step - loss: 4.4802 - val_loss: 4.4273\n",
            "Epoch 3/10\n",
            "16/16 [==============================] - 0s 13ms/step - loss: 4.1314 - val_loss: 4.1562\n",
            "Epoch 4/10\n",
            "16/16 [==============================] - 0s 12ms/step - loss: 3.9156 - val_loss: 3.9782\n",
            "Epoch 5/10\n",
            "16/16 [==============================] - 0s 13ms/step - loss: 3.7556 - val_loss: 3.8624\n",
            "Epoch 6/10\n",
            "16/16 [==============================] - 0s 12ms/step - loss: 3.6850 - val_loss: 3.7804\n",
            "Epoch 7/10\n",
            "16/16 [==============================] - 0s 12ms/step - loss: 3.6080 - val_loss: 3.7223\n",
            "Epoch 8/10\n",
            "16/16 [==============================] - 0s 10ms/step - loss: 3.5659 - val_loss: 3.6803\n",
            "Epoch 9/10\n",
            "16/16 [==============================] - 0s 13ms/step - loss: 3.5273 - val_loss: 3.6480\n",
            "Epoch 10/10\n",
            "16/16 [==============================] - 0s 11ms/step - loss: 3.4845 - val_loss: 3.6217\n"
          ]
        },
        {
          "output_type": "execute_result",
          "data": {
            "text/plain": [
              "<keras.callbacks.History at 0x7fd091342f90>"
            ]
          },
          "metadata": {},
          "execution_count": 191
        }
      ]
    },
    {
      "cell_type": "code",
      "source": [
        "model = classifier_fn((len_bag,), \n",
        "                          encoder, # trained encoder\n",
        "                          trainable=False) # with frozen weights\n",
        "\n",
        "model.compile(optimizer=tf.keras.optimizers.Adam(learning_rate=2e-4),\n",
        "                  loss=losses.SparseCategoricalCrossentropy(), \n",
        "                  metrics=[tf.keras.metrics.CategoricalAccuracy()])\n",
        "\n",
        "model.fit(x=X_train_tensor, y=y_train,\n",
        "          validation_data=(X_test_tensor, y_test), \n",
        "          batch_size=8,\n",
        "          epochs=20)"
      ],
      "metadata": {
        "colab": {
          "base_uri": "https://localhost:8080/"
        },
        "id": "P8wnWsVy0jrD",
        "outputId": "4005f032-ab7a-462f-b127-bd6a6483df0e"
      },
      "execution_count": null,
      "outputs": [
        {
          "output_type": "stream",
          "name": "stdout",
          "text": [
            "Epoch 1/20\n",
            "63/63 [==============================] - 1s 7ms/step - loss: 0.7830 - categorical_accuracy: 0.8060 - val_loss: 0.7655 - val_categorical_accuracy: 0.7200\n",
            "Epoch 2/20\n",
            "63/63 [==============================] - 0s 4ms/step - loss: 0.7170 - categorical_accuracy: 0.6480 - val_loss: 0.7271 - val_categorical_accuracy: 0.6120\n",
            "Epoch 3/20\n",
            "63/63 [==============================] - 0s 4ms/step - loss: 0.6839 - categorical_accuracy: 0.5440 - val_loss: 0.7081 - val_categorical_accuracy: 0.5320\n",
            "Epoch 4/20\n",
            "63/63 [==============================] - 0s 4ms/step - loss: 0.6647 - categorical_accuracy: 0.4820 - val_loss: 0.6948 - val_categorical_accuracy: 0.4860\n",
            "Epoch 5/20\n",
            "63/63 [==============================] - 0s 4ms/step - loss: 0.6512 - categorical_accuracy: 0.4540 - val_loss: 0.6850 - val_categorical_accuracy: 0.4680\n",
            "Epoch 6/20\n",
            "63/63 [==============================] - 0s 5ms/step - loss: 0.6392 - categorical_accuracy: 0.4520 - val_loss: 0.6768 - val_categorical_accuracy: 0.4660\n",
            "Epoch 7/20\n",
            "63/63 [==============================] - 0s 4ms/step - loss: 0.6292 - categorical_accuracy: 0.4380 - val_loss: 0.6688 - val_categorical_accuracy: 0.4640\n",
            "Epoch 8/20\n",
            "63/63 [==============================] - 0s 5ms/step - loss: 0.6197 - categorical_accuracy: 0.4340 - val_loss: 0.6614 - val_categorical_accuracy: 0.4580\n",
            "Epoch 9/20\n",
            "63/63 [==============================] - 0s 4ms/step - loss: 0.6103 - categorical_accuracy: 0.4620 - val_loss: 0.6548 - val_categorical_accuracy: 0.4700\n",
            "Epoch 10/20\n",
            "63/63 [==============================] - 0s 4ms/step - loss: 0.6008 - categorical_accuracy: 0.4760 - val_loss: 0.6485 - val_categorical_accuracy: 0.4620\n",
            "Epoch 11/20\n",
            "63/63 [==============================] - 0s 5ms/step - loss: 0.5928 - categorical_accuracy: 0.4460 - val_loss: 0.6428 - val_categorical_accuracy: 0.4540\n",
            "Epoch 12/20\n",
            "63/63 [==============================] - 0s 5ms/step - loss: 0.5844 - categorical_accuracy: 0.4560 - val_loss: 0.6366 - val_categorical_accuracy: 0.4700\n",
            "Epoch 13/20\n",
            "63/63 [==============================] - 0s 5ms/step - loss: 0.5779 - categorical_accuracy: 0.4780 - val_loss: 0.6318 - val_categorical_accuracy: 0.4800\n",
            "Epoch 14/20\n",
            "63/63 [==============================] - 0s 5ms/step - loss: 0.5698 - categorical_accuracy: 0.4700 - val_loss: 0.6271 - val_categorical_accuracy: 0.4680\n",
            "Epoch 15/20\n",
            "63/63 [==============================] - 0s 5ms/step - loss: 0.5639 - categorical_accuracy: 0.4560 - val_loss: 0.6226 - val_categorical_accuracy: 0.4640\n",
            "Epoch 16/20\n",
            "63/63 [==============================] - 0s 5ms/step - loss: 0.5566 - categorical_accuracy: 0.4520 - val_loss: 0.6183 - val_categorical_accuracy: 0.4740\n",
            "Epoch 17/20\n",
            "63/63 [==============================] - 0s 4ms/step - loss: 0.5507 - categorical_accuracy: 0.4620 - val_loss: 0.6140 - val_categorical_accuracy: 0.4720\n",
            "Epoch 18/20\n",
            "63/63 [==============================] - 0s 5ms/step - loss: 0.5449 - categorical_accuracy: 0.4740 - val_loss: 0.6103 - val_categorical_accuracy: 0.4780\n",
            "Epoch 19/20\n",
            "63/63 [==============================] - 0s 5ms/step - loss: 0.5391 - categorical_accuracy: 0.4760 - val_loss: 0.6068 - val_categorical_accuracy: 0.4740\n",
            "Epoch 20/20\n",
            "63/63 [==============================] - 0s 4ms/step - loss: 0.5336 - categorical_accuracy: 0.4760 - val_loss: 0.6035 - val_categorical_accuracy: 0.4740\n"
          ]
        },
        {
          "output_type": "execute_result",
          "data": {
            "text/plain": [
              "<keras.callbacks.History at 0x7fd04e970750>"
            ]
          },
          "metadata": {},
          "execution_count": 193
        }
      ]
    },
    {
      "cell_type": "code",
      "source": [
        "y_test_pred = model.predict(X_test_tensor)\n",
        "results = pd.DataFrame(y_test_pred)\n",
        "results[\"true\"] = y_test\n",
        "results.iloc[:20,:]"
      ],
      "metadata": {
        "colab": {
          "base_uri": "https://localhost:8080/",
          "height": 694
        },
        "id": "vEfCb6WSzHMx",
        "outputId": "664260d0-1fbc-46d9-dbbb-881e8d5f63e0"
      },
      "execution_count": null,
      "outputs": [
        {
          "output_type": "stream",
          "name": "stdout",
          "text": [
            "4/4 [==============================] - 0s 5ms/step\n"
          ]
        },
        {
          "output_type": "execute_result",
          "data": {
            "text/plain": [
              "           0         1  true\n",
              "0   0.348295  0.651705   1.0\n",
              "1   0.630147  0.369853   0.0\n",
              "2   0.634576  0.365424   1.0\n",
              "3   0.621667  0.378333   0.0\n",
              "4   0.539949  0.460051   1.0\n",
              "5   0.575870  0.424130   1.0\n",
              "6   0.657453  0.342547   0.0\n",
              "7   0.644907  0.355093   0.0\n",
              "8   0.533194  0.466805   0.0\n",
              "9   0.513205  0.486795   1.0\n",
              "10  0.540953  0.459047   0.0\n",
              "11  0.693057  0.306943   0.0\n",
              "12  0.718239  0.281761   0.0\n",
              "13  0.688322  0.311678   0.0\n",
              "14  0.573717  0.426283   1.0\n",
              "15  0.515554  0.484445   0.0\n",
              "16  0.653033  0.346967   0.0\n",
              "17  0.579568  0.420432   0.0\n",
              "18  0.366198  0.633802   0.0\n",
              "19  0.747778  0.252223   0.0"
            ],
            "text/html": [
              "\n",
              "  <div id=\"df-0781d610-de53-4398-ac24-6105b077e42d\">\n",
              "    <div class=\"colab-df-container\">\n",
              "      <div>\n",
              "<style scoped>\n",
              "    .dataframe tbody tr th:only-of-type {\n",
              "        vertical-align: middle;\n",
              "    }\n",
              "\n",
              "    .dataframe tbody tr th {\n",
              "        vertical-align: top;\n",
              "    }\n",
              "\n",
              "    .dataframe thead th {\n",
              "        text-align: right;\n",
              "    }\n",
              "</style>\n",
              "<table border=\"1\" class=\"dataframe\">\n",
              "  <thead>\n",
              "    <tr style=\"text-align: right;\">\n",
              "      <th></th>\n",
              "      <th>0</th>\n",
              "      <th>1</th>\n",
              "      <th>true</th>\n",
              "    </tr>\n",
              "  </thead>\n",
              "  <tbody>\n",
              "    <tr>\n",
              "      <th>0</th>\n",
              "      <td>0.348295</td>\n",
              "      <td>0.651705</td>\n",
              "      <td>1.0</td>\n",
              "    </tr>\n",
              "    <tr>\n",
              "      <th>1</th>\n",
              "      <td>0.630147</td>\n",
              "      <td>0.369853</td>\n",
              "      <td>0.0</td>\n",
              "    </tr>\n",
              "    <tr>\n",
              "      <th>2</th>\n",
              "      <td>0.634576</td>\n",
              "      <td>0.365424</td>\n",
              "      <td>1.0</td>\n",
              "    </tr>\n",
              "    <tr>\n",
              "      <th>3</th>\n",
              "      <td>0.621667</td>\n",
              "      <td>0.378333</td>\n",
              "      <td>0.0</td>\n",
              "    </tr>\n",
              "    <tr>\n",
              "      <th>4</th>\n",
              "      <td>0.539949</td>\n",
              "      <td>0.460051</td>\n",
              "      <td>1.0</td>\n",
              "    </tr>\n",
              "    <tr>\n",
              "      <th>5</th>\n",
              "      <td>0.575870</td>\n",
              "      <td>0.424130</td>\n",
              "      <td>1.0</td>\n",
              "    </tr>\n",
              "    <tr>\n",
              "      <th>6</th>\n",
              "      <td>0.657453</td>\n",
              "      <td>0.342547</td>\n",
              "      <td>0.0</td>\n",
              "    </tr>\n",
              "    <tr>\n",
              "      <th>7</th>\n",
              "      <td>0.644907</td>\n",
              "      <td>0.355093</td>\n",
              "      <td>0.0</td>\n",
              "    </tr>\n",
              "    <tr>\n",
              "      <th>8</th>\n",
              "      <td>0.533194</td>\n",
              "      <td>0.466805</td>\n",
              "      <td>0.0</td>\n",
              "    </tr>\n",
              "    <tr>\n",
              "      <th>9</th>\n",
              "      <td>0.513205</td>\n",
              "      <td>0.486795</td>\n",
              "      <td>1.0</td>\n",
              "    </tr>\n",
              "    <tr>\n",
              "      <th>10</th>\n",
              "      <td>0.540953</td>\n",
              "      <td>0.459047</td>\n",
              "      <td>0.0</td>\n",
              "    </tr>\n",
              "    <tr>\n",
              "      <th>11</th>\n",
              "      <td>0.693057</td>\n",
              "      <td>0.306943</td>\n",
              "      <td>0.0</td>\n",
              "    </tr>\n",
              "    <tr>\n",
              "      <th>12</th>\n",
              "      <td>0.718239</td>\n",
              "      <td>0.281761</td>\n",
              "      <td>0.0</td>\n",
              "    </tr>\n",
              "    <tr>\n",
              "      <th>13</th>\n",
              "      <td>0.688322</td>\n",
              "      <td>0.311678</td>\n",
              "      <td>0.0</td>\n",
              "    </tr>\n",
              "    <tr>\n",
              "      <th>14</th>\n",
              "      <td>0.573717</td>\n",
              "      <td>0.426283</td>\n",
              "      <td>1.0</td>\n",
              "    </tr>\n",
              "    <tr>\n",
              "      <th>15</th>\n",
              "      <td>0.515554</td>\n",
              "      <td>0.484445</td>\n",
              "      <td>0.0</td>\n",
              "    </tr>\n",
              "    <tr>\n",
              "      <th>16</th>\n",
              "      <td>0.653033</td>\n",
              "      <td>0.346967</td>\n",
              "      <td>0.0</td>\n",
              "    </tr>\n",
              "    <tr>\n",
              "      <th>17</th>\n",
              "      <td>0.579568</td>\n",
              "      <td>0.420432</td>\n",
              "      <td>0.0</td>\n",
              "    </tr>\n",
              "    <tr>\n",
              "      <th>18</th>\n",
              "      <td>0.366198</td>\n",
              "      <td>0.633802</td>\n",
              "      <td>0.0</td>\n",
              "    </tr>\n",
              "    <tr>\n",
              "      <th>19</th>\n",
              "      <td>0.747778</td>\n",
              "      <td>0.252223</td>\n",
              "      <td>0.0</td>\n",
              "    </tr>\n",
              "  </tbody>\n",
              "</table>\n",
              "</div>\n",
              "      <button class=\"colab-df-convert\" onclick=\"convertToInteractive('df-0781d610-de53-4398-ac24-6105b077e42d')\"\n",
              "              title=\"Convert this dataframe to an interactive table.\"\n",
              "              style=\"display:none;\">\n",
              "        \n",
              "  <svg xmlns=\"http://www.w3.org/2000/svg\" height=\"24px\"viewBox=\"0 0 24 24\"\n",
              "       width=\"24px\">\n",
              "    <path d=\"M0 0h24v24H0V0z\" fill=\"none\"/>\n",
              "    <path d=\"M18.56 5.44l.94 2.06.94-2.06 2.06-.94-2.06-.94-.94-2.06-.94 2.06-2.06.94zm-11 1L8.5 8.5l.94-2.06 2.06-.94-2.06-.94L8.5 2.5l-.94 2.06-2.06.94zm10 10l.94 2.06.94-2.06 2.06-.94-2.06-.94-.94-2.06-.94 2.06-2.06.94z\"/><path d=\"M17.41 7.96l-1.37-1.37c-.4-.4-.92-.59-1.43-.59-.52 0-1.04.2-1.43.59L10.3 9.45l-7.72 7.72c-.78.78-.78 2.05 0 2.83L4 21.41c.39.39.9.59 1.41.59.51 0 1.02-.2 1.41-.59l7.78-7.78 2.81-2.81c.8-.78.8-2.07 0-2.86zM5.41 20L4 18.59l7.72-7.72 1.47 1.35L5.41 20z\"/>\n",
              "  </svg>\n",
              "      </button>\n",
              "      \n",
              "  <style>\n",
              "    .colab-df-container {\n",
              "      display:flex;\n",
              "      flex-wrap:wrap;\n",
              "      gap: 12px;\n",
              "    }\n",
              "\n",
              "    .colab-df-convert {\n",
              "      background-color: #E8F0FE;\n",
              "      border: none;\n",
              "      border-radius: 50%;\n",
              "      cursor: pointer;\n",
              "      display: none;\n",
              "      fill: #1967D2;\n",
              "      height: 32px;\n",
              "      padding: 0 0 0 0;\n",
              "      width: 32px;\n",
              "    }\n",
              "\n",
              "    .colab-df-convert:hover {\n",
              "      background-color: #E2EBFA;\n",
              "      box-shadow: 0px 1px 2px rgba(60, 64, 67, 0.3), 0px 1px 3px 1px rgba(60, 64, 67, 0.15);\n",
              "      fill: #174EA6;\n",
              "    }\n",
              "\n",
              "    [theme=dark] .colab-df-convert {\n",
              "      background-color: #3B4455;\n",
              "      fill: #D2E3FC;\n",
              "    }\n",
              "\n",
              "    [theme=dark] .colab-df-convert:hover {\n",
              "      background-color: #434B5C;\n",
              "      box-shadow: 0px 1px 3px 1px rgba(0, 0, 0, 0.15);\n",
              "      filter: drop-shadow(0px 1px 2px rgba(0, 0, 0, 0.3));\n",
              "      fill: #FFFFFF;\n",
              "    }\n",
              "  </style>\n",
              "\n",
              "      <script>\n",
              "        const buttonEl =\n",
              "          document.querySelector('#df-0781d610-de53-4398-ac24-6105b077e42d button.colab-df-convert');\n",
              "        buttonEl.style.display =\n",
              "          google.colab.kernel.accessAllowed ? 'block' : 'none';\n",
              "\n",
              "        async function convertToInteractive(key) {\n",
              "          const element = document.querySelector('#df-0781d610-de53-4398-ac24-6105b077e42d');\n",
              "          const dataTable =\n",
              "            await google.colab.kernel.invokeFunction('convertToInteractive',\n",
              "                                                     [key], {});\n",
              "          if (!dataTable) return;\n",
              "\n",
              "          const docLinkHtml = 'Like what you see? Visit the ' +\n",
              "            '<a target=\"_blank\" href=https://colab.research.google.com/notebooks/data_table.ipynb>data table notebook</a>'\n",
              "            + ' to learn more about interactive tables.';\n",
              "          element.innerHTML = '';\n",
              "          dataTable['output_type'] = 'display_data';\n",
              "          await google.colab.output.renderOutput(dataTable, element);\n",
              "          const docLink = document.createElement('div');\n",
              "          docLink.innerHTML = docLinkHtml;\n",
              "          element.appendChild(docLink);\n",
              "        }\n",
              "      </script>\n",
              "    </div>\n",
              "  </div>\n",
              "  "
            ]
          },
          "metadata": {},
          "execution_count": 117
        }
      ]
    },
    {
      "cell_type": "markdown",
      "source": [
        "# Bag-of-Words with MLP"
      ],
      "metadata": {
        "id": "NeEnVp1V-e36"
      }
    },
    {
      "cell_type": "code",
      "source": [
        "colmeans = pd.DataFrame(data_bow.mean(axis=0)).reset_index()\n",
        "data_bow1 = data_bow[data_bow.columns[(colmeans[0]>0.01) & (colmeans[0]<0.5)]]\n",
        "y = np.asarray(df.iloc[:,1])\n",
        "y[y==\"positive\"] = 1\n",
        "y[y==\"negative\"] = 0\n",
        "y = y.reshape(-1,1).astype('float32')"
      ],
      "metadata": {
        "id": "KJABSTl8E1CV"
      },
      "execution_count": null,
      "outputs": []
    },
    {
      "cell_type": "code",
      "source": [
        "np.sum(y)/len(y)"
      ],
      "metadata": {
        "colab": {
          "base_uri": "https://localhost:8080/"
        },
        "id": "BfdBKjpYdxTp",
        "outputId": "f8b45d9c-b476-435b-c835-86644c8ffb9f"
      },
      "execution_count": null,
      "outputs": [
        {
          "output_type": "execute_result",
          "data": {
            "text/plain": [
              "0.5025"
            ]
          },
          "metadata": {},
          "execution_count": 20
        }
      ]
    },
    {
      "cell_type": "code",
      "source": [
        "y_bat = to_categorical(y)\n",
        "X_train, X_rest, y_train, y_rest = train_test_split(data_bow1, y_bat, test_size=0.9)\n",
        "X_valid, X_test, y_valid, y_test = train_test_split(X_rest, y_rest, test_size=0.6)\n",
        "X_train = np.array(X_train.reset_index(drop=True))\n",
        "X_test = np.array(X_test.reset_index(drop=True))\n",
        "X_valid = np.array(X_valid.reset_index(drop=True))"
      ],
      "metadata": {
        "id": "5NYoOAD6-2JB"
      },
      "execution_count": null,
      "outputs": []
    },
    {
      "cell_type": "code",
      "source": [
        "X_train_tensor = tf.convert_to_tensor(X_train)\n",
        "X_test_tensor = tf.convert_to_tensor(X_test)\n",
        "X_valid_tensor = tf.convert_to_tensor(X_valid)"
      ],
      "metadata": {
        "id": "TBb6soenDEm5"
      },
      "execution_count": null,
      "outputs": []
    },
    {
      "cell_type": "code",
      "source": [
        "X_train.shape"
      ],
      "metadata": {
        "colab": {
          "base_uri": "https://localhost:8080/"
        },
        "id": "ONUX3YTTDPk6",
        "outputId": "20a813fa-c80d-46fb-920a-033559409c11"
      },
      "execution_count": null,
      "outputs": [
        {
          "output_type": "execute_result",
          "data": {
            "text/plain": [
              "(200, 1601)"
            ]
          },
          "metadata": {},
          "execution_count": 11
        }
      ]
    },
    {
      "cell_type": "code",
      "source": [
        "model = Sequential()\n",
        "model.add(Dense(512, input_shape=(X_train.shape[1],)))\n",
        "model.add(Dropout(.2))\n",
        "model.add(Dense(256))\n",
        "model.add(Dropout(.2))\n",
        "model.add(Dense(128))\n",
        "model.add(Dropout(.2))\n",
        "model.add(Dense(64))\n",
        "model.add(Dense(2, activation=tf.keras.activations.softmax))"
      ],
      "metadata": {
        "id": "KAMqWoIV-eHH"
      },
      "execution_count": null,
      "outputs": []
    },
    {
      "cell_type": "code",
      "source": [
        "model.compile(optimizer=tf.keras.optimizers.Adam(learning_rate=1e-4), loss='binary_crossentropy', metrics=['accuracy'])"
      ],
      "metadata": {
        "id": "HxKfCb-I-lya"
      },
      "execution_count": null,
      "outputs": []
    },
    {
      "cell_type": "code",
      "source": [
        "%%time\n",
        "model.fit(X_train, y_train, epochs=15, batch_size=64, validation_data=(X_valid,y_valid))"
      ],
      "metadata": {
        "colab": {
          "base_uri": "https://localhost:8080/"
        },
        "id": "3WJAJTMI-n4t",
        "outputId": "3f64ef54-afbb-40d3-8dde-21489ad2b7c3"
      },
      "execution_count": null,
      "outputs": [
        {
          "output_type": "stream",
          "name": "stdout",
          "text": [
            "Epoch 1/15\n",
            "4/4 [==============================] - 1s 89ms/step - loss: 0.7410 - accuracy: 0.5000 - val_loss: 0.7002 - val_accuracy: 0.5542\n",
            "Epoch 2/15\n",
            "4/4 [==============================] - 0s 37ms/step - loss: 0.6813 - accuracy: 0.6150 - val_loss: 0.6863 - val_accuracy: 0.5819\n",
            "Epoch 3/15\n",
            "4/4 [==============================] - 0s 39ms/step - loss: 0.6333 - accuracy: 0.6900 - val_loss: 0.6738 - val_accuracy: 0.6208\n",
            "Epoch 4/15\n",
            "4/4 [==============================] - 0s 36ms/step - loss: 0.5986 - accuracy: 0.7200 - val_loss: 0.6627 - val_accuracy: 0.6514\n",
            "Epoch 5/15\n",
            "4/4 [==============================] - 0s 36ms/step - loss: 0.5659 - accuracy: 0.8100 - val_loss: 0.6524 - val_accuracy: 0.6653\n",
            "Epoch 6/15\n",
            "4/4 [==============================] - 0s 37ms/step - loss: 0.5343 - accuracy: 0.8450 - val_loss: 0.6414 - val_accuracy: 0.6944\n",
            "Epoch 7/15\n",
            "4/4 [==============================] - 0s 37ms/step - loss: 0.5020 - accuracy: 0.8800 - val_loss: 0.6306 - val_accuracy: 0.7069\n",
            "Epoch 8/15\n",
            "4/4 [==============================] - 0s 43ms/step - loss: 0.4718 - accuracy: 0.9400 - val_loss: 0.6201 - val_accuracy: 0.7097\n",
            "Epoch 9/15\n",
            "4/4 [==============================] - 0s 38ms/step - loss: 0.4327 - accuracy: 0.9500 - val_loss: 0.6105 - val_accuracy: 0.7111\n",
            "Epoch 10/15\n",
            "4/4 [==============================] - 0s 43ms/step - loss: 0.4103 - accuracy: 0.9250 - val_loss: 0.6015 - val_accuracy: 0.7208\n",
            "Epoch 11/15\n",
            "4/4 [==============================] - 0s 38ms/step - loss: 0.3826 - accuracy: 0.9450 - val_loss: 0.5919 - val_accuracy: 0.7319\n",
            "Epoch 12/15\n",
            "4/4 [==============================] - 0s 37ms/step - loss: 0.3374 - accuracy: 0.9700 - val_loss: 0.5830 - val_accuracy: 0.7319\n",
            "Epoch 13/15\n",
            "4/4 [==============================] - 0s 37ms/step - loss: 0.3106 - accuracy: 0.9700 - val_loss: 0.5767 - val_accuracy: 0.7403\n",
            "Epoch 14/15\n",
            "4/4 [==============================] - 0s 36ms/step - loss: 0.2755 - accuracy: 0.9700 - val_loss: 0.5713 - val_accuracy: 0.7375\n",
            "Epoch 15/15\n",
            "4/4 [==============================] - 0s 37ms/step - loss: 0.2502 - accuracy: 0.9800 - val_loss: 0.5678 - val_accuracy: 0.7417\n",
            "CPU times: user 3.65 s, sys: 163 ms, total: 3.81 s\n",
            "Wall time: 3.43 s\n"
          ]
        },
        {
          "output_type": "execute_result",
          "data": {
            "text/plain": [
              "<keras.callbacks.History at 0x7fd0da7ca350>"
            ]
          },
          "metadata": {},
          "execution_count": 469
        }
      ]
    },
    {
      "cell_type": "code",
      "source": [
        "y_hat = model.predict(X_test)\n",
        "y_hat_labels = np.array([np.argmax(y_i) for y_i in y_hat])\n",
        "y_test_labels = np.array([np.argmax(y_i) for y_i in y_test])\n",
        "np.mean(y_hat_labels == y_test_labels)"
      ],
      "metadata": {
        "colab": {
          "base_uri": "https://localhost:8080/"
        },
        "id": "Poqb04UQ-rZa",
        "outputId": "86b10dde-20c1-4984-dd84-409282eca2ae"
      },
      "execution_count": null,
      "outputs": [
        {
          "output_type": "stream",
          "name": "stdout",
          "text": [
            "34/34 [==============================] - 0s 4ms/step\n"
          ]
        },
        {
          "output_type": "execute_result",
          "data": {
            "text/plain": [
              "0.7277777777777777"
            ]
          },
          "metadata": {},
          "execution_count": 470
        }
      ]
    },
    {
      "cell_type": "code",
      "source": [
        "X_test.shape"
      ],
      "metadata": {
        "colab": {
          "base_uri": "https://localhost:8080/"
        },
        "id": "FcQ59uEJJlXW",
        "outputId": "d3f5aff7-48db-4bad-a5b0-fb3e2d4fc06b"
      },
      "execution_count": null,
      "outputs": [
        {
          "output_type": "execute_result",
          "data": {
            "text/plain": [
              "(1080, 1601)"
            ]
          },
          "metadata": {},
          "execution_count": 471
        }
      ]
    },
    {
      "cell_type": "markdown",
      "source": [
        "# Plots"
      ],
      "metadata": {
        "id": "G8Tqg4GXKAQr"
      }
    },
    {
      "cell_type": "code",
      "source": [
        "n = np.arange(100,1001,10)\n",
        "sizes = 2000 - n\n",
        "accs = []"
      ],
      "metadata": {
        "id": "TW7kRUbtJ_oz"
      },
      "execution_count": null,
      "outputs": []
    },
    {
      "cell_type": "code",
      "source": [
        "%%time\n",
        "for s in sizes:\n",
        "    temp = []\n",
        "    for i in range(3):\n",
        "        X_train, X_rest, y_train, y_rest = train_test_split(data_bow1, y_bat, test_size=s)\n",
        "        X_valid, X_test, y_valid, y_test = train_test_split(X_rest, y_rest, test_size=0.6)\n",
        "        X_train = np.array(X_train.reset_index(drop=True))\n",
        "        X_test = np.array(X_test.reset_index(drop=True))\n",
        "        X_valid = np.array(X_valid.reset_index(drop=True))\n",
        "        model = Sequential()\n",
        "        model.add(Dense(512, input_shape=(X_train.shape[1],)))\n",
        "        model.add(Dropout(.2))\n",
        "        model.add(Dense(256))\n",
        "        model.add(Dropout(.2))\n",
        "        model.add(Dense(128))\n",
        "        model.add(Dropout(.2))\n",
        "        model.add(Dense(64))\n",
        "        model.add(Dense(2, activation=tf.keras.activations.softmax))\n",
        "        model.compile(optimizer=tf.keras.optimizers.Adam(learning_rate=1e-4), loss='binary_crossentropy', metrics=['accuracy'])\n",
        "        model.fit(X_train, y_train, epochs=15, batch_size=64, validation_data=(X_valid,y_valid),verbose=0)\n",
        "        y_hat = model.predict(X_test)\n",
        "        y_hat_labels = np.array([np.argmax(y_i) for y_i in y_hat])\n",
        "        y_test_labels = np.array([np.argmax(y_i) for y_i in y_test])\n",
        "        temp.append(np.mean(y_hat_labels == y_test_labels))\n",
        "    accs.append(np.mean(np.array(temp)))"
      ],
      "metadata": {
        "id": "wSSF2pPZKotj"
      },
      "execution_count": null,
      "outputs": []
    },
    {
      "cell_type": "code",
      "source": [
        "import matplotlib.pyplot as plt"
      ],
      "metadata": {
        "id": "hqQjtyznLPd4"
      },
      "execution_count": null,
      "outputs": []
    },
    {
      "cell_type": "code",
      "source": [
        "# bag-of-words model accuray for different sizes of training dataset"
      ],
      "metadata": {
        "id": "RmIOe8jRk0HQ"
      },
      "execution_count": null,
      "outputs": []
    },
    {
      "cell_type": "code",
      "source": [
        "plt.plot(n,accs)\n",
        "plt.xlabel('n train')\n",
        "plt.ylabel('acc')\n",
        "plt.show()"
      ],
      "metadata": {
        "colab": {
          "base_uri": "https://localhost:8080/",
          "height": 279
        },
        "id": "4whKg-aVL-Qq",
        "outputId": "6a0af823-1fbb-4b55-e1a3-9f684b4f2538"
      },
      "execution_count": null,
      "outputs": [
        {
          "output_type": "display_data",
          "data": {
            "text/plain": [
              "<Figure size 432x288 with 1 Axes>"
            ],
            "image/png": "[encoded data removed]"
          },
          "metadata": {
            "needs_background": "light"
          }
        }
      ]
    },
    {
      "cell_type": "code",
      "source": [
        "ps = [0.01,0.015,0.02,0.03,0.05,0.07,0.1]\n",
        "accs2 = []"
      ],
      "metadata": {
        "id": "BOFZ03mFfVzo"
      },
      "execution_count": null,
      "outputs": []
    },
    {
      "cell_type": "code",
      "source": [
        "%%time\n",
        "for p in ps:\n",
        "    temp = []\n",
        "    for i in range(3):\n",
        "        data_bow1 = data_bow[data_bow.columns[(colmeans[0]>p) & (colmeans[0]<0.5)]]\n",
        "        X_train, X_rest, y_train, y_rest = train_test_split(data_bow1, y_bat, test_size=0.8)\n",
        "        X_valid, X_test, y_valid, y_test = train_test_split(X_rest, y_rest, test_size=0.6)\n",
        "        X_train = np.array(X_train.reset_index(drop=True))\n",
        "        X_test = np.array(X_test.reset_index(drop=True))\n",
        "        X_valid = np.array(X_valid.reset_index(drop=True))\n",
        "        model = Sequential()\n",
        "        model.add(Dense(512, input_shape=(X_train.shape[1],)))\n",
        "        model.add(Dropout(.2))\n",
        "        model.add(Dense(256))\n",
        "        model.add(Dropout(.2))\n",
        "        model.add(Dense(128))\n",
        "        model.add(Dropout(.2))\n",
        "        model.add(Dense(64))\n",
        "        model.add(Dense(2, activation=tf.keras.activations.softmax))\n",
        "        model.compile(optimizer=tf.keras.optimizers.Adam(learning_rate=1e-4), loss='binary_crossentropy', metrics=['accuracy'])\n",
        "        model.fit(X_train, y_train, epochs=15, batch_size=64, validation_data=(X_valid,y_valid),verbose=0)\n",
        "        y_hat = model.predict(X_test)\n",
        "        y_hat_labels = np.array([np.argmax(y_i) for y_i in y_hat])\n",
        "        y_test_labels = np.array([np.argmax(y_i) for y_i in y_test])\n",
        "        temp.append(np.mean(y_hat_labels == y_test_labels))\n",
        "    accs2.append(np.mean(np.array(temp)))"
      ],
      "metadata": {
        "colab": {
          "base_uri": "https://localhost:8080/"
        },
        "id": "khLwCAnlfZGf",
        "outputId": "92cc87c6-9871-4ba0-ee61-346774d4afbd"
      },
      "execution_count": null,
      "outputs": [
        {
          "output_type": "stream",
          "name": "stdout",
          "text": [
            "30/30 [==============================] - 0s 3ms/step\n",
            "CPU times: user 1min 21s, sys: 3.56 s, total: 1min 25s\n",
            "Wall time: 1min 31s\n"
          ]
        }
      ]
    },
    {
      "cell_type": "code",
      "source": [
        "# bag-of-words model accuray for different least occuring words cutoff thresholds"
      ],
      "metadata": {
        "id": "rLykbDujk91l"
      },
      "execution_count": null,
      "outputs": []
    },
    {
      "cell_type": "code",
      "source": [
        "plt.plot(ps,accs2)\n",
        "plt.xlabel('cutoff')\n",
        "plt.ylabel('acc')\n",
        "plt.show()"
      ],
      "metadata": {
        "colab": {
          "base_uri": "https://localhost:8080/",
          "height": 279
        },
        "id": "-Q-nRY7al2Uv",
        "outputId": "84963672-1103-47c0-a57f-d6e01f0df8d1"
      },
      "execution_count": null,
      "outputs": [
        {
          "output_type": "display_data",
          "data": {
            "text/plain": [
              "<Figure size 432x288 with 1 Axes>"
            ],
            "image/png": "[encoded data removed]"
          },
          "metadata": {
            "needs_background": "light"
          }
        }
      ]
    },
    {
      "cell_type": "code",
      "source": [
        "ps = [0.01,0.015,0.02,0.03,0.05,0.07,0.1]\n",
        "bow_len = []\n",
        "for p in ps:\n",
        "    data_bow1 = data_bow[data_bow.columns[(colmeans[0]>p) & (colmeans[0]<0.5)]]\n",
        "    bow_len.append(len(data_bow1.columns))"
      ],
      "metadata": {
        "id": "OwuCrpibfqKe"
      },
      "execution_count": null,
      "outputs": []
    },
    {
      "cell_type": "code",
      "source": [
        "# bag-of-words vector columns for different least occuring words cutoff thresholds"
      ],
      "metadata": {
        "id": "-fMWWhjglGUV"
      },
      "execution_count": null,
      "outputs": []
    },
    {
      "cell_type": "code",
      "source": [
        "plt.plot(ps,bow_len)\n",
        "plt.xlabel('cutoff')\n",
        "plt.ylabel('number of columns')\n",
        "plt.show()"
      ],
      "metadata": {
        "colab": {
          "base_uri": "https://localhost:8080/",
          "height": 279
        },
        "id": "oCpdqziZgj9g",
        "outputId": "4ba71db6-eee1-4673-ddef-edbbab302b57"
      },
      "execution_count": null,
      "outputs": [
        {
          "output_type": "display_data",
          "data": {
            "text/plain": [
              "<Figure size 432x288 with 1 Axes>"
            ],
            "image/png": "[encoded data removed]"
          },
          "metadata": {
            "needs_background": "light"
          }
        }
      ]
    },
    {
      "cell_type": "markdown",
      "source": [
        "# Bag-of-Words contrastive with double input and one MLP - experimental"
      ],
      "metadata": {
        "id": "PJ_JQJqnnIGx"
      }
    },
    {
      "cell_type": "code",
      "source": [
        "y = np.asarray(df.iloc[:,1])\n",
        "y[y==\"positive\"] = 1\n",
        "y[y==\"negative\"] = 0\n",
        "y = y.reshape(-1,1).astype('float32')"
      ],
      "metadata": {
        "id": "kyM--vmit0gh"
      },
      "execution_count": null,
      "outputs": []
    },
    {
      "cell_type": "code",
      "source": [
        "y_bat = to_categorical(y)\n",
        "X_train, X_rest, y_train, y_rest = train_test_split(data_bow1, y_bat, test_size=len(y_bat)-1000)\n",
        "X_train1, X_train2, y_train1, y_train2 = train_test_split(X_train, y_train, test_size=0.5)\n",
        "X_valid, X_test, y_valid, y_test = train_test_split(X_rest, y_rest, test_size=0.6)\n",
        "X_train = np.array(X_train.reset_index(drop=True))\n",
        "X_test = np.array(X_test.reset_index(drop=True))\n",
        "X_valid = np.array(X_valid.reset_index(drop=True))"
      ],
      "metadata": {
        "id": "iG53NDVqsnQp"
      },
      "execution_count": null,
      "outputs": []
    },
    {
      "cell_type": "code",
      "source": [
        "y_train_c = []\n",
        "for x1,x2,y1,y2 in zip(X_train1,X_train2,y_train1,y_train2):\n",
        "    if y1[0] == y2[0]:\n",
        "        y_train_c.append(1)\n",
        "    else:\n",
        "        y_train_c.append(0)"
      ],
      "metadata": {
        "id": "ZJOdKghLr8RP"
      },
      "execution_count": null,
      "outputs": []
    },
    {
      "cell_type": "code",
      "source": [
        "y_train_c = np.asarray(y_train_c)\n",
        "y_train_c = y_train_c.reshape(-1,1).astype('float32')\n",
        "y_train_c = to_categorical(y_train_c)"
      ],
      "metadata": {
        "id": "yDuKDKhrvKxB"
      },
      "execution_count": null,
      "outputs": []
    },
    {
      "cell_type": "code",
      "source": [
        "# input1 = Input(shape=(X_train1.shape[1],))\n",
        "# input2 = Input(shape=(X_train2.shape[1],))\n",
        "# a = Dense(512, activation=\"relu\")(input1)\n",
        "# a = Dropout(0.2)(a)\n",
        "# a = Dense(256, activation=\"relu\")(a)\n",
        "# a = Dropout(0.2)(a)\n",
        "# a = Dense(128, activation=\"relu\")(a)\n",
        "# a = Dropout(0.2)(a)\n",
        "# a = Dense(64, activation=\"relu\")(a)\n",
        "# a = Model(inputs=input1, outputs=a)\n",
        "# b = Dense(512, activation=\"relu\")(input2)\n",
        "# b = Dropout(0.2)(b)\n",
        "# b = Dense(256, activation=\"relu\")(b)\n",
        "# b = Dropout(0.2)(b)\n",
        "# b = Dense(128, activation=\"relu\")(b)\n",
        "# b = Dropout(0.2)(b)\n",
        "# b = Dense(64, activation=\"relu\")(b)\n",
        "# b = Model(inputs=input2, outputs=b)\n",
        "# combined = Concatenate()([a.output, b.output])\n",
        "# z = Dense(64, activation=\"relu\")(combined)\n",
        "# z = Dense(32, activation=\"relu\")(z)\n",
        "# z = Dense(2, activation=\"softmax\")(z)\n",
        "# model = Model(inputs=[a.input, b.input], outputs=z)"
      ],
      "metadata": {
        "id": "yFKdOrFanLic"
      },
      "execution_count": null,
      "outputs": []
    },
    {
      "cell_type": "code",
      "source": [
        "input1 = Input(shape=(X_train1.shape[1],))\n",
        "input2 = Input(shape=(X_train2.shape[1],))\n",
        "combined = Concatenate()([input1, input2])\n",
        "b = Dense(1024, activation=\"relu\")(combined)\n",
        "b = Dropout(0.2)(b)\n",
        "b = Dense(512, activation=\"relu\")(b)\n",
        "b = Dropout(0.2)(b)\n",
        "b = Dense(256, activation=\"relu\")(b)\n",
        "b = Dropout(0.2)(b)\n",
        "b = Dense(128, activation=\"relu\")(b)\n",
        "b = Dropout(0.2)(b)\n",
        "b = Dense(64, activation=\"relu\")(b)\n",
        "b = Dropout(0.2)(b)\n",
        "b = Dense(2, activation=\"softmax\")(b)\n",
        "model = Model(inputs=[input1, input2], outputs=b)"
      ],
      "metadata": {
        "id": "NTs9fQbxxM9w"
      },
      "execution_count": null,
      "outputs": []
    },
    {
      "cell_type": "code",
      "source": [
        "model.summary()"
      ],
      "metadata": {
        "colab": {
          "base_uri": "https://localhost:8080/"
        },
        "id": "7arFL9Y_Jx5F",
        "outputId": "eafadf8a-e8ce-4a5d-c38d-38ffe68979b4"
      },
      "execution_count": null,
      "outputs": [
        {
          "output_type": "stream",
          "name": "stdout",
          "text": [
            "Model: \"model_1\"\n",
            "__________________________________________________________________________________________________\n",
            " Layer (type)                   Output Shape         Param #     Connected to                     \n",
            "==================================================================================================\n",
            " input_3 (InputLayer)           [(None, 1601)]       0           []                               \n",
            "                                                                                                  \n",
            " input_4 (InputLayer)           [(None, 1601)]       0           []                               \n",
            "                                                                                                  \n",
            " concatenate_1 (Concatenate)    (None, 3202)         0           ['input_3[0][0]',                \n",
            "                                                                  'input_4[0][0]']                \n",
            "                                                                                                  \n",
            " dense_4 (Dense)                (None, 500)          1601500     ['concatenate_1[0][0]']          \n",
            "                                                                                                  \n",
            " dropout_3 (Dropout)            (None, 500)          0           ['dense_4[0][0]']                \n",
            "                                                                                                  \n",
            " dense_5 (Dense)                (None, 200)          100200      ['dropout_3[0][0]']              \n",
            "                                                                                                  \n",
            " dropout_4 (Dropout)            (None, 200)          0           ['dense_5[0][0]']                \n",
            "                                                                                                  \n",
            " dense_6 (Dense)                (None, 80)           16080       ['dropout_4[0][0]']              \n",
            "                                                                                                  \n",
            " dropout_5 (Dropout)            (None, 80)           0           ['dense_6[0][0]']                \n",
            "                                                                                                  \n",
            " dense_7 (Dense)                (None, 2)            162         ['dropout_5[0][0]']              \n",
            "                                                                                                  \n",
            "==================================================================================================\n",
            "Total params: 1,717,942\n",
            "Trainable params: 1,717,942\n",
            "Non-trainable params: 0\n",
            "__________________________________________________________________________________________________\n"
          ]
        }
      ]
    },
    {
      "cell_type": "code",
      "source": [
        "model.compile(optimizer=tf.keras.optimizers.Adam(learning_rate=1e-4), loss='binary_crossentropy', metrics=['accuracy'])"
      ],
      "metadata": {
        "id": "ApeQ-t9SQE6Q"
      },
      "execution_count": null,
      "outputs": []
    },
    {
      "cell_type": "code",
      "source": [
        "%%time\n",
        "model.fit([X_train1,X_train2], y_train_c, epochs=10, batch_size=64)"
      ],
      "metadata": {
        "colab": {
          "base_uri": "https://localhost:8080/"
        },
        "id": "NjX2Dk17UcL-",
        "outputId": "8cf4cfa9-38ee-4033-cefa-ef1fcc14afaf"
      },
      "execution_count": null,
      "outputs": [
        {
          "output_type": "stream",
          "name": "stdout",
          "text": [
            "Epoch 1/10\n",
            "8/8 [==============================] - 1s 21ms/step - loss: 0.6958 - accuracy: 0.5280\n",
            "Epoch 2/10\n",
            "8/8 [==============================] - 0s 22ms/step - loss: 0.6728 - accuracy: 0.6280\n",
            "Epoch 3/10\n",
            "8/8 [==============================] - 0s 21ms/step - loss: 0.6600 - accuracy: 0.6960\n",
            "Epoch 4/10\n",
            "8/8 [==============================] - 0s 21ms/step - loss: 0.6458 - accuracy: 0.7560\n",
            "Epoch 5/10\n",
            "8/8 [==============================] - 0s 20ms/step - loss: 0.6252 - accuracy: 0.7900\n",
            "Epoch 6/10\n",
            "8/8 [==============================] - 0s 23ms/step - loss: 0.5983 - accuracy: 0.8600\n",
            "Epoch 7/10\n",
            "8/8 [==============================] - 0s 22ms/step - loss: 0.5735 - accuracy: 0.8920\n",
            "Epoch 8/10\n",
            "8/8 [==============================] - 0s 21ms/step - loss: 0.5423 - accuracy: 0.9200\n",
            "Epoch 9/10\n",
            "8/8 [==============================] - 0s 21ms/step - loss: 0.5102 - accuracy: 0.9340\n",
            "Epoch 10/10\n",
            "8/8 [==============================] - 0s 21ms/step - loss: 0.4690 - accuracy: 0.9740\n",
            "CPU times: user 3.39 s, sys: 110 ms, total: 3.5 s\n",
            "Wall time: 2.5 s\n"
          ]
        },
        {
          "output_type": "execute_result",
          "data": {
            "text/plain": [
              "<keras.callbacks.History at 0x7f741554a4d0>"
            ]
          },
          "metadata": {},
          "execution_count": 34
        }
      ]
    },
    {
      "cell_type": "code",
      "source": [
        "X_test1, X_test2, y_test1, y_test2 = train_test_split(X_test, y_test, test_size=0.5)"
      ],
      "metadata": {
        "id": "71TZKrO8vxuL"
      },
      "execution_count": null,
      "outputs": []
    },
    {
      "cell_type": "code",
      "source": [
        "y_test_c = []\n",
        "for x1,x2,y1,y2 in zip(X_test1,X_test2,y_test1,y_test2):\n",
        "    if y1[0] == y2[0]:\n",
        "        y_test_c.append(1)\n",
        "    else:\n",
        "        y_test_c.append(0)"
      ],
      "metadata": {
        "id": "Ypy26xYVv_00"
      },
      "execution_count": null,
      "outputs": []
    },
    {
      "cell_type": "code",
      "source": [
        "y_test_c = np.asarray(y_test_c)\n",
        "y_test_c = y_test_c.reshape(-1,1).astype('float32')\n",
        "y_test_c = to_categorical(y_test_c)"
      ],
      "metadata": {
        "id": "Q5M3XkktwHWh"
      },
      "execution_count": null,
      "outputs": []
    },
    {
      "cell_type": "code",
      "source": [
        "y_hat_c = model.predict([X_test1, X_test2])\n",
        "y_hatc_labels = np.array([np.argmax(y_i) for y_i in y_hat_c])\n",
        "y_testc_labels = np.array([np.argmax(y_i) for y_i in y_test_c])\n",
        "np.mean(y_hatc_labels == y_testc_labels)"
      ],
      "metadata": {
        "colab": {
          "base_uri": "https://localhost:8080/"
        },
        "id": "Z4vr_ricUgis",
        "outputId": "959c052e-3f1b-4a03-d0e5-18cc9b67bd2d"
      },
      "execution_count": null,
      "outputs": [
        {
          "output_type": "stream",
          "name": "stdout",
          "text": [
            "10/10 [==============================] - 0s 8ms/step\n"
          ]
        },
        {
          "output_type": "execute_result",
          "data": {
            "text/plain": [
              "0.46"
            ]
          },
          "metadata": {},
          "execution_count": 35
        }
      ]
    },
    {
      "cell_type": "code",
      "source": [
        "np.sum(y_hatc_labels)/len(y_hatc_labels)"
      ],
      "metadata": {
        "colab": {
          "base_uri": "https://localhost:8080/"
        },
        "id": "Iuj0e3EZeatu",
        "outputId": "d5b839d2-8a51-4a46-dcc5-b1613f30d965"
      },
      "execution_count": null,
      "outputs": [
        {
          "output_type": "execute_result",
          "data": {
            "text/plain": [
              "0.48333333333333334"
            ]
          },
          "metadata": {},
          "execution_count": 38
        }
      ]
    },
    {
      "cell_type": "code",
      "source": [
        "np.sum(y_testc_labels)/len(y_testc_labels)"
      ],
      "metadata": {
        "colab": {
          "base_uri": "https://localhost:8080/"
        },
        "id": "Q65Pmqi9e-vP",
        "outputId": "34c3b766-d7c7-4780-d9f0-21e606f01e02"
      },
      "execution_count": null,
      "outputs": [
        {
          "output_type": "execute_result",
          "data": {
            "text/plain": [
              "0.51"
            ]
          },
          "metadata": {},
          "execution_count": 39
        }
      ]
    },
    {
      "cell_type": "code",
      "source": [
        "y_testc_labels"
      ],
      "metadata": {
        "colab": {
          "base_uri": "https://localhost:8080/"
        },
        "id": "dUGrEVfieWBv",
        "outputId": "7a5acb52-1dce-4cc8-b026-c7d4f9c9880d"
      },
      "execution_count": null,
      "outputs": [
        {
          "output_type": "execute_result",
          "data": {
            "text/plain": [
              "array([0, 1, 1, 1, 0, 0, 0, 0, 0, 0, 0, 0, 0, 0, 1, 0, 0, 0, 1, 0, 1, 1,\n",
              "       1, 1, 0, 0, 0, 1, 1, 1, 1, 1, 1, 1, 0, 0, 1, 1, 0, 0, 1, 1, 1, 1,\n",
              "       1, 1, 1, 1, 1, 1, 0, 0, 0, 0, 1, 1, 0, 1, 1, 1, 1, 0, 0, 1, 0, 1,\n",
              "       0, 1, 0, 1, 0, 1, 1, 0, 1, 1, 1, 1, 1, 0, 0, 0, 1, 0, 0, 1, 0, 1,\n",
              "       0, 1, 1, 0, 0, 1, 0, 0, 1, 0, 1, 0, 1, 1, 1, 0, 0, 1, 1, 1, 0, 0,\n",
              "       0, 0, 0, 0, 1, 1, 1, 1, 1, 0, 1, 0, 1, 0, 0, 0, 1, 0, 1, 1, 0, 0,\n",
              "       1, 1, 1, 0, 0, 0, 0, 0, 0, 0, 1, 1, 0, 1, 1, 1, 0, 0, 0, 1, 1, 1,\n",
              "       0, 1, 1, 1, 1, 0, 0, 0, 0, 0, 1, 1, 1, 0, 1, 0, 1, 0, 0, 1, 1, 1,\n",
              "       1, 1, 0, 0, 1, 1, 0, 0, 1, 1, 0, 0, 1, 0, 0, 1, 0, 1, 0, 1, 1, 0,\n",
              "       1, 0, 1, 1, 0, 1, 0, 1, 1, 0, 0, 0, 1, 1, 1, 1, 1, 1, 0, 1, 0, 0,\n",
              "       0, 0, 1, 1, 0, 1, 1, 1, 1, 1, 0, 1, 0, 0, 0, 1, 0, 1, 1, 0, 1, 1,\n",
              "       0, 1, 1, 0, 1, 1, 0, 0, 1, 0, 0, 1, 1, 0, 1, 1, 0, 0, 0, 1, 0, 0,\n",
              "       1, 1, 0, 0, 0, 0, 0, 0, 0, 1, 1, 1, 0, 1, 1, 0, 0, 0, 0, 1, 1, 0,\n",
              "       0, 0, 0, 0, 1, 0, 1, 1, 0, 0, 0, 1, 1, 0])"
            ]
          },
          "metadata": {},
          "execution_count": 36
        }
      ]
    }
  ]
}