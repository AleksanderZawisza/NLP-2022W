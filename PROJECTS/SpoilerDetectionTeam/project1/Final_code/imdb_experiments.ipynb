{
 "cells": [
  {
   "cell_type": "code",
   "execution_count": 1,
   "metadata": {},
   "outputs": [],
   "source": [
    "DATA_PATH=\"./data\""
   ]
  },
  {
   "cell_type": "code",
   "execution_count": 2,
   "metadata": {},
   "outputs": [],
   "source": [
    "import numpy as np\n",
    "import pandas as pd\n",
    "import tensorflow as tf\n",
    "import transformers\n",
    "import matplotlib.pyplot as plt\n",
    "import seaborn as sns\n",
    "from tqdm import tqdm\n",
    "%matplotlib inline"
   ]
  },
  {
   "cell_type": "code",
   "execution_count": 3,
   "metadata": {},
   "outputs": [
    {
     "data": {
      "text/plain": [
       "[PhysicalDevice(name='/physical_device:GPU:0', device_type='GPU')]"
      ]
     },
     "execution_count": 3,
     "metadata": {},
     "output_type": "execute_result"
    }
   ],
   "source": [
    "tf.config.list_physical_devices('GPU')"
   ]
  },
  {
   "cell_type": "code",
   "execution_count": 4,
   "metadata": {},
   "outputs": [
    {
     "name": "stdout",
     "output_type": "stream",
     "text": [
      "<class 'pandas.core.frame.DataFrame'>\n",
      "RangeIndex: 499997 entries, 0 to 499996\n",
      "Data columns (total 9 columns):\n",
      " #   Column          Non-Null Count   Dtype  \n",
      "---  ------          --------------   -----  \n",
      " 0   review_id       499997 non-null  object \n",
      " 1   reviewer        499997 non-null  object \n",
      " 2   movie           499997 non-null  object \n",
      " 3   rating          303683 non-null  float64\n",
      " 4   review_summary  499997 non-null  object \n",
      " 5   review_date     499997 non-null  object \n",
      " 6   spoiler_tag     499997 non-null  int64  \n",
      " 7   review_detail   499997 non-null  object \n",
      " 8   helpful         499997 non-null  object \n",
      "dtypes: float64(1), int64(1), object(7)\n",
      "memory usage: 34.3+ MB\n"
     ]
    }
   ],
   "source": [
    "part_6 = pd.read_json(f\"{DATA_PATH}/imdb/part-06.json\", orient=\"records\")\n",
    "part_6.info()"
   ]
  },
  {
   "cell_type": "code",
   "execution_count": 5,
   "metadata": {},
   "outputs": [
    {
     "data": {
      "text/html": [
       "<div>\n",
       "<style scoped>\n",
       "    .dataframe tbody tr th:only-of-type {\n",
       "        vertical-align: middle;\n",
       "    }\n",
       "\n",
       "    .dataframe tbody tr th {\n",
       "        vertical-align: top;\n",
       "    }\n",
       "\n",
       "    .dataframe thead th {\n",
       "        text-align: right;\n",
       "    }\n",
       "</style>\n",
       "<table border=\"1\" class=\"dataframe\">\n",
       "  <thead>\n",
       "    <tr style=\"text-align: right;\">\n",
       "      <th></th>\n",
       "      <th>review_id</th>\n",
       "      <th>reviewer</th>\n",
       "      <th>movie</th>\n",
       "      <th>rating</th>\n",
       "      <th>review_summary</th>\n",
       "      <th>review_date</th>\n",
       "      <th>spoiler_tag</th>\n",
       "      <th>review_detail</th>\n",
       "      <th>helpful</th>\n",
       "    </tr>\n",
       "  </thead>\n",
       "  <tbody>\n",
       "    <tr>\n",
       "      <th>0</th>\n",
       "      <td>rw0099142</td>\n",
       "      <td>ed.wenn</td>\n",
       "      <td>Le Samouraï (1967)</td>\n",
       "      <td>9.0</td>\n",
       "      <td>Cooler Than Cool</td>\n",
       "      <td>26 November 2000</td>\n",
       "      <td>0</td>\n",
       "      <td>Surely one of the suavest movies ever made. Cr...</td>\n",
       "      <td>[8, 21]</td>\n",
       "    </tr>\n",
       "    <tr>\n",
       "      <th>1</th>\n",
       "      <td>rw0099143</td>\n",
       "      <td>the red duchess</td>\n",
       "      <td>Le Samouraï (1967)</td>\n",
       "      <td>10.0</td>\n",
       "      <td>Along with 'The Wizard of Oz', the supreme fil...</td>\n",
       "      <td>7 December 2000</td>\n",
       "      <td>1</td>\n",
       "      <td>To see how beautiful, moving, exciting and ast...</td>\n",
       "      <td>[219, 284]</td>\n",
       "    </tr>\n",
       "    <tr>\n",
       "      <th>2</th>\n",
       "      <td>rw0099144</td>\n",
       "      <td>esteban1747</td>\n",
       "      <td>Le Samouraï (1967)</td>\n",
       "      <td>7.0</td>\n",
       "      <td>Jeff Costello, a nearly perfect gangster</td>\n",
       "      <td>20 September 2001</td>\n",
       "      <td>0</td>\n",
       "      <td>A rare film where Alain Delon played together ...</td>\n",
       "      <td>[2, 12]</td>\n",
       "    </tr>\n",
       "    <tr>\n",
       "      <th>3</th>\n",
       "      <td>rw0099146</td>\n",
       "      <td>youroldpaljim</td>\n",
       "      <td>Le Samouraï (1967)</td>\n",
       "      <td>NaN</td>\n",
       "      <td>Paris envy?</td>\n",
       "      <td>24 April 2002</td>\n",
       "      <td>0</td>\n",
       "      <td>First let me say that I think LE SAMOURAI is a...</td>\n",
       "      <td>[4, 14]</td>\n",
       "    </tr>\n",
       "    <tr>\n",
       "      <th>4</th>\n",
       "      <td>rw0099147</td>\n",
       "      <td>tasgal</td>\n",
       "      <td>Le Samouraï (1967)</td>\n",
       "      <td>5.0</td>\n",
       "      <td>Stylish and cluelessly silly. Inoffensive.</td>\n",
       "      <td>11 January 2003</td>\n",
       "      <td>1</td>\n",
       "      <td>The movie's title and opening epigraph refer t...</td>\n",
       "      <td>[13, 32]</td>\n",
       "    </tr>\n",
       "  </tbody>\n",
       "</table>\n",
       "</div>"
      ],
      "text/plain": [
       "   review_id         reviewer               movie  rating  \\\n",
       "0  rw0099142          ed.wenn  Le Samouraï (1967)     9.0   \n",
       "1  rw0099143  the red duchess  Le Samouraï (1967)    10.0   \n",
       "2  rw0099144      esteban1747  Le Samouraï (1967)     7.0   \n",
       "3  rw0099146    youroldpaljim  Le Samouraï (1967)     NaN   \n",
       "4  rw0099147           tasgal  Le Samouraï (1967)     5.0   \n",
       "\n",
       "                                      review_summary        review_date  \\\n",
       "0                                   Cooler Than Cool   26 November 2000   \n",
       "1  Along with 'The Wizard of Oz', the supreme fil...    7 December 2000   \n",
       "2           Jeff Costello, a nearly perfect gangster  20 September 2001   \n",
       "3                                        Paris envy?      24 April 2002   \n",
       "4         Stylish and cluelessly silly. Inoffensive.    11 January 2003   \n",
       "\n",
       "   spoiler_tag                                      review_detail     helpful  \n",
       "0            0  Surely one of the suavest movies ever made. Cr...     [8, 21]  \n",
       "1            1  To see how beautiful, moving, exciting and ast...  [219, 284]  \n",
       "2            0  A rare film where Alain Delon played together ...     [2, 12]  \n",
       "3            0  First let me say that I think LE SAMOURAI is a...     [4, 14]  \n",
       "4            1  The movie's title and opening epigraph refer t...    [13, 32]  "
      ]
     },
     "execution_count": 5,
     "metadata": {},
     "output_type": "execute_result"
    }
   ],
   "source": [
    "part_6.head()"
   ]
  },
  {
   "cell_type": "code",
   "execution_count": 6,
   "metadata": {},
   "outputs": [],
   "source": [
    "part_6 = part_6.loc[:, ['review_id', 'review_detail', 'spoiler_tag']]"
   ]
  },
  {
   "cell_type": "code",
   "execution_count": 7,
   "metadata": {},
   "outputs": [
    {
     "data": {
      "text/html": [
       "<div>\n",
       "<style scoped>\n",
       "    .dataframe tbody tr th:only-of-type {\n",
       "        vertical-align: middle;\n",
       "    }\n",
       "\n",
       "    .dataframe tbody tr th {\n",
       "        vertical-align: top;\n",
       "    }\n",
       "\n",
       "    .dataframe thead th {\n",
       "        text-align: right;\n",
       "    }\n",
       "</style>\n",
       "<table border=\"1\" class=\"dataframe\">\n",
       "  <thead>\n",
       "    <tr style=\"text-align: right;\">\n",
       "      <th></th>\n",
       "      <th>review_id</th>\n",
       "      <th>review_detail</th>\n",
       "      <th>spoiler_tag</th>\n",
       "    </tr>\n",
       "  </thead>\n",
       "  <tbody>\n",
       "    <tr>\n",
       "      <th>0</th>\n",
       "      <td>rw0099142</td>\n",
       "      <td>Surely one of the suavest movies ever made. Cr...</td>\n",
       "      <td>0</td>\n",
       "    </tr>\n",
       "    <tr>\n",
       "      <th>1</th>\n",
       "      <td>rw0099143</td>\n",
       "      <td>To see how beautiful, moving, exciting and ast...</td>\n",
       "      <td>1</td>\n",
       "    </tr>\n",
       "    <tr>\n",
       "      <th>2</th>\n",
       "      <td>rw0099144</td>\n",
       "      <td>A rare film where Alain Delon played together ...</td>\n",
       "      <td>0</td>\n",
       "    </tr>\n",
       "    <tr>\n",
       "      <th>3</th>\n",
       "      <td>rw0099146</td>\n",
       "      <td>First let me say that I think LE SAMOURAI is a...</td>\n",
       "      <td>0</td>\n",
       "    </tr>\n",
       "    <tr>\n",
       "      <th>4</th>\n",
       "      <td>rw0099147</td>\n",
       "      <td>The movie's title and opening epigraph refer t...</td>\n",
       "      <td>1</td>\n",
       "    </tr>\n",
       "    <tr>\n",
       "      <th>...</th>\n",
       "      <td>...</td>\n",
       "      <td>...</td>\n",
       "      <td>...</td>\n",
       "    </tr>\n",
       "    <tr>\n",
       "      <th>499992</th>\n",
       "      <td>rw0099137</td>\n",
       "      <td>Actually, the first three or four times I saw ...</td>\n",
       "      <td>0</td>\n",
       "    </tr>\n",
       "    <tr>\n",
       "      <th>499993</th>\n",
       "      <td>rw0099138</td>\n",
       "      <td>This movie glorifies the worst stereotypes of ...</td>\n",
       "      <td>0</td>\n",
       "    </tr>\n",
       "    <tr>\n",
       "      <th>499994</th>\n",
       "      <td>rw0099139</td>\n",
       "      <td>38. LE SAMOURAI (French-action, 1967) Jef (Ala...</td>\n",
       "      <td>0</td>\n",
       "    </tr>\n",
       "    <tr>\n",
       "      <th>499995</th>\n",
       "      <td>rw0099140</td>\n",
       "      <td>I found \"Le Samourai\" (**) to be more about st...</td>\n",
       "      <td>0</td>\n",
       "    </tr>\n",
       "    <tr>\n",
       "      <th>499996</th>\n",
       "      <td>rw0099141</td>\n",
       "      <td>J.P Mellville imports the samurai code of hono...</td>\n",
       "      <td>0</td>\n",
       "    </tr>\n",
       "  </tbody>\n",
       "</table>\n",
       "<p>499997 rows × 3 columns</p>\n",
       "</div>"
      ],
      "text/plain": [
       "        review_id                                      review_detail  \\\n",
       "0       rw0099142  Surely one of the suavest movies ever made. Cr...   \n",
       "1       rw0099143  To see how beautiful, moving, exciting and ast...   \n",
       "2       rw0099144  A rare film where Alain Delon played together ...   \n",
       "3       rw0099146  First let me say that I think LE SAMOURAI is a...   \n",
       "4       rw0099147  The movie's title and opening epigraph refer t...   \n",
       "...           ...                                                ...   \n",
       "499992  rw0099137  Actually, the first three or four times I saw ...   \n",
       "499993  rw0099138  This movie glorifies the worst stereotypes of ...   \n",
       "499994  rw0099139  38. LE SAMOURAI (French-action, 1967) Jef (Ala...   \n",
       "499995  rw0099140  I found \"Le Samourai\" (**) to be more about st...   \n",
       "499996  rw0099141  J.P Mellville imports the samurai code of hono...   \n",
       "\n",
       "        spoiler_tag  \n",
       "0                 0  \n",
       "1                 1  \n",
       "2                 0  \n",
       "3                 0  \n",
       "4                 1  \n",
       "...             ...  \n",
       "499992            0  \n",
       "499993            0  \n",
       "499994            0  \n",
       "499995            0  \n",
       "499996            0  \n",
       "\n",
       "[499997 rows x 3 columns]"
      ]
     },
     "execution_count": 7,
     "metadata": {},
     "output_type": "execute_result"
    }
   ],
   "source": [
    "part_6"
   ]
  },
  {
   "cell_type": "code",
   "execution_count": 8,
   "metadata": {},
   "outputs": [],
   "source": [
    "del part_6"
   ]
  },
  {
   "cell_type": "code",
   "execution_count": 9,
   "metadata": {},
   "outputs": [],
   "source": [
    "USE_FULL_IMDB = True"
   ]
  },
  {
   "cell_type": "code",
   "execution_count": 10,
   "metadata": {
    "pycharm": {
     "is_executing": true
    }
   },
   "outputs": [
    {
     "name": "stderr",
     "output_type": "stream",
     "text": [
      "100%|██████████| 6/6 [02:21<00:00, 23.66s/it]\n"
     ]
    }
   ],
   "source": [
    "file_list = [f\"{DATA_PATH}/imdb/part-0{x}.json\" for x in range(1, 7)] if USE_FULL_IMDB else [f\"data/imdb/part-06.json\"]\n",
    "dfs = []\n",
    "\n",
    "for file in tqdm(file_list):\n",
    "    data = pd.read_json(file, orient=\"records\", dtype={\"spoiler_tag\": 'category'}).loc[:, [\"review_detail\", \"spoiler_tag\"]].rename(columns={\"review_detail\":\"text\", \"spoiler_tag\": \"label\"})\n",
    "    dfs.append(data)\n",
    "\n",
    "imdb_df = pd.concat(dfs, copy=False, ignore_index=True)\n",
    "del dfs"
   ]
  },
  {
   "cell_type": "code",
   "execution_count": 11,
   "metadata": {},
   "outputs": [
    {
     "name": "stdout",
     "output_type": "stream",
     "text": [
      "<class 'pandas.core.frame.DataFrame'>\n",
      "RangeIndex: 5571499 entries, 0 to 5571498\n",
      "Data columns (total 2 columns):\n",
      " #   Column  Dtype   \n",
      "---  ------  -----   \n",
      " 0   text    object  \n",
      " 1   label   category\n",
      "dtypes: category(1), object(1)\n",
      "memory usage: 47.8+ MB\n"
     ]
    }
   ],
   "source": [
    "imdb_df.info()"
   ]
  },
  {
   "cell_type": "code",
   "execution_count": 12,
   "metadata": {},
   "outputs": [
    {
     "data": {
      "text/html": [
       "<div>\n",
       "<style scoped>\n",
       "    .dataframe tbody tr th:only-of-type {\n",
       "        vertical-align: middle;\n",
       "    }\n",
       "\n",
       "    .dataframe tbody tr th {\n",
       "        vertical-align: top;\n",
       "    }\n",
       "\n",
       "    .dataframe thead th {\n",
       "        text-align: right;\n",
       "    }\n",
       "</style>\n",
       "<table border=\"1\" class=\"dataframe\">\n",
       "  <thead>\n",
       "    <tr style=\"text-align: right;\">\n",
       "      <th></th>\n",
       "      <th>text</th>\n",
       "      <th>label</th>\n",
       "    </tr>\n",
       "  </thead>\n",
       "  <tbody>\n",
       "    <tr>\n",
       "      <th>0</th>\n",
       "      <td>I enjoyed the first season, but I must say I t...</td>\n",
       "      <td>0</td>\n",
       "    </tr>\n",
       "    <tr>\n",
       "      <th>1</th>\n",
       "      <td>I know Iceland is a small country and police d...</td>\n",
       "      <td>0</td>\n",
       "    </tr>\n",
       "    <tr>\n",
       "      <th>2</th>\n",
       "      <td>Except K K , no other actor looks comfortable ...</td>\n",
       "      <td>0</td>\n",
       "    </tr>\n",
       "    <tr>\n",
       "      <th>3</th>\n",
       "      <td>I'm guessing that as a 62 year old white woman...</td>\n",
       "      <td>0</td>\n",
       "    </tr>\n",
       "    <tr>\n",
       "      <th>4</th>\n",
       "      <td>Here's the truth. There's not much to this mov...</td>\n",
       "      <td>0</td>\n",
       "    </tr>\n",
       "  </tbody>\n",
       "</table>\n",
       "</div>"
      ],
      "text/plain": [
       "                                                text label\n",
       "0  I enjoyed the first season, but I must say I t...     0\n",
       "1  I know Iceland is a small country and police d...     0\n",
       "2  Except K K , no other actor looks comfortable ...     0\n",
       "3  I'm guessing that as a 62 year old white woman...     0\n",
       "4  Here's the truth. There's not much to this mov...     0"
      ]
     },
     "execution_count": 12,
     "metadata": {},
     "output_type": "execute_result"
    }
   ],
   "source": [
    "imdb_df.head()"
   ]
  },
  {
   "cell_type": "markdown",
   "metadata": {},
   "source": [
    "# EDA"
   ]
  },
  {
   "cell_type": "code",
   "execution_count": 13,
   "metadata": {},
   "outputs": [
    {
     "data": {
      "image/png": "[encoded data removed]",
      "text/plain": [
       "<Figure size 432x288 with 1 Axes>"
      ]
     },
     "metadata": {
      "needs_background": "light"
     },
     "output_type": "display_data"
    }
   ],
   "source": [
    "ax = sns.histplot(imdb_df[\"label\"].astype('str'));\n",
    "ax.set_xlabel(\"has_spoiler\")\n",
    "plt.savefig(\"imdb_classes.jpg\")\n",
    "plt.show()"
   ]
  },
  {
   "cell_type": "code",
   "execution_count": 14,
   "metadata": {},
   "outputs": [
    {
     "name": "stdout",
     "output_type": "stream",
     "text": [
      "4384888\n"
     ]
    }
   ],
   "source": [
    "neg = imdb_df.loc[imdb_df.label == 0, ].shape[0]\n",
    "print(neg)"
   ]
  },
  {
   "cell_type": "code",
   "execution_count": 15,
   "metadata": {},
   "outputs": [
    {
     "name": "stdout",
     "output_type": "stream",
     "text": [
      "1186611\n"
     ]
    }
   ],
   "source": [
    "pos = imdb_df.loc[imdb_df.label == 1, ].shape[0]\n",
    "print(pos)"
   ]
  },
  {
   "cell_type": "code",
   "execution_count": 16,
   "metadata": {},
   "outputs": [
    {
     "data": {
      "text/plain": [
       "['This is a paragraph', ' So it is', ' Ok, there are 3 sentences', '']"
      ]
     },
     "execution_count": 16,
     "metadata": {},
     "output_type": "execute_result"
    }
   ],
   "source": [
    "import re\n",
    "par  = \"This is a paragraph? So it is! Ok, there are 3 sentences.\"\n",
    "re.split(r'[.!?]+', par)"
   ]
  },
  {
   "cell_type": "code",
   "execution_count": 17,
   "metadata": {},
   "outputs": [
    {
     "name": "stderr",
     "output_type": "stream",
     "text": [
      "100%|██████████| 5571499/5571499 [00:13<00:00, 409804.94it/s]\n"
     ]
    }
   ],
   "source": [
    "sentence_counts = [len([y for y in x.split('.') if y]) for x in tqdm(imdb_df['text'])]"
   ]
  },
  {
   "cell_type": "code",
   "execution_count": 18,
   "metadata": {},
   "outputs": [
    {
     "data": {
      "text/plain": [
       "<AxesSubplot:ylabel='Count'>"
      ]
     },
     "execution_count": 18,
     "metadata": {},
     "output_type": "execute_result"
    },
    {
     "data": {
      "image/png": "[encoded data removed]",
      "text/plain": [
       "<Figure size 432x288 with 1 Axes>"
      ]
     },
     "metadata": {
      "needs_background": "light"
     },
     "output_type": "display_data"
    }
   ],
   "source": [
    "sns.histplot(sentence_counts)"
   ]
  },
  {
   "cell_type": "code",
   "execution_count": 19,
   "metadata": {},
   "outputs": [
    {
     "data": {
      "text/plain": [
       "32"
      ]
     },
     "execution_count": 19,
     "metadata": {},
     "output_type": "execute_result"
    }
   ],
   "source": [
    "len([x for x in sentence_counts if x > 200])"
   ]
  },
  {
   "cell_type": "code",
   "execution_count": 20,
   "metadata": {},
   "outputs": [
    {
     "data": {
      "text/plain": [
       "625"
      ]
     },
     "execution_count": 20,
     "metadata": {},
     "output_type": "execute_result"
    }
   ],
   "source": [
    "len([x for x in sentence_counts if x > 100])"
   ]
  },
  {
   "cell_type": "code",
   "execution_count": 21,
   "metadata": {},
   "outputs": [
    {
     "data": {
      "image/png": "[encoded data removed]",
      "text/plain": [
       "<Figure size 432x288 with 1 Axes>"
      ]
     },
     "metadata": {
      "needs_background": "light"
     },
     "output_type": "display_data"
    }
   ],
   "source": [
    "ax = sns.histplot([x for x in sentence_counts if x <= 100])\n",
    "ax.set_xlabel('Sentence count')\n",
    "ax.set_ylabel('Review count')\n",
    "plt.savefig('imdb-sentence-length-hist.jpg')\n",
    "plt.show()"
   ]
  },
  {
   "cell_type": "code",
   "execution_count": 22,
   "metadata": {},
   "outputs": [],
   "source": [
    "np.random.seed(0)\n",
    "indices_to_delete = np.random.choice(imdb_df.loc[imdb_df.label == 0, ].index, size=neg - pos, replace=False)"
   ]
  },
  {
   "cell_type": "code",
   "execution_count": 23,
   "metadata": {},
   "outputs": [],
   "source": [
    "imdb_df = imdb_df.drop(indices_to_delete)"
   ]
  },
  {
   "cell_type": "code",
   "execution_count": 24,
   "metadata": {},
   "outputs": [
    {
     "data": {
      "text/plain": [
       "(1186611, 1186611)"
      ]
     },
     "execution_count": 24,
     "metadata": {},
     "output_type": "execute_result"
    }
   ],
   "source": [
    "imdb_df.loc[imdb_df.label == 0, ].shape[0], imdb_df.loc[imdb_df.label == 1, ].shape[0]"
   ]
  },
  {
   "cell_type": "code",
   "execution_count": 25,
   "metadata": {},
   "outputs": [],
   "source": [
    "from transformers import AutoTokenizer\n",
    "\n",
    "model_name = \"bert-base-uncased\"\n",
    "\n",
    "tokenizer = AutoTokenizer.from_pretrained(model_name)"
   ]
  },
  {
   "cell_type": "code",
   "execution_count": 26,
   "metadata": {},
   "outputs": [],
   "source": [
    "def preprocess_function(data):\n",
    "    return tokenizer(data[\"text\"], truncation=True)"
   ]
  },
  {
   "cell_type": "code",
   "execution_count": 27,
   "metadata": {},
   "outputs": [],
   "source": [
    "from transformers import DataCollatorWithPadding\n",
    "\n",
    "data_collator = DataCollatorWithPadding(tokenizer=tokenizer, return_tensors=\"tf\")"
   ]
  },
  {
   "cell_type": "code",
   "execution_count": 28,
   "metadata": {},
   "outputs": [
    {
     "name": "stderr",
     "output_type": "stream",
     "text": [
      "2022-11-29 23:06:36.796310: I tensorflow/core/platform/cpu_feature_guard.cc:193] This TensorFlow binary is optimized with oneAPI Deep Neural Network Library (oneDNN) to use the following CPU instructions in performance-critical operations:  AVX2 FMA\n",
      "To enable them in other operations, rebuild TensorFlow with the appropriate compiler flags.\n",
      "2022-11-29 23:06:37.519597: I tensorflow/core/common_runtime/gpu/gpu_device.cc:1532] Created device /job:localhost/replica:0/task:0/device:GPU:0 with 38419 MB memory:  -> device: 0, name: A100-SXM4-40GB, pci bus id: 0000:07:00.0, compute capability: 8.0\n",
      "2022-11-29 23:06:39.324043: I tensorflow/stream_executor/cuda/cuda_blas.cc:1786] TensorFloat-32 will be used for the matrix multiplication. This will only be logged once.\n",
      "All model checkpoint layers were used when initializing TFBertForSequenceClassification.\n",
      "\n",
      "Some layers of TFBertForSequenceClassification were not initialized from the model checkpoint at bert-base-uncased and are newly initialized: ['classifier']\n",
      "You should probably TRAIN this model on a down-stream task to be able to use it for predictions and inference.\n"
     ]
    }
   ],
   "source": [
    "from transformers import TFAutoModelForSequenceClassification\n",
    "\n",
    "model = TFAutoModelForSequenceClassification.from_pretrained(model_name, classifier_dropout=0.1)"
   ]
  },
  {
   "cell_type": "code",
   "execution_count": 29,
   "metadata": {},
   "outputs": [],
   "source": [
    "from datasets import Dataset"
   ]
  },
  {
   "cell_type": "code",
   "execution_count": 30,
   "metadata": {},
   "outputs": [],
   "source": [
    "imdb_as_list = imdb_df.to_dict('records')"
   ]
  },
  {
   "cell_type": "code",
   "execution_count": 31,
   "metadata": {},
   "outputs": [
    {
     "data": {
      "text/plain": [
       "{'text': \"I'm guessing that as a 62 year old white woman I'm not the target demographic but I enjoyed this show. Good to see others perspectives and loved the wry humor. More entertaining than The Office and Parks & Rec. It does make broad negative assumptions about all whites though\",\n",
       " 'label': 0}"
      ]
     },
     "execution_count": 31,
     "metadata": {},
     "output_type": "execute_result"
    }
   ],
   "source": [
    "imdb_as_list[0]"
   ]
  },
  {
   "cell_type": "code",
   "execution_count": 32,
   "metadata": {},
   "outputs": [],
   "source": [
    "del imdb_df"
   ]
  },
  {
   "cell_type": "code",
   "execution_count": 33,
   "metadata": {},
   "outputs": [
    {
     "data": {
      "application/vnd.jupyter.widget-view+json": {
       "model_id": "d471d8bde7e14bd4bf4d6b0a81ea099f",
       "version_major": 2,
       "version_minor": 0
      },
      "text/plain": [
       "  0%|          | 0/2374 [00:00<?, ?ba/s]"
      ]
     },
     "metadata": {},
     "output_type": "display_data"
    }
   ],
   "source": [
    "tokenized_imdb = Dataset.from_list(imdb_as_list).map(preprocess_function, batched=True)"
   ]
  },
  {
   "cell_type": "code",
   "execution_count": 34,
   "metadata": {},
   "outputs": [
    {
     "data": {
      "text/plain": [
       "Dataset({\n",
       "    features: ['text', 'label', 'input_ids', 'token_type_ids', 'attention_mask'],\n",
       "    num_rows: 2373222\n",
       "})"
      ]
     },
     "execution_count": 34,
     "metadata": {},
     "output_type": "execute_result"
    }
   ],
   "source": [
    "tokenized_imdb"
   ]
  },
  {
   "cell_type": "code",
   "execution_count": 35,
   "metadata": {},
   "outputs": [],
   "source": [
    "train_testvalid = tokenized_imdb.train_test_split(test_size=0.2)\n",
    "test_valid = train_testvalid['test'].train_test_split(test_size=0.5)"
   ]
  },
  {
   "cell_type": "code",
   "execution_count": 36,
   "metadata": {},
   "outputs": [],
   "source": [
    "def create_tf_dataset(tokenized_dataset):\n",
    "    return model.prepare_tf_dataset(\n",
    "        tokenized_dataset, shuffle=True, batch_size=32, collate_fn=data_collator\n",
    "    )"
   ]
  },
  {
   "cell_type": "code",
   "execution_count": 37,
   "metadata": {},
   "outputs": [
    {
     "name": "stderr",
     "output_type": "stream",
     "text": [
      "You're using a BertTokenizerFast tokenizer. Please note that with a fast tokenizer, using the `__call__` method is faster than using a method to encode the text followed by a call to the `pad` method to get a padded encoding.\n"
     ]
    }
   ],
   "source": [
    "tf_imdb_train = create_tf_dataset(train_testvalid[\"train\"])\n",
    "tf_imdb_valid = create_tf_dataset(test_valid[\"train\"])\n",
    "tf_imdb_test = create_tf_dataset(test_valid[\"test\"])"
   ]
  },
  {
   "cell_type": "code",
   "execution_count": 38,
   "metadata": {},
   "outputs": [],
   "source": [
    "from transformers import create_optimizer\n",
    "\n",
    "batch_size = 32\n",
    "\n",
    "num_epochs = 3\n",
    "\n",
    "batches_per_epoch = len(train_testvalid[\"train\"]) // batch_size\n",
    "\n",
    "total_train_steps = int(batches_per_epoch * num_epochs)\n",
    "\n",
    "optimizer, schedule = create_optimizer(\n",
    "    init_lr=2e-5, num_warmup_steps=0, \n",
    "    num_train_steps=total_train_steps)"
   ]
  },
  {
   "cell_type": "code",
   "execution_count": 39,
   "metadata": {},
   "outputs": [
    {
     "name": "stdout",
     "output_type": "stream",
     "text": [
      "59330\n"
     ]
    }
   ],
   "source": [
    "print(batches_per_epoch)"
   ]
  },
  {
   "cell_type": "code",
   "execution_count": 40,
   "metadata": {},
   "outputs": [],
   "source": [
    "class BalancedSparseCategoricalAccuracy(tf.keras.metrics.SparseCategoricalAccuracy):\n",
    "    def __init__(self, name='balanced_sparse_categorical_accuracy', dtype=None):\n",
    "        super().__init__(name, dtype=dtype)\n",
    "\n",
    "    def update_state(self, y_true, y_pred, sample_weight=None):\n",
    "        y_flat = y_true\n",
    "        if y_true.shape.ndims == y_pred.shape.ndims:\n",
    "            y_flat = tf.squeeze(y_flat, axis=[-1])\n",
    "        y_true_int = tf.cast(y_flat, tf.int32)\n",
    "\n",
    "        cls_counts = tf.math.bincount(y_true_int)\n",
    "        cls_counts = tf.math.reciprocal_no_nan(tf.cast(cls_counts, self.dtype))\n",
    "        weight = tf.gather(cls_counts, y_true_int)\n",
    "        return super().update_state(y_true, y_pred, sample_weight=weight)"
   ]
  },
  {
   "cell_type": "code",
   "execution_count": 41,
   "metadata": {},
   "outputs": [
    {
     "name": "stderr",
     "output_type": "stream",
     "text": [
      "No loss specified in compile() - the model's internal loss computation will be used as the loss. Don't panic - this is a common way to train TensorFlow models in Transformers! To disable this behaviour please pass a loss argument, or explicitly pass `loss=None` if you do not want your model to compute a loss.\n"
     ]
    }
   ],
   "source": [
    "model.compile(optimizer=optimizer,\n",
    "             metrics=['accuracy', BalancedSparseCategoricalAccuracy()])"
   ]
  },
  {
   "cell_type": "code",
   "execution_count": 42,
   "metadata": {},
   "outputs": [],
   "source": [
    "csv_logger = tf.keras.callbacks.CSVLogger('imdb_fit_log.csv', append=True, separator=';')"
   ]
  },
  {
   "cell_type": "code",
   "execution_count": 43,
   "metadata": {},
   "outputs": [],
   "source": [
    "model_checkpoint_callback = tf.keras.callbacks.ModelCheckpoint(\n",
    "    filepath=\"./checkpoints/best_val_imdb\",\n",
    "    save_weights_only=True,\n",
    "    monitor='val_accuracy',\n",
    "    mode='max',\n",
    "    save_best_only=True)"
   ]
  },
  {
   "cell_type": "code",
   "execution_count": null,
   "metadata": {},
   "outputs": [
    {
     "name": "stdout",
     "output_type": "stream",
     "text": [
      "Epoch 1/2\n",
      " 6102/59330 [==>...........................] - ETA: 6:44:04 - loss: 0.5269 - accuracy: 0.7304 - balanced_sparse_categorical_accuracy: 0.7301"
     ]
    }
   ],
   "source": [
    "# model.fit(x=tf_imdb_train, validation_data=tf_imdb_valid, epochs=2, callbacks=[model_checkpoint_callback, csv_logger])"
   ]
  },
  {
   "cell_type": "code",
   "execution_count": 51,
   "metadata": {},
   "outputs": [
    {
     "data": {
      "text/plain": [
       "<tensorflow.python.training.tracking.util.CheckpointLoadStatus at 0x7fec04c28130>"
      ]
     },
     "execution_count": 51,
     "metadata": {},
     "output_type": "execute_result"
    }
   ],
   "source": [
    "model.load_weights('./checkpoints/best_val_imdb')"
   ]
  },
  {
   "cell_type": "code",
   "execution_count": 48,
   "metadata": {},
   "outputs": [
    {
     "name": "stdout",
     "output_type": "stream",
     "text": [
      "7416/7416 [==============================] - 1167s 157ms/step - loss: 0.4605 - accuracy: 0.7782 - balanced_sparse_categorical_accuracy: 0.7783\n"
     ]
    },
    {
     "data": {
      "text/plain": [
       "[0.4604688584804535, 0.7782076001167297, 0.7783032059669495]"
      ]
     },
     "execution_count": 48,
     "metadata": {},
     "output_type": "execute_result"
    }
   ],
   "source": [
    "model.evaluate(tf_imdb_valid)"
   ]
  },
  {
   "cell_type": "code",
   "execution_count": 52,
   "metadata": {},
   "outputs": [
    {
     "name": "stdout",
     "output_type": "stream",
     "text": [
      "7416/7416 [==============================] - 1161s 156ms/step - loss: 0.4615 - accuracy: 0.7770 - balanced_sparse_categorical_accuracy: 0.7772\n"
     ]
    },
    {
     "data": {
      "text/plain": [
       "[0.46146705746650696, 0.7770318984985352, 0.7771524786949158]"
      ]
     },
     "execution_count": 52,
     "metadata": {},
     "output_type": "execute_result"
    }
   ],
   "source": [
    "model.evaluate(tf_imdb_test)"
   ]
  },
  {
   "cell_type": "code",
   "execution_count": 53,
   "metadata": {},
   "outputs": [
    {
     "name": "stderr",
     "output_type": "stream",
     "text": [
      "100%|██████████| 7416/7416 [18:42<00:00,  6.61it/s]\n"
     ]
    }
   ],
   "source": [
    "auc = tf.keras.metrics.AUC()\n",
    "acc = tf.keras.metrics.Accuracy()\n",
    "\n",
    "fp = tf.keras.metrics.FalsePositives()\n",
    "fn = tf.keras.metrics.FalseNegatives()\n",
    "tp = tf.keras.metrics.TruePositives()\n",
    "tn = tf.keras.metrics.TrueNegatives()\n",
    "\n",
    "for batch_data, batch_labels in tqdm(tf_imdb_test):\n",
    "    preds = tf.nn.softmax(model(batch_data)[0])[:,1]\n",
    "    auc.update_state(batch_labels, preds)\n",
    "    acc.update_state(batch_labels, preds>=0.5)\n",
    "    \n",
    "    fp.update_state(batch_labels, preds >= 0.5)\n",
    "    fn.update_state(batch_labels, preds >= 0.5)\n",
    "    tp.update_state(batch_labels, preds >= 0.5)\n",
    "    tn.update_state(batch_labels, preds >= 0.5)"
   ]
  },
  {
   "cell_type": "code",
   "execution_count": 54,
   "metadata": {},
   "outputs": [
    {
     "name": "stdout",
     "output_type": "stream",
     "text": [
      "IMDB Test\n",
      "AUC=0.8653112053871155\n",
      "ACC=0.777061402797699\n",
      "FP=20397.0\n",
      "FN=32509.0\n",
      "TP=86214.0\n",
      "TN=98192.0\n"
     ]
    }
   ],
   "source": [
    "print(\"IMDB Test\")\n",
    "print(f\"AUC={auc.result().numpy()}\")\n",
    "print(f\"ACC={acc.result().numpy()}\")\n",
    "print(f\"FP={fp.result().numpy()}\")\n",
    "print(f\"FN={fn.result().numpy()}\")\n",
    "print(f\"TP={tp.result().numpy()}\")\n",
    "print(f\"TN={tn.result().numpy()}\")"
   ]
  }
 ],
 "metadata": {
  "kernelspec": {
   "display_name": "Python 3 (ipykernel)",
   "language": "python",
   "name": "python3"
  },
  "language_info": {
   "codemirror_mode": {
    "name": "ipython",
    "version": 3
   },
   "file_extension": ".py",
   "mimetype": "text/x-python",
   "name": "python",
   "nbconvert_exporter": "python",
   "pygments_lexer": "ipython3",
   "version": "3.10.8"
  }
 },
 "nbformat": 4,
 "nbformat_minor": 1
}
