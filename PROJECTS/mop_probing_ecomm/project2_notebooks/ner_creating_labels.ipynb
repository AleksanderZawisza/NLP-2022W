{
  "cells": [
    {
      "attachments": {},
      "cell_type": "markdown",
      "metadata": {},
      "source": [
        "## Named Entity Recognition"
      ]
    },
    {
      "attachments": {},
      "cell_type": "markdown",
      "metadata": {},
      "source": [
        "### Installing transformers library"
      ]
    },
    {
      "cell_type": "code",
      "execution_count": null,
      "metadata": {
        "id": "3zHsWJfcEJrh"
      },
      "outputs": [],
      "source": [
        "!pip install transformers"
      ]
    },
    {
      "cell_type": "code",
      "execution_count": null,
      "metadata": {
        "colab": {
          "base_uri": "https://localhost:8080/"
        },
        "id": "aYX8lnocDXEb",
        "outputId": "ef8138f1-a4ea-491e-f228-1f3ee5fe4244"
      },
      "outputs": [
        {
          "name": "stdout",
          "output_type": "stream",
          "text": [
            "Drive already mounted at /content/gdrive; to attempt to forcibly remount, call drive.mount(\"/content/gdrive\", force_remount=True).\n"
          ]
        }
      ],
      "source": [
        "#https://huggingface.co/dslim/bert-base-NER?text=My+name+is+Sarah+and+I+live+in+London\n",
        "\n",
        "from transformers import AutoTokenizer, AutoModelForTokenClassification\n",
        "from transformers import pipeline\n",
        "import pandas as pd\n",
        "from google.colab import drive\n",
        "from tqdm import tqdm\n",
        "\n",
        "# drive.mount('/content/gdrive')\n",
        "# df_train = pd.read_csv('/content/gdrive/MyDrive/<path>')\n",
        "tokenizer = AutoTokenizer.from_pretrained(\"dslim/bert-base-NER\")\n",
        "model = AutoModelForTokenClassification.from_pretrained(\"dslim/bert-base-NER\")\n",
        "nlp = pipeline(\"ner\", model=model, tokenizer=tokenizer)\n",
        "\n"
      ]
    },
    {
      "cell_type": "code",
      "execution_count": null,
      "metadata": {
        "colab": {
          "base_uri": "https://localhost:8080/"
        },
        "id": "DVwsCx_oHv_f",
        "outputId": "38afd4ce-8630-4f3c-dfc2-d2c64e2b278a"
      },
      "outputs": [
        {
          "name": "stderr",
          "output_type": "stream",
          "text": [
            "100%|██████████| 16962/16962 [35:57<00:00,  7.86it/s]\n"
          ]
        }
      ],
      "source": [
        "for i in tqdm(range(len(df_train))):\n",
        "\n",
        "  sentance = df_train.loc[i, \"title\"]\n",
        "  ner_results = nlp(sentance)\n",
        "  df_train.loc[i, \"label\"] = False\n",
        "  for example in ner_results:\n",
        "    if(example['score']) > 0.5:\n",
        "      df_train.loc[i, \"label\"] = True\n",
        "      continue\n",
        "   "
      ]
    },
    {
      "cell_type": "code",
      "execution_count": null,
      "metadata": {
        "id": "KAOSBF7kI0t6"
      },
      "outputs": [],
      "source": [
        "df_train.to_csv(\"/content/gdrive/MyDrive/<output_path>\")"
      ]
    }
  ],
  "metadata": {
    "colab": {
      "provenance": []
    },
    "kernelspec": {
      "display_name": "base",
      "language": "python",
      "name": "python3"
    },
    "language_info": {
      "name": "python",
      "version": "3.9.7 (default, Sep 16 2021, 16:59:28) [MSC v.1916 64 bit (AMD64)]"
    },
    "vscode": {
      "interpreter": {
        "hash": "b90b5480b90dfd82255d68efb607ef96370ef33575f247c89a0b81cbaa1e7b55"
      }
    }
  },
  "nbformat": 4,
  "nbformat_minor": 0
}
