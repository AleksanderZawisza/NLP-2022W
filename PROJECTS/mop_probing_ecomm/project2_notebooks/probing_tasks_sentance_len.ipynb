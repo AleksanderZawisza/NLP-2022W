{
 "cells": [
  {
   "cell_type": "code",
   "execution_count": 3,
   "metadata": {},
   "outputs": [],
   "source": [
    "from os import path\n",
    "import pandas as pd\n",
    "import numpy as np\n",
    "import importlib\n",
    "\n",
    "# setting path\n",
    "import os, sys\n",
    "current_dir = os.path.abspath('')\n",
    "parent_dir = os.path.dirname(current_dir)\n",
    "sys.path.append(parent_dir)\n",
    "\n",
    "\n",
    "from source.load_data.wdc.load_wdc_dataset import EnglishDatasetLoader\n",
    "from source.utils.levenshtein_distance import compute_lev_dist_for_pairs\n",
    "from source.emb_extr_res.emb_extr_res import get_embeddings_df\n",
    "from source.utils.visualization import plot_histogram\n",
    "from source.probing.similarity_pairs_probing.get_data import get_pair_similarity_probing_task_df\n",
    "from config import TYPE, SIZE, EMBEDDING_PATH_PROBING, DATA_PATH, MODEL_TYPE, EMBEDDING_PATH_RAW\n",
    "from source.emb_extr_res.emb_extr_res import get_embeddings_df, get_pairs_similarity_df, get_pretrain_agg_similarity\n",
    "from source.load_data.wdc.load_wdc_dataset import EnglishDatasetLoader\n",
    "from source.probing.brand_names import prepare_brands_list, brands_in_title_check, prepare_new_dataset, drop_brands\n",
    "from source.probing.length import prepare_probing_len\n",
    "from source.probing.words import words_in_title_check\n",
    "from source.probing.load_data import load_files_probing_tasks\n"
   ]
  },
  {
   "cell_type": "code",
   "execution_count": null,
   "metadata": {},
   "outputs": [],
   "source": [
    "print(\"TYPE:\", TYPE)\n",
    "print(\"SIZE:\", SIZE)\n",
    "print(\"MODEL:\", MODEL_TYPE)"
   ]
  },
  {
   "cell_type": "code",
   "execution_count": null,
   "metadata": {},
   "outputs": [],
   "source": [
    "train_embeddings_path, embedding_train_df, train_df = load_files_probing_tasks(EMBEDDING_PATH_RAW, DATA_PATH, TYPE, SIZE)"
   ]
  },
  {
   "attachments": {},
   "cell_type": "markdown",
   "metadata": {},
   "source": [
    "# Probing Task: Sentence Length"
   ]
  },
  {
   "cell_type": "code",
   "execution_count": null,
   "metadata": {},
   "outputs": [],
   "source": [
    "train_df_left = train_df[[\"id_left\", \"title_left\"]]\n",
    "train_df_right = train_df[[\"id_right\", \"title_right\"]]\n",
    "train_df_left = train_df_left.drop_duplicates().rename({\"id_left\" : \"id\", \"title_left\" : \"title\"}, axis = 'columns')\n",
    "train_df_right = train_df_right.drop_duplicates().rename({\"id_right\" : \"id\", \"title_right\" : \"title\"}, axis = 'columns')\n",
    "\n",
    "df_train_all = pd.concat([train_df_right, train_df_left])\n",
    "\n",
    "# dataframe with only titles \n",
    "df_train_titles = df_train_all.groupby(\"id\").first().reset_index()\n",
    "\n",
    "# prepare dataframe with embeddings, label, offer id \n",
    "_, df_probing_len_sentence = prepare_probing_len(df_train_titles, train_embeddings_path)\n",
    "\n",
    "df_probing_len_sentence = df_probing_len_sentence.drop([\"id\"], axis = 1)\n",
    "df_probing_len_sentence.to_csv(os.path.join(EMBEDDING_PATH_PROBING, 'df_probing_len_sentence.csv'), index = False)"
   ]
  }
 ],
 "metadata": {
  "kernelspec": {
   "display_name": "base",
   "language": "python",
   "name": "python3"
  },
  "language_info": {
   "codemirror_mode": {
    "name": "ipython",
    "version": 3
   },
   "file_extension": ".py",
   "mimetype": "text/x-python",
   "name": "python",
   "nbconvert_exporter": "python",
   "pygments_lexer": "ipython3",
   "version": "3.9.7"
  },
  "orig_nbformat": 4,
  "vscode": {
   "interpreter": {
    "hash": "b90b5480b90dfd82255d68efb607ef96370ef33575f247c89a0b81cbaa1e7b55"
   }
  }
 },
 "nbformat": 4,
 "nbformat_minor": 2
}
