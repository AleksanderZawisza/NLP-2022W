{
 "cells": [
  {
   "cell_type": "code",
   "execution_count": 1,
   "metadata": {},
   "outputs": [],
   "source": [
    "from os import path\n",
    "import pandas as pd\n",
    "import numpy as np\n",
    "import importlib\n",
    "\n",
    "# setting path\n",
    "import os, sys\n",
    "current_dir = os.path.abspath('')\n",
    "parent_dir = os.path.dirname(current_dir)\n",
    "sys.path.append(parent_dir)\n",
    "\n",
    "from source.load_data.wdc.load_wdc_dataset import EnglishDatasetLoader\n",
    "from source.utils.levenshtein_distance import compute_lev_dist_for_pairs\n",
    "from source.emb_extr_res.emb_extr_res import get_embeddings_df\n",
    "from source.utils.visualization import plot_histogram\n",
    "from source.probing.similarity_pairs_probing.get_data import get_pair_similarity_probing_task_df\n",
    "from config import TYPE, SIZE, EMBEDDING_PATH_PROBING, DATA_PATH, MODEL_TYPE, EMBEDDING_PATH_RAW, REPO_PATH\n",
    "from source.emb_extr_res.emb_extr_res import get_embeddings_df, get_pairs_similarity_df, get_pretrain_agg_similarity\n",
    "from source.load_data.wdc.load_wdc_dataset import EnglishDatasetLoader\n",
    "from source.probing.brand_names import prepare_brands_list, brands_in_title_check, prepare_new_dataset, drop_brands\n",
    "from source.probing.length import prepare_probing_len\n",
    "from source.probing.words import words_in_title_check\n",
    "from source.probing.load_data import load_files_probing_tasks\n",
    "from source.probing.testing import test_visualize_probing_task"
   ]
  },
  {
   "cell_type": "code",
   "execution_count": null,
   "metadata": {},
   "outputs": [],
   "source": [
    "print(\"TYPE:\", TYPE)\n",
    "print(\"SIZE:\", SIZE)\n",
    "print(\"MODEL:\", MODEL_TYPE)"
   ]
  },
  {
   "cell_type": "code",
   "execution_count": null,
   "metadata": {},
   "outputs": [],
   "source": [
    "train_embeddings_path, embedding_train_df, train_df = load_files_probing_tasks(EMBEDDING_PATH_RAW, DATA_PATH, TYPE, SIZE)"
   ]
  },
  {
   "attachments": {},
   "cell_type": "markdown",
   "metadata": {},
   "source": [
    "# Probing Task: Keywords in Title"
   ]
  },
  {
   "cell_type": "code",
   "execution_count": null,
   "metadata": {},
   "outputs": [],
   "source": [
    "key_words_computers = ['computer', 'laptop', 'processor', 'gpu', 'cpu', 'hdd', 'ssd', 'memory']\n",
    "\n",
    "key_words_cameras = ['camera', 'lens', 'digit']\n",
    "\n",
    "key_words_natural = [\"what\", \"which\", \"who\", \"why\"]\n",
    "\n",
    "if TYPE == \"cameras\":\n",
    "    key_words = key_words_cameras\n",
    "elif TYPE == \"computers\":\n",
    "    key_words = key_words_computers\n",
    "elif TYPE == \"natural\":\n",
    "    key_words = key_words_natural\n",
    "\n",
    "df_words = words_in_title_check(train_df, key_words)\n",
    "df_words['keywords_in_title'].value_counts()"
   ]
  },
  {
   "attachments": {},
   "cell_type": "markdown",
   "metadata": {},
   "source": [
    "## Name Entity Recognition"
   ]
  },
  {
   "cell_type": "code",
   "execution_count": null,
   "metadata": {},
   "outputs": [],
   "source": [
    "if TYPE == \"natural\":\n",
    "    # df_words.drop([\"keywords_in_title\"], axis = 1).to_csv(os.path.join(DATA_PATH, 'df_raw_all_titles.csv'), index = False)\n",
    "    df_words = pd.read_csv(os.path.join(DATA_PATH, \"df_raw_all_titles_named_entity.csv\"))\n",
    "    df_words = df_words.rename({\"label\" : \"keywords_in_title\"}, axis=1)"
   ]
  },
  {
   "cell_type": "code",
   "execution_count": null,
   "metadata": {},
   "outputs": [],
   "source": [
    "df_probing_key_words = pd.merge(df_words[[\"id\", \"keywords_in_title\" ]], embedding_train_df, left_on = \"id\", right_on = 'id')\n",
    "df_probing_key_words = df_probing_key_words.rename({\"keywords_in_title\" : \"label\"}, axis=1)\n",
    "df_probing_key_words = df_probing_key_words.drop(\"id\", axis=1)\n",
    "\n",
    "# save dataframe to train probing task - keywords\n",
    "\n",
    "# df_probing_key_words.to_csv(os.path.join(EMBEDDING_PATH_PROBING, 'df_probing_key_words.csv'), index = False)\n",
    "\n",
    "df_probing_key_words.to_csv(os.path.join(EMBEDDING_PATH_PROBING, 'df_probing_key_words_NER.csv'), index = False)"
   ]
  },
  {
   "cell_type": "code",
   "execution_count": null,
   "metadata": {},
   "outputs": [],
   "source": [
    "test_visualize_probing_task(\n",
    "    \"df_probing_key_words.csv\", \"key_words_fine_tuned\", EMBEDDING_PATH_PROBING, REPO_PATH, TYPE, SIZE, MODEL_TYPE)"
   ]
  },
  {
   "cell_type": "code",
   "execution_count": null,
   "metadata": {},
   "outputs": [],
   "source": [
    "test_visualize_probing_task(\n",
    "    \"df_probing_key_words.csv\", \"key_words_pre_trained\", EMBEDDING_PATH_PROBING, REPO_PATH, TYPE, SIZE, MODEL_TYPE)"
   ]
  }
 ],
 "metadata": {
  "kernelspec": {
   "display_name": "base",
   "language": "python",
   "name": "python3"
  },
  "language_info": {
   "codemirror_mode": {
    "name": "ipython",
    "version": 3
   },
   "file_extension": ".py",
   "mimetype": "text/x-python",
   "name": "python",
   "nbconvert_exporter": "python",
   "pygments_lexer": "ipython3",
   "version": "3.9.7"
  },
  "orig_nbformat": 4,
  "vscode": {
   "interpreter": {
    "hash": "b90b5480b90dfd82255d68efb607ef96370ef33575f247c89a0b81cbaa1e7b55"
   }
  }
 },
 "nbformat": 4,
 "nbformat_minor": 2
}
