{
 "cells": [
  {
   "cell_type": "code",
   "execution_count": 1,
   "metadata": {},
   "outputs": [],
   "source": [
    "import pandas as pd\n",
    "import json\n",
    "import openai\n",
    "from ast import literal_eval\n",
    "from tqdm import tqdm"
   ]
  },
  {
   "cell_type": "code",
   "execution_count": 2,
   "metadata": {},
   "outputs": [],
   "source": [
    "data = pd.read_csv(\"../dataset/recipes_w_search_terms.csv\")\n",
    "with open(\"../openai_key.txt\") as f:\n",
    "    key = f.readline()\n",
    "openai.api_key = key\n",
    "MODEL_TO_USE = \"text-davinci-003\""
   ]
  },
  {
   "cell_type": "code",
   "execution_count": 3,
   "metadata": {},
   "outputs": [],
   "source": [
    "data.ingredients = data.ingredients.apply(lambda x: \"\\n\".join(literal_eval(x)))"
   ]
  },
  {
   "cell_type": "code",
   "execution_count": 8,
   "metadata": {},
   "outputs": [],
   "source": [
    "with open(\"../prompts_templates.json\") as f:\n",
    "    prompt = json.load(f)[\"specified_dietary_tags_classification\"][1]"
   ]
  },
  {
   "cell_type": "code",
   "execution_count": 40,
   "metadata": {},
   "outputs": [],
   "source": [
    "dietary_tags = \"vegan, vegetarin, sweet, seafood, meat, low-sodium, low-carb, low-cholesterol, low-calorie, low-protein, low-saturated-fat, low-fat, dairy, nuts, sugar-free, kosher\""
   ]
  },
  {
   "cell_type": "code",
   "execution_count": 41,
   "metadata": {},
   "outputs": [],
   "source": [
    "text = data.ingredients[1]"
   ]
  },
  {
   "cell_type": "code",
   "execution_count": 42,
   "metadata": {},
   "outputs": [],
   "source": [
    "model_input = prompt.replace(\"DIETARY_TAGS\", dietary_tags).replace(\n",
    "    \"INPUT_TEXT\", text\n",
    ")"
   ]
  },
  {
   "cell_type": "code",
   "execution_count": 43,
   "metadata": {},
   "outputs": [
    {
     "name": "stdout",
     "output_type": "stream",
     "text": [
      "Return json which has false if dietary tags from list below\n",
      "vegan, vegetarin, sweet, seafood, meat, low-sodium, low-carb, low-cholesterol, low-calorie, low-protein, low-saturated-fat, low-fat, dairy, nuts, sugar-free, kosher\n",
      "match below text:\n",
      "onion\n",
      "red bell pepper\n",
      "garlic cloves\n",
      "large shrimp\n",
      "salt\n",
      "hot pepper sauce\n",
      "vegetable oil\n",
      "andouille sausage\n",
      "long grain rice\n",
      "bay leaves\n",
      "diced tomatoes\n",
      "clam juice\n",
      "fresh parsley\n"
     ]
    }
   ],
   "source": [
    "print(model_input)"
   ]
  },
  {
   "cell_type": "code",
   "execution_count": 44,
   "metadata": {},
   "outputs": [],
   "source": [
    "response = openai.Completion.create(\n",
    "    model=MODEL_TO_USE,\n",
    "    prompt=model_input,\n",
    "    temperature=0,\n",
    "    max_tokens=1024,\n",
    "    top_p=1.0,\n",
    "    frequency_penalty=0.0,\n",
    "    presence_penalty=0.0,\n",
    ")"
   ]
  },
  {
   "cell_type": "code",
   "execution_count": 45,
   "metadata": {},
   "outputs": [
    {
     "name": "stdout",
     "output_type": "stream",
     "text": [
      "\n",
      "\n",
      "{\n",
      "\"vegan\": false,\n",
      "\"vegetarian\": false,\n",
      "\"sweet\": false,\n",
      "\"seafood\": true,\n",
      "\"meat\": true,\n",
      "\"low-sodium\": false,\n",
      "\"low-carb\": false,\n",
      "\"low-cholesterol\": false,\n",
      "\"low-calorie\": false,\n",
      "\"low-protein\": false,\n",
      "\"low-saturated-fat\": false,\n",
      "\"low-fat\": false,\n",
      "\"dairy\": false,\n",
      "\"nuts\": false,\n",
      "\"sugar-free\": false,\n",
      "\"kosher\": false\n",
      "}\n"
     ]
    }
   ],
   "source": [
    "print(response[\"choices\"][0][\"text\"])"
   ]
  }
 ],
 "metadata": {
  "kernelspec": {
   "display_name": "llm-recipes",
   "language": "python",
   "name": "python3"
  },
  "language_info": {
   "codemirror_mode": {
    "name": "ipython",
    "version": 3
   },
   "file_extension": ".py",
   "mimetype": "text/x-python",
   "name": "python",
   "nbconvert_exporter": "python",
   "pygments_lexer": "ipython3",
   "version": "3.9.15 (main, Nov 24 2022, 14:31:59) \n[GCC 11.2.0]"
  },
  "orig_nbformat": 4,
  "vscode": {
   "interpreter": {
    "hash": "ba346623e5ccdafa152eee34f798478893b34ce52cd136388c918e0ef1d086ff"
   }
  }
 },
 "nbformat": 4,
 "nbformat_minor": 2
}
