{
 "cells": [
  {
   "cell_type": "code",
   "execution_count": 3,
   "metadata": {},
   "outputs": [],
   "source": [
    "import pandas as pd\n",
    "import openai\n",
    "import re\n",
    "MODEL_TO_USE = \"text-davinci-003\"\n",
    "with open(\"../openai_key.txt\", encoding=\"utf-8\") as f:\n",
    "    key = f.readline()\n",
    "openai.api_key = key\n"
   ]
  },
  {
   "cell_type": "code",
   "execution_count": 6,
   "metadata": {},
   "outputs": [],
   "source": [
    "data = pd.read_csv(\"../results/llm_sampled_data.csv\")"
   ]
  },
  {
   "cell_type": "code",
   "execution_count": 7,
   "metadata": {},
   "outputs": [],
   "source": [
    "data.ingredients = data.ingredients.apply(lambda x: re.sub(r'\\s+', ' ', x))"
   ]
  },
  {
   "attachments": {},
   "cell_type": "markdown",
   "metadata": {},
   "source": [
    "# NER"
   ]
  },
  {
   "cell_type": "code",
   "execution_count": 66,
   "metadata": {},
   "outputs": [
    {
     "name": "stdout",
     "output_type": "stream",
     "text": [
      "1/3 cup toasted pumpkin seeds\n",
      "4 ounces softened reduced-fat cream cheese or 4 ounces cream cheese\n",
      "4 ounces goat cheese (I used La Buchette with Fine Herbs)\n",
      "1 (16 ounce) jar salsa (Frontera Jalapeno Cilantro recommended)\n",
      "chopped fresh cilantro\n"
     ]
    }
   ],
   "source": [
    "print(data.ingredients[0].replace('. ', \"\\n\"))"
   ]
  },
  {
   "cell_type": "code",
   "execution_count": 24,
   "metadata": {},
   "outputs": [],
   "source": [
    "ner_template = \"Do Named Entity Recognition on below text and return result in json format\\ntext:\\n{}\\nresult:\"\n",
    "text = ner_template.format(data.ingredients[0])"
   ]
  },
  {
   "cell_type": "code",
   "execution_count": 26,
   "metadata": {},
   "outputs": [],
   "source": [
    "response = openai.Completion.create(\n",
    "            model=MODEL_TO_USE,\n",
    "            prompt=text,\n",
    "            temperature=0,\n",
    "            max_tokens=1024,\n",
    "            top_p=1.0,\n",
    "            frequency_penalty=0.0,\n",
    "            presence_penalty=0.0,\n",
    "        )"
   ]
  },
  {
   "cell_type": "code",
   "execution_count": 28,
   "metadata": {},
   "outputs": [
    {
     "name": "stdout",
     "output_type": "stream",
     "text": [
      "\n",
      "{\n",
      "  \"entities\": [\n",
      "    {\n",
      "      \"text\": \"1/3 cup\",\n",
      "      \"type\": \"Quantity\"\n",
      "    },\n",
      "    {\n",
      "      \"text\": \"toasted pumpkin seeds\",\n",
      "      \"type\": \"Food\"\n",
      "    },\n",
      "    {\n",
      "      \"text\": \"4 ounces\",\n",
      "      \"type\": \"Quantity\"\n",
      "    },\n",
      "    {\n",
      "      \"text\": \"reduced-fat cream cheese\",\n",
      "      \"type\": \"Food\"\n",
      "    },\n",
      "    {\n",
      "      \"text\": \"4 ounces\",\n",
      "      \"type\": \"Quantity\"\n",
      "    },\n",
      "    {\n",
      "      \"text\": \"cream cheese\",\n",
      "      \"type\": \"Food\"\n",
      "    },\n",
      "    {\n",
      "      \"text\": \"4 ounces\",\n",
      "      \"type\": \"Quantity\"\n",
      "    },\n",
      "    {\n",
      "      \"text\": \"goat cheese\",\n",
      "      \"type\": \"Food\"\n",
      "    },\n",
      "    {\n",
      "      \"text\": \"La Buchette with Fine Herbs\",\n",
      "      \"type\": \"Food\"\n",
      "    },\n",
      "    {\n",
      "      \"text\": \"1 (16 ounce)\",\n",
      "      \"type\": \"Quantity\"\n",
      "    },\n",
      "    {\n",
      "      \"text\": \"jar salsa\",\n",
      "      \"type\": \"Food\"\n",
      "    },\n",
      "    {\n",
      "      \"text\": \"Frontera Jalapeno Cilantro\",\n",
      "      \"type\": \"Food\"\n",
      "    },\n",
      "    {\n",
      "      \"text\": \"chopped fresh cilantro\",\n",
      "      \"type\": \"Food\"\n",
      "    }\n",
      "  ]\n",
      "}\n"
     ]
    }
   ],
   "source": [
    "print(response['choices'][0]['text'])"
   ]
  },
  {
   "attachments": {},
   "cell_type": "markdown",
   "metadata": {},
   "source": [
    "# Ingredients replacement"
   ]
  },
  {
   "cell_type": "code",
   "execution_count": 69,
   "metadata": {},
   "outputs": [
    {
     "name": "stdout",
     "output_type": "stream",
     "text": [
      "-2 tablespoons olive oil\n",
      "-1 cup onion (chopped)\n",
      "-2 -3 garlic cloves\n",
      "-1 lb stewing beef\n",
      "-1 (32 ounce) box beef broth\n",
      "-1/2 cup red wine\n",
      "-1/2 cup water\n",
      "-1 cup barley\n",
      "-barley, is not gluten free\n",
      "-2 bay leaves\n",
      "-ground black pepper\n",
      "-1 -2 dash Worcestershire sauce\n",
      "-1 cup cherry tomatoes (halved, or a can of chopped tomatoes)\n",
      "-8 ounces sliced mushrooms (crimini best)\n",
      "-1 cup cabbage, 1 inch dice\n"
     ]
    }
   ],
   "source": [
    "print('-' + data.ingredients[200].replace('. ', '\\n-'))"
   ]
  },
  {
   "cell_type": "code",
   "execution_count": 40,
   "metadata": {},
   "outputs": [],
   "source": [
    "replacement = \"How to replace below ingredients to make it Vegan?\\n{}\\n\"\n",
    "text = replacement.format(data.ingredients[200])"
   ]
  },
  {
   "cell_type": "code",
   "execution_count": 41,
   "metadata": {},
   "outputs": [],
   "source": [
    "response = openai.Completion.create(\n",
    "            model=MODEL_TO_USE,\n",
    "            prompt=text,\n",
    "            temperature=0,\n",
    "            max_tokens=1024,\n",
    "            top_p=1.0,\n",
    "            frequency_penalty=0.0,\n",
    "            presence_penalty=0.0,\n",
    "        )"
   ]
  },
  {
   "cell_type": "code",
   "execution_count": 42,
   "metadata": {},
   "outputs": [
    {
     "name": "stdout",
     "output_type": "stream",
     "text": [
      "\n",
      "To make this recipe vegan, replace the following ingredients:\n",
      "\n",
      "-Olive oil: Replace with vegan-friendly oil such as coconut oil or avocado oil.\n",
      "\n",
      "-Stewing beef: Replace with vegan-friendly protein such as tempeh, seitan, or tofu.\n",
      "\n",
      "-Beef broth: Replace with vegan-friendly vegetable broth.\n",
      "\n",
      "-Red wine: Replace with vegan-friendly red wine or a non-alcoholic alternative.\n",
      "\n",
      "-Barley: Replace with a gluten-free grain such as quinoa or millet.\n",
      "\n",
      "-Worcestershire sauce: Replace with vegan-friendly Worcestershire sauce.\n",
      "\n",
      "-Cherry tomatoes: Replace with a can of diced tomatoes or fresh tomatoes.\n",
      "\n",
      "-Mushrooms: Replace with vegan-friendly mushrooms such as shiitake or oyster mushrooms.\n",
      "\n",
      "-Cabbage: Replace with vegan-friendly vegetables such as kale, spinach, or bell peppers.\n"
     ]
    }
   ],
   "source": [
    "print(response['choices'][0]['text'])"
   ]
  },
  {
   "cell_type": "code",
   "execution_count": 8,
   "metadata": {},
   "outputs": [],
   "source": [
    "replacement = \"How to replace Stewing beef and Beef Broth to make below recipe Vegan?\\n{}\\n\"\n",
    "text = replacement.format(data.ingredients[200])"
   ]
  },
  {
   "cell_type": "code",
   "execution_count": 9,
   "metadata": {},
   "outputs": [
    {
     "name": "stdout",
     "output_type": "stream",
     "text": [
      "How to replace Stewing beef and Beef Broth to make below recipe Vegan?\n",
      "2 tablespoons olive oil. 1 cup onion (chopped). 2 -3 garlic cloves. 1 lb stewing beef. 1 (32 ounce) box beef broth. 1/2 cup red wine. 1/2 cup water. 1 cup barley. barley, is not gluten free. 2 bay leaves. ground black pepper. 1 -2 dash Worcestershire sauce. 1 cup cherry tomatoes (halved, or a can of chopped tomatoes). 8 ounces sliced mushrooms (crimini best). 1 cup cabbage, 1 inch dice\n",
      "\n"
     ]
    }
   ],
   "source": [
    "print(text)"
   ]
  },
  {
   "cell_type": "code",
   "execution_count": 10,
   "metadata": {},
   "outputs": [],
   "source": [
    "response = openai.Completion.create(\n",
    "            model=MODEL_TO_USE,\n",
    "            prompt=text,\n",
    "            temperature=0,\n",
    "            max_tokens=1024,\n",
    "            top_p=1.0,\n",
    "            frequency_penalty=0.0,\n",
    "            presence_penalty=0.0,\n",
    "        )"
   ]
  },
  {
   "cell_type": "code",
   "execution_count": 11,
   "metadata": {},
   "outputs": [
    {
     "name": "stdout",
     "output_type": "stream",
     "text": [
      "\n",
      "To make the recipe vegan, replace the stewing beef with a vegan alternative such as seitan, tempeh, or tofu. Replace the beef broth with a vegan broth such as vegetable broth or mushroom broth. Replace the Worcestershire sauce with a vegan alternative such as tamari or soy sauce. Replace the red wine with a vegan alternative such as apple cider vinegar or balsamic vinegar.\n"
     ]
    }
   ],
   "source": [
    "print(response['choices'][0]['text'])"
   ]
  },
  {
   "cell_type": "code",
   "execution_count": 43,
   "metadata": {},
   "outputs": [],
   "source": [
    "replacement = \"How to replace below ingredients to make it vegetarian?\\n{}\\n\"\n",
    "text = replacement.format(data.ingredients[200])"
   ]
  },
  {
   "cell_type": "code",
   "execution_count": 44,
   "metadata": {},
   "outputs": [],
   "source": [
    "response = openai.Completion.create(\n",
    "            model=MODEL_TO_USE,\n",
    "            prompt=text,\n",
    "            temperature=0,\n",
    "            max_tokens=1024,\n",
    "            top_p=1.0,\n",
    "            frequency_penalty=0.0,\n",
    "            presence_penalty=0.0,\n",
    "        )"
   ]
  },
  {
   "cell_type": "code",
   "execution_count": 45,
   "metadata": {},
   "outputs": [
    {
     "name": "stdout",
     "output_type": "stream",
     "text": [
      "\n",
      "To make this recipe vegetarian, you can replace the stewing beef with a plant-based protein such as seitan, tempeh, or tofu. You can also replace the beef broth with vegetable broth. The Worcestershire sauce can be replaced with a vegan Worcestershire sauce. The barley can be replaced with quinoa or brown rice. The mushrooms can be replaced with other vegetables such as bell peppers, zucchini, or eggplant. Finally, the cabbage can be replaced with kale or spinach.\n"
     ]
    }
   ],
   "source": [
    "print(response['choices'][0]['text'])"
   ]
  },
  {
   "cell_type": "code",
   "execution_count": 49,
   "metadata": {},
   "outputs": [],
   "source": [
    "replacement = \"What are some ways to adapt this recipe to be vegan?\\n{}\\n\"\n",
    "text = replacement.format(data.ingredients[200])"
   ]
  },
  {
   "cell_type": "code",
   "execution_count": 50,
   "metadata": {},
   "outputs": [],
   "source": [
    "response = openai.Completion.create(\n",
    "            model=MODEL_TO_USE,\n",
    "            prompt=text,\n",
    "            temperature=0,\n",
    "            max_tokens=1024,\n",
    "            top_p=1.0,\n",
    "            frequency_penalty=0.0,\n",
    "            presence_penalty=0.0,\n",
    "        )"
   ]
  },
  {
   "cell_type": "code",
   "execution_count": 51,
   "metadata": {},
   "outputs": [
    {
     "name": "stdout",
     "output_type": "stream",
     "text": [
      "\n",
      "To make this recipe vegan, you could substitute the beef with a vegan alternative such as seitan, tempeh, or tofu. You could also use vegetable broth instead of beef broth. Additionally, you could omit the Worcestershire sauce and replace it with a vegan alternative such as tamari or soy sauce. Finally, you could replace the olive oil with a vegan alternative such as coconut oil.\n"
     ]
    }
   ],
   "source": [
    "print(response['choices'][0]['text'])"
   ]
  },
  {
   "cell_type": "code",
   "execution_count": 52,
   "metadata": {},
   "outputs": [],
   "source": [
    "replacement = \"What are some ways to make this recipe more healthy?\\n{}\\n\"\n",
    "text = replacement.format(data.ingredients[200])"
   ]
  },
  {
   "cell_type": "code",
   "execution_count": 53,
   "metadata": {},
   "outputs": [],
   "source": [
    "response = openai.Completion.create(\n",
    "            model=MODEL_TO_USE,\n",
    "            prompt=text,\n",
    "            temperature=0,\n",
    "            max_tokens=1024,\n",
    "            top_p=1.0,\n",
    "            frequency_penalty=0.0,\n",
    "            presence_penalty=0.0,\n",
    "        )"
   ]
  },
  {
   "cell_type": "code",
   "execution_count": 54,
   "metadata": {},
   "outputs": [
    {
     "name": "stdout",
     "output_type": "stream",
     "text": [
      "\n",
      "1. Replace the beef broth with vegetable broth. \n",
      "2. Use leaner cuts of beef, such as sirloin or flank steak. \n",
      "3. Use brown rice instead of barley. \n",
      "4. Use low-sodium Worcestershire sauce. \n",
      "5. Add more vegetables, such as carrots, celery, and bell peppers. \n",
      "6. Use olive oil or avocado oil instead of butter. \n",
      "7. Use fresh herbs instead of dried herbs. \n",
      "8. Use low-fat or non-fat dairy products, such as Greek yogurt or cottage cheese. \n",
      "9. Use low-sodium canned tomatoes. \n",
      "10. Add legumes, such as chickpeas or lentils, for added protein and fiber.\n"
     ]
    }
   ],
   "source": [
    "print(response['choices'][0]['text'])"
   ]
  },
  {
   "attachments": {},
   "cell_type": "markdown",
   "metadata": {},
   "source": [
    "# Nutritional breakdown"
   ]
  },
  {
   "cell_type": "code",
   "execution_count": 58,
   "metadata": {},
   "outputs": [],
   "source": [
    "recipe = \"\"\"16 ounces of fresh Chinese egg noodles (Lo mein noodles)\n",
    "3 tablespoons vegetable oil\n",
    "6 garlic cloves, minced\n",
    "8 ounces pork tenderloin, thinly sliced\n",
    "2 teaspoons rice wine vinegar\n",
    "6 -8 cups water\n",
    "3 tablespoons soy sauce\n",
    "2 tablespoons dashida, powder (Beef flavored soup stock)\n",
    "2 teaspoons ginger, grated\n",
    "2 cups cabbage kimchi, chopped in big pieces\n",
    "4 ounces shiitake mushrooms, thinly sliced\n",
    "7 ounces firm tofu, cut into 1-inch squarex.issubset(y)\n",
    "4 baby bok choy, quartered\n",
    "2 scallions, thinly sliced\n",
    "2 teaspoons dark sesame oil\n",
    "salt and pepper (Add a little salt and pepper at a time and taste as you go. The kimchi and soy sauce may be enough s)\n",
    "sriracha sauce (Optional but highly recommended.)\"\"\""
   ]
  },
  {
   "cell_type": "code",
   "execution_count": 70,
   "metadata": {},
   "outputs": [
    {
     "name": "stdout",
     "output_type": "stream",
     "text": [
      "16 ounces of fresh Chinese egg noodles (Lo mein noodles)\n",
      "3 tablespoons vegetable oil\n",
      "6 garlic cloves, minced\n",
      "8 ounces pork tenderloin, thinly sliced\n",
      "2 teaspoons rice wine vinegar\n",
      "6 -8 cups water\n",
      "3 tablespoons soy sauce\n",
      "2 tablespoons dashida, powder (Beef flavored soup stock)\n",
      "2 teaspoons ginger, grated\n",
      "2 cups cabbage kimchi, chopped in big pieces\n",
      "4 ounces shiitake mushrooms, thinly sliced\n",
      "7 ounces firm tofu, cut into 1-inch squares\n",
      "4 baby bok choy, quartered\n",
      "2 scallions, thinly sliced\n",
      "2 teaspoons dark sesame oil\n",
      "salt and pepper (Add a little salt and pepper at a time and taste as you go. The kimchi and soy sauce may be enough s)\n",
      "sriracha sauce (Optional but highly recommended.)\n"
     ]
    }
   ],
   "source": [
    "print(recipe)"
   ]
  },
  {
   "cell_type": "code",
   "execution_count": 59,
   "metadata": {},
   "outputs": [],
   "source": [
    "replacement = \"Can you give me a nutritional breakdown for this recipe?\\n{}\\n\"\n",
    "text = replacement.format(recipe)"
   ]
  },
  {
   "cell_type": "code",
   "execution_count": 60,
   "metadata": {},
   "outputs": [],
   "source": [
    "response = openai.Completion.create(\n",
    "            model=MODEL_TO_USE,\n",
    "            prompt=text,\n",
    "            temperature=0,\n",
    "            max_tokens=1024,\n",
    "            top_p=1.0,\n",
    "            frequency_penalty=0.0,\n",
    "            presence_penalty=0.0,\n",
    "        )"
   ]
  },
  {
   "cell_type": "code",
   "execution_count": 61,
   "metadata": {},
   "outputs": [
    {
     "name": "stdout",
     "output_type": "stream",
     "text": [
      "\n",
      "Nutritional breakdown per serving (4 servings):\n",
      "Calories: 441\n",
      "Fat: 22.3g\n",
      "Carbohydrates: 39.3g\n",
      "Protein: 22.3g\n",
      "Sodium: 1290mg\n",
      "Fiber: 5.2g\n",
      "Sugar: 5.2g\n"
     ]
    }
   ],
   "source": [
    "print(response['choices'][0]['text'])"
   ]
  },
  {
   "attachments": {},
   "cell_type": "markdown",
   "metadata": {},
   "source": [
    "# Leftovers"
   ]
  },
  {
   "cell_type": "code",
   "execution_count": null,
   "metadata": {},
   "outputs": [],
   "source": [
    "How can I store leftovers from this recipe?"
   ]
  },
  {
   "cell_type": "code",
   "execution_count": 62,
   "metadata": {},
   "outputs": [],
   "source": [
    "replacement = \"How can I store leftovers from this recipe?\\n{}\\n\"\n",
    "text = replacement.format(recipe)"
   ]
  },
  {
   "cell_type": "code",
   "execution_count": 63,
   "metadata": {},
   "outputs": [],
   "source": [
    "response = openai.Completion.create(\n",
    "            model=MODEL_TO_USE,\n",
    "            prompt=text,\n",
    "            temperature=0,\n",
    "            max_tokens=1024,\n",
    "            top_p=1.0,\n",
    "            frequency_penalty=0.0,\n",
    "            presence_penalty=0.0,\n",
    "        )"
   ]
  },
  {
   "cell_type": "code",
   "execution_count": 64,
   "metadata": {},
   "outputs": [
    {
     "name": "stdout",
     "output_type": "stream",
     "text": [
      "\n",
      "Leftovers from this recipe can be stored in an airtight container in the refrigerator for up to 3 days.\n"
     ]
    }
   ],
   "source": [
    "print(response['choices'][0]['text'])"
   ]
  }
 ],
 "metadata": {
  "kernelspec": {
   "display_name": "llm-recipes",
   "language": "python",
   "name": "python3"
  },
  "language_info": {
   "codemirror_mode": {
    "name": "ipython",
    "version": 3
   },
   "file_extension": ".py",
   "mimetype": "text/x-python",
   "name": "python",
   "nbconvert_exporter": "python",
   "pygments_lexer": "ipython3",
   "version": "3.9.15 (main, Nov 24 2022, 14:31:59) \n[GCC 11.2.0]"
  },
  "orig_nbformat": 4,
  "vscode": {
   "interpreter": {
    "hash": "ba346623e5ccdafa152eee34f798478893b34ce52cd136388c918e0ef1d086ff"
   }
  }
 },
 "nbformat": 4,
 "nbformat_minor": 2
}
