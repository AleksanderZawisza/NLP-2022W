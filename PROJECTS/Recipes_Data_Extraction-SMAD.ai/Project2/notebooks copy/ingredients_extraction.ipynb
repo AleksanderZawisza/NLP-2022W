{
 "cells": [
  {
   "cell_type": "code",
   "execution_count": 1,
   "metadata": {},
   "outputs": [],
   "source": [
    "import pandas as pd\n",
    "import json\n",
    "import openai"
   ]
  },
  {
   "cell_type": "code",
   "execution_count": 2,
   "metadata": {},
   "outputs": [],
   "source": [
    "data = pd.read_csv(\"../dataset/llm_sampled_data.csv\")\n",
    "with open(\"../openai_key.txt\") as f:\n",
    "    key = f.readline()\n",
    "openai.api_key = key\n",
    "MODEL_TO_USE = \"text-davinci-003\""
   ]
  },
  {
   "cell_type": "code",
   "execution_count": 3,
   "metadata": {},
   "outputs": [],
   "source": [
    "with open(\"../prompts_templates.json\") as f:\n",
    "    ner_prompt = json.load(f)[\"ingredients_extraction\"][0]"
   ]
  },
  {
   "cell_type": "code",
   "execution_count": 9,
   "metadata": {},
   "outputs": [
    {
     "data": {
      "text/plain": [
       "'Do Named entity recognition and return json format on below text\\nINPUT_TEXT\\n'"
      ]
     },
     "execution_count": 9,
     "metadata": {},
     "output_type": "execute_result"
    }
   ],
   "source": [
    "ner_prompt"
   ]
  },
  {
   "cell_type": "code",
   "execution_count": 4,
   "metadata": {},
   "outputs": [],
   "source": [
    "def get_response(text):\n",
    "    model_input = ner_prompt.replace(\"INPUT_TEXT\", text)\n",
    "    response = openai.Completion.create(\n",
    "        model=MODEL_TO_USE,\n",
    "        prompt=model_input,\n",
    "        temperature=0,\n",
    "        max_tokens=256,\n",
    "        top_p=1.0,\n",
    "        frequency_penalty=0.0,\n",
    "        presence_penalty=0.0,\n",
    "    )\n",
    "    return response"
   ]
  },
  {
   "cell_type": "code",
   "execution_count": 11,
   "metadata": {},
   "outputs": [
    {
     "data": {
      "text/plain": [
       "'. 1   lb    cauliflower, in 2 1/2 x 1 inch flowerets  (about 1/2 medium head). 1 1/2  tablespoons    parsley, minced. 1/2-1   tablespoon    chili pepper, seeded and minced. . 2   tablespoons    cider vinegar. 1/2  teaspoon    sugar. 1   pinch    salt. 1   teaspoon    Dijon mustard, country-style. 2   tablespoons    sesame oil. 1   pinch    pepper'"
      ]
     },
     "execution_count": 11,
     "metadata": {},
     "output_type": "execute_result"
    }
   ],
   "source": [
    "data[\"ingredients\"][0]"
   ]
  },
  {
   "cell_type": "code",
   "execution_count": 6,
   "metadata": {},
   "outputs": [],
   "source": [
    "example_response = get_response(data[\"ingredients_list\"][0])"
   ]
  },
  {
   "cell_type": "code",
   "execution_count": 8,
   "metadata": {},
   "outputs": [
    {
     "name": "stdout",
     "output_type": "stream",
     "text": [
      "\n",
      "{\n",
      "  \"entities\": [\n",
      "    {\n",
      "      \"name\": \"cauliflower\",\n",
      "      \"type\": \"Food\"\n",
      "    },\n",
      "    {\n",
      "      \"name\": \"parsley\",\n",
      "      \"type\": \"Food\"\n",
      "    },\n",
      "    {\n",
      "      \"name\": \"chili pepper\",\n",
      "      \"type\": \"Food\"\n",
      "    },\n",
      "    {\n",
      "      \"name\": \"cider vinegar\",\n",
      "      \"type\": \"Food\"\n",
      "    },\n",
      "    {\n",
      "      \"name\": \"sugar\",\n",
      "      \"type\": \"Food\"\n",
      "    },\n",
      "    {\n",
      "      \"name\": \"salt\",\n",
      "      \"type\": \"Food\"\n",
      "    },\n",
      "    {\n",
      "      \"name\": \"dijon mustard\",\n",
      "      \"type\": \"Food\"\n",
      "    },\n",
      "    {\n",
      "      \"name\": \"sesame oil\",\n",
      "      \"type\": \"Food\"\n",
      "    },\n",
      "    {\n",
      "      \"name\": \"pepper\",\n",
      "      \"type\": \"Food\"\n",
      "    }\n",
      "  ]\n",
      "}\n"
     ]
    }
   ],
   "source": [
    "print(example_response[\"choices\"][0][\"text\"])"
   ]
  },
  {
   "cell_type": "code",
   "execution_count": 63,
   "metadata": {},
   "outputs": [],
   "source": [
    "response = openai.Edit.create(\n",
    "    model=\"text-davinci-edit-001\",\n",
    "    input=json.dumps(data[\"ingredients_raw_str\"][0].split(\"\\n\"), indent=2),\n",
    "    instruction=instruction,\n",
    "    temperature=0,\n",
    "    top_p=1.0,\n",
    ")"
   ]
  },
  {
   "cell_type": "code",
   "execution_count": 64,
   "metadata": {},
   "outputs": [
    {
     "name": "stdout",
     "output_type": "stream",
     "text": [
      "[\n",
      "  \"water\",\n",
      "  \"uncooked old fashion grits\",\n",
      "  \"salt\",\n",
      "  \"shredded cheddar cheese\",\n",
      "  \"garlic, minced \",\n",
      "  \"olive oil\"\n",
      "]\n",
      "\n"
     ]
    }
   ],
   "source": [
    "print(response[\"choices\"][0][\"text\"])"
   ]
  },
  {
   "cell_type": "code",
   "execution_count": 40,
   "metadata": {},
   "outputs": [
    {
     "data": {
      "text/plain": [
       "<OpenAIObject text_completion id=cmpl-6XXWrY1f8twG4NVvAh949V5CJwPst at 0x7feeed00dd60> JSON: {\n",
       "  \"choices\": [\n",
       "    {\n",
       "      \"finish_reason\": \"stop\",\n",
       "      \"index\": 0,\n",
       "      \"logprobs\": null,\n",
       "      \"text\": \"\\n[{\\\"entity\\\": \\\"4 cups\\\", \\\"type\\\": \\\"Quantity\\\"}, {\\\"entity\\\": \\\"water\\\", \\\"type\\\": \\\"Ingredient\\\"}, {\\\"entity\\\": \\\"1 cup\\\", \\\"type\\\": \\\"Quantity\\\"}, {\\\"entity\\\": \\\"uncooked old fashion grits\\\", \\\"type\\\": \\\"Ingredient\\\"}, {\\\"entity\\\": \\\"1 teaspoon\\\", \\\"type\\\": \\\"Quantity\\\"}, {\\\"entity\\\": \\\"salt\\\", \\\"type\\\": \\\"Ingredient\\\"}, {\\\"entity\\\": \\\"4 ounces\\\", \\\"type\\\": \\\"Quantity\\\"}, {\\\"entity\\\": \\\"shredded cheddar cheese\\\", \\\"type\\\": \\\"Ingredient\\\"}, {\\\"entity\\\": \\\"1-2 clove\\\", \\\"type\\\": \\\"Quantity\\\"}, {\\\"entity\\\": \\\"garlic, minced\\\", \\\"type\\\": \\\"Ingredient\\\"}, {\\\"entity\\\": \\\"1 tablespoon\\\", \\\"type\\\": \\\"Quantity\\\"}, {\\\"entity\\\": \\\"olive oil\\\", \\\"type\\\": \\\"Ingredient\\\"}]\"\n",
       "    }\n",
       "  ],\n",
       "  \"created\": 1673451729,\n",
       "  \"id\": \"cmpl-6XXWrY1f8twG4NVvAh949V5CJwPst\",\n",
       "  \"model\": \"text-davinci-003\",\n",
       "  \"object\": \"text_completion\",\n",
       "  \"usage\": {\n",
       "    \"completion_tokens\": 184,\n",
       "    \"prompt_tokens\": 63,\n",
       "    \"total_tokens\": 247\n",
       "  }\n",
       "}"
      ]
     },
     "execution_count": 40,
     "metadata": {},
     "output_type": "execute_result"
    }
   ],
   "source": [
    "example_response"
   ]
  },
  {
   "cell_type": "code",
   "execution_count": 42,
   "metadata": {},
   "outputs": [],
   "source": [
    "test = json.loads(example_response[\"choices\"][0][\"text\"])"
   ]
  },
  {
   "cell_type": "code",
   "execution_count": 22,
   "metadata": {},
   "outputs": [
    {
     "data": {
      "text/plain": [
       "\"['water', 'grits', 'salt', 'cheddar cheese', 'garlic', 'olive oil']\""
      ]
     },
     "execution_count": 22,
     "metadata": {},
     "output_type": "execute_result"
    }
   ],
   "source": [
    "data[\"ingredients\"][0]"
   ]
  },
  {
   "cell_type": "code",
   "execution_count": 99,
   "metadata": {},
   "outputs": [],
   "source": [
    "with open(\"../prompts_templates.json\") as f:\n",
    "    ner_prompt = json.load(f)[\"ingredients_extraction\"][1]"
   ]
  },
  {
   "cell_type": "code",
   "execution_count": 129,
   "metadata": {},
   "outputs": [],
   "source": [
    "inputs = [\n",
    "    ner_prompt.replace(\"INPUT_TEXT\", text)\n",
    "    for text in data.ingredients_raw_str[:50]\n",
    "]"
   ]
  },
  {
   "cell_type": "code",
   "execution_count": 130,
   "metadata": {},
   "outputs": [],
   "source": [
    "from tqdm import tqdm"
   ]
  },
  {
   "cell_type": "code",
   "execution_count": 131,
   "metadata": {},
   "outputs": [
    {
     "name": "stderr",
     "output_type": "stream",
     "text": [
      "100%|██████████| 10/10 [00:44<00:00,  4.47s/it]\n"
     ]
    }
   ],
   "source": [
    "responses = []\n",
    "number_of_concurrent_responses = 5\n",
    "for i in tqdm(range(len(inputs) // number_of_concurrent_responses)):\n",
    "    response = openai.Completion.create(\n",
    "        model=MODEL_TO_USE,\n",
    "        prompt=inputs[\n",
    "            i\n",
    "            * number_of_concurrent_responses : (i + 1)\n",
    "            * number_of_concurrent_responses\n",
    "        ],\n",
    "        temperature=0,\n",
    "        max_tokens=1024,\n",
    "        top_p=1.0,\n",
    "        frequency_penalty=0.0,\n",
    "        presence_penalty=0.0,\n",
    "    )\n",
    "    responses += [json.loads(x[\"text\"]) for x in response[\"choices\"]]\n",
    "if len(inputs) % number_of_concurrent_responses != 0:\n",
    "    response = openai.Completion.create(\n",
    "        model=MODEL_TO_USE,\n",
    "        prompt=inputs[(i + 1) * number_of_concurrent_responses :],\n",
    "        temperature=0,\n",
    "        max_tokens=1024,\n",
    "        top_p=1.0,\n",
    "        frequency_penalty=0.0,\n",
    "        presence_penalty=0.0,\n",
    "    )\n",
    "    responses += [json.loads(x[\"text\"]) for x in response[\"choices\"]]"
   ]
  },
  {
   "cell_type": "code",
   "execution_count": 132,
   "metadata": {},
   "outputs": [
    {
     "name": "stdout",
     "output_type": "stream",
     "text": [
      "[['water', 'uncooked old fashion grits', 'salt', 'shredded cheddar cheese', 'garlic, minced', 'olive oil'], ['onion', 'red bell pepper', 'garlic cloves', 'extra large shrimp', 'salt', 'hot pepper sauce', 'vegetable oil', 'andouille sausage', 'long grain rice', 'bay leaves', 'diced tomatoes', 'clam juice', 'fresh parsley'], ['canned white beans', 'canned black beans', 'tomatoes', 'onion', 'celery', 'white wine vinegar', 'Italian parsley', 'table salt', 'black pepper', 'olive oil'], ['zucchini', 'yellow squash', 'onion', 'garlic', 'green bell pepper', 'italian seasoning', 'water', 'vegetable broth', 'salt', 'pepper'], ['beef stew meat', 'flour', 'salt', 'allspice', 'cinnamon', 'black pepper', 'vegetable oil', 'onions', 'dried sour cherries', 'sugar', 'water', 'dry red wine', 'beef stock', 'mushroom'], ['slivered almonds', 'cider vinegar', 'sugar', 'sugar', 'salt', 'ground cumin', 'ground coriander', 'cayenne pepper'], ['roasted chopped chicken breasts', 'chopped green onion', 'chopped red bell pepper', 'minced parsley', 'mayonnaise', 'sour cream', 'lemon juice', 'Dijon mustard', 'shredded cheddar cheese', 'potato chips'], ['eggs', 'milk', 'fresh sage', 'fresh thyme', 'garlic cloves', 'pecorino cheese', 'asparagus', 'extra virgin olive oil'], ['butter', 'onion', 'minced garlic', 'potatoes', 'flour', 'milk', 'black pepper', 'nutmeg', 'creamed corn', 'low sodium chicken broth', 'lump crabmeat', 'cayenne pepper', 'parsley'], ['lean ground beef', 'ketchup', 'Heinz Chili Sauce', 'white vinegar', 'sugar', 'prepared yellow mustard', 'onion powder'], ['butter', 'granulated sugar', 'baking powder', 'salt', 'vanilla extract', 'eggs', 'milk', 'whole wheat flour', 'chocolate chips', 'coarse decorator sugar'], ['all-purpose flour', 'baking soda', 'grated nutmeg', 'cool margarine', 'sugar', 'packed dark brown sugar', 'egg', 'egg white', 'vanilla', 'potato chips', 'semi-sweet chocolate chips', 'bittersweet chocolate chips'], ['unsalted beef stock', 'onion', 'carrot', 'bay leaf', 'thyme', 'whole black peppercorn', 'coarsely crushed black peppercorns', 'coarsely crushed green peppercorn', 'New York strip steaks', 'vegetable oil', 'unsalted butter', 'shallots', 'cognac', 'brandy', 'dry white wine', 'parsley'], ['button mushrooms', 'presliced portabella mushrooms', 'olive oil', 'butter', 'shallots', 'garlic cloves', 'salt', 'wonton wrappers', 'cornstarch', '1% low-fat milk', 'all-purpose flour', 'grated fresh parmesan cheese', 'chopped fresh chives', 'fresh ground black pepper'], ['individual sponge shortcake cups', 'ice cream', 'hot fudge', 'whipped cream', 'sliced strawberry'], ['vegetable oil', 'corn on the cob', 'red bell pepper', 'chicken breast tenders', 'poultry seasoning', 'cumin', 'salt and pepper', 'zucchini', 'yellow onion', 'garlic cloves', 'chipotle chile in adobo', 'stewed tomatoes', 'tomato sauce', 'chicken stock', 'blue corn tortilla chips', 'shredded cheddar cheese', 'monterey jack pepper cheese', 'sour cream', 'raw red onion', 'chopped cilantro', 'fresh parsley leaves', 'ripe avocado', 'lemon'], ['butter', 'shallots', 'raw prawns', 'garlic clove', 'gruyere', 'swiss cheese', 'cornflour', 'apple cider', 'light beer', 'hot pepper sauce', 'fresh parsley', 'French bread', 'pretzel'], ['water', 'low sodium chicken broth', 'unpeeled semi-ripe plantains', 'unsalted butter', 'extra virgin olive oil', 'leek', 'fresh thyme', 'fresh Italian parsley', 'sour cream', 'ground cumin', 'chopped pecans', 'butter'], ['mildly ripe firm pickling cucumbers', 'kosher salt', 'garlic', 'coriander seed', 'black peppercorns', 'fresh dill', 'ice', 'grape leaves', 'water'], ['elbow macaroni', 'ground beef', 'onion', \"gebhard's chili without beans\", 'cottage cheese', 'corn chips', 'salt', 'chili powder', 'buttered bread crumb'], ['onion', 'green pepper', 'carrots', 'celery rib', 'frozen corn', 'black beans', 'pink beans', 'crushed pineapple in juice', 'French lentils', 'lentils', 'diced tomatoes with juice', 'tomato soup', 'water', 'chili powder', 'garlic powder', 'cumin', 'cayenne pepper', 'liquid smoke'], ['coriander', 'ginger', 'cardamom', 'cumin', 'cinnamon', 'turmeric', 'black pepper', 'mace', 'cayenne pepper', 'clove'], ['bittersweet chocolate chips', 'sugar', 'flour', 'kosher salt', 'eggs', 'organic whole milk plain lifeway kefir', 'vanilla', 'pie crusts', 'tart shells'], ['sliced fresh mushrooms', 'margarine', 'olive oil', 'eggs', 'flax seed meal', 'garlic salt', 'garlic powder', 'italian seasoning', 'parsley flakes', 'ricotta cheese', 'part-skim mozzarella cheese', 'Italian cheese blend', 'Romano Parmesan', 'Asiago', 'pasta sauce'], ['heavy cream', 'vanilla bean', 'sugar', 'eggs', 'egg yolks', 'dark brown sugar', 'fresh raspberry', 'baking chocolate', 'pralines', 'pecans', 'brazil nut', 'coffee beans', 'bananas', 'butter', 'brandy', 'brown sugar'], ['racks of lamb', 'oil', 'minced garlic', 'freshly ground mix of coloured peppercorn', 'salt'], ['sifted self rising flour', 'butter', 'superfine sugar', 'chocolate chips', 'milk'], ['frozen pie crusts', 'Italian sausage', 'onion', 'mushrooms', 'mozzarella cheese', 'parmesan cheese', 'pizza sauce', 'italian seasoning', 'parmesan cheese'], ['ground almonds', 'granulated sugar', 'lemons, zest of, finely grated', 'small medium eggs', 'cornflour (maize or cornstarch)', 'light sugar syrup', 'icing sugar (confectioners sugar)'], ['shrimp', 'soy sauce', 'garlic clove', 'vegetable oil', 'red bell pepper', 'onion', 'snow peas', 'water', 'pepper', 'straight to wok rice'], ['bacon', 'ground pork', 'garlic clove', 'thyme', 'kosher salt', 'fresh ground pepper', 'red onions', 'olive oil', 'hamburger buns', 'ciabatta rolls', 'unsalted butter', 'camembert cheese', 'gorgonzola', 'arugula', 'tomatoes'], ['unsalted butter', 'sugar', 'all-purpose flour', 'baking soda', 'salt', 'eggs', 'very finely chopped walnuts', 'pecans', 'vanilla', 'red food coloring', 'blue food coloring', 'icing sugar'], ['free range egg yolks', 'caster sugar', 'cream cheese', 'lime curd', 'double cream', 'milk'], ['dried pinto beans', 'vegetable oil', 'yellow onions', 'salt', 'fresh ground black pepper', 'garlic cloves', 'vegetable stock', 'water', 'ripe plum tomatoes', 'red onion', 'cilantro', 'lime', 'crema', 'sour cream'], ['shrimp', 'olive oil', 'kosher salt', 'fresh ground black pepper'], ['butter', 'light brown sugar', 'white sugar', 'heavy whipping cream', 'nutmeg, ground', 'brie cheese, wheel', 'pecans, toasted'], ['mascarpone', 'very fresh eggs', 'sugar', 'marsala wine', 'freshly brewed espresso coffee', 'ladyfingers', 'savoiardi', 'biscuits', 'pure unsweetened cocoa powder', 'sweetened cocoa powder'], ['white rum', 'maraschino juice', 'lime', 'grapefruit juice', 'blue curacao', 'pineapple juice'], ['yellow cornmeal', 'flour', 'sugar', 'baking powder', 'salt', 'allspice', 'fresh ground white pepper', 'egg', 'milk', 'vegetable shortening', 'bacon', 'sausage drippings'], ['Monterey Jack cheese', 'plain breadcrumbs', 'kosher salt', 'green onions', 'fresh basil', 'Tabasco sauce', 'dry white wine', 'fresh lemon juice', 'garlic clove', 'egg', 'fresh crabmeat', 'button mushrooms', 'cooking oil'], ['thinly sliced potatoes', 'cream of mushroom soup', 'cream of chicken soup', 'evaporated milk', 'salt', 'pepper', 'cheddar cheese'], ['potatoes', 'butter', 'margarine', 'salt', 'milk', 'chicken gravy', 'black pepper'], ['frozen blackberries', 'cranberry sauce', 'sugar', 'water', 'flour'], ['skinless chicken breasts', 'carrots', 'celery', 'parsnip', 'leek', 'green beans', 'parsley', 'garlic clove', 'chicken stock', 'water', 'salt & pepper'], ['cream cheese', 'sour cream', 'Old Bay Seasoning', 'lemon juice', 'cayenne pepper', 'Worcestershire sauce', 'chili powder', 'cooked shrimp'], ['ground beef', 'onion, chopped', 'tomato sauce', 'spaghetti sauce mix', 'sour cream', 'mozzarella cheese, shredded', 'crescent roll dough'], ['mayonnaise', 'cider vinegar', 'fresh lemon juice', 'black pepper', 'cayenne pepper'], ['butter', 'sugar', 'eggs', 'almond extract', 'flour', 'baking powder', 'salt', 'evaporated milk', 'maraschino cherries', 'icing sugar'], ['butter', 'sugar', 'egg', 'vanilla extract', 'flour', 'salt', 'flaked coconut', 'baking powder', 'green food coloring', 'sweet dried cranberries', 'red food coloring', 'almond extract'], ['stir fry meat', 'stir fry vegetables', 'garlic cloves', 'gingerroot', 'dried red chilies', 'black pepper', 'water', 'ground cumin', 'ground coriander', 'ground turmeric', 'vegetable oil', 'whole cumin seeds', 'salt', 'sugar', 'lemon juice']]\n"
     ]
    }
   ],
   "source": [
    "print(responses)"
   ]
  },
  {
   "cell_type": "code",
   "execution_count": 137,
   "metadata": {},
   "outputs": [],
   "source": [
    "results_dataframe = pd.DataFrame(\n",
    "    {\n",
    "        \"ingredients_list\": data.ingredients_raw_str[\n",
    "            : len(responses)\n",
    "        ].tolist(),\n",
    "        \"gpt-3_extracted\": responses,\n",
    "    }\n",
    ")"
   ]
  },
  {
   "cell_type": "code",
   "execution_count": 138,
   "metadata": {},
   "outputs": [],
   "source": [
    "results_dataframe.to_csv(\"ingredients_extraction_results.csv\", index=False)"
   ]
  }
 ],
 "metadata": {
  "kernelspec": {
   "display_name": "llm-recipes",
   "language": "python",
   "name": "python3"
  },
  "language_info": {
   "codemirror_mode": {
    "name": "ipython",
    "version": 3
   },
   "file_extension": ".py",
   "mimetype": "text/x-python",
   "name": "python",
   "nbconvert_exporter": "python",
   "pygments_lexer": "ipython3",
   "version": "3.9.15"
  },
  "orig_nbformat": 4,
  "vscode": {
   "interpreter": {
    "hash": "ba346623e5ccdafa152eee34f798478893b34ce52cd136388c918e0ef1d086ff"
   }
  }
 },
 "nbformat": 4,
 "nbformat_minor": 2
}
