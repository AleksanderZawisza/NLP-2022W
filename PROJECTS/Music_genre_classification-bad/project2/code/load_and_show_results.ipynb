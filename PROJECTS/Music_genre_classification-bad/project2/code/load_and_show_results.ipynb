{
 "cells": [
  {
   "cell_type": "code",
   "execution_count": 1,
   "metadata": {},
   "outputs": [],
   "source": [
    "import pandas as pd\n",
    "from sklearn import metrics\n",
    "import matplotlib.pyplot as plt\n",
    "import numpy as np"
   ]
  },
  {
   "cell_type": "code",
   "execution_count": 6,
   "metadata": {},
   "outputs": [],
   "source": [
    "def get_all_results(dataset_name, embeddings, classifiers, y_true):\n",
    "    '''\n",
    "    Print accuracy, balanced accuracy and F1 score for provided dataset, embedding methods and classifiers.\n",
    "    Parameters:\n",
    "        dataset_name (str): Dataset name.\n",
    "        embeddings (list): Names of embedding methods.\n",
    "        classifiers (list): Names of classifiers.\n",
    "        y_true (Series): Real genres of the test data.\n",
    "    '''\n",
    "    accuracy = []\n",
    "    balanced_accuracy = []\n",
    "    f1 = []\n",
    "    emb_names = []\n",
    "    cls_names = []\n",
    "    for emb_name in embeddings:\n",
    "        for cls_name in classifiers:\n",
    "            fname = f'predictions/{dataset_name}/model_{emb_name}_{cls_name}.csv'\n",
    "            y_pred = pd.read_csv(fname, header=None)\n",
    "            accuracy.append(metrics.accuracy_score(y_true=y_true, y_pred=y_pred))\n",
    "            balanced_accuracy.append(metrics.balanced_accuracy_score(y_true=y_true, y_pred=y_pred))\n",
    "            f1.append(metrics.f1_score(y_true=y_true, y_pred=y_pred, average='weighted'))\n",
    "            emb_names.append(emb_name)\n",
    "            cls_names.append(cls_name)\n",
    "    results = pd.DataFrame({\n",
    "        'nlp_embedding': emb_names,\n",
    "        'nlp_classifier': cls_names,\n",
    "        'accuracy': accuracy,\n",
    "        'balanced_accuracy': balanced_accuracy,\n",
    "        'f1_score': f1})\n",
    "    print(results)"
   ]
  },
  {
   "cell_type": "code",
   "execution_count": 7,
   "metadata": {},
   "outputs": [],
   "source": [
    "# Parameters\n",
    "\n",
    "dataset_name = 'dataset_proc'\n",
    "nlp_embeddings = ['smaller-bert', 'glove']\n",
    "nlp_classifiers = ['naive-bayes', 'svm', 'xgboost', 'cnn']"
   ]
  },
  {
   "cell_type": "code",
   "execution_count": 8,
   "metadata": {},
   "outputs": [],
   "source": [
    "# Reading test data from CSV file\n",
    "\n",
    "test_data = pd.read_csv(f'data/test/{dataset_name}.csv')\n",
    "y_true = test_data.genre"
   ]
  },
  {
   "cell_type": "code",
   "execution_count": 9,
   "metadata": {},
   "outputs": [
    {
     "name": "stdout",
     "output_type": "stream",
     "text": [
      "  nlp_embedding nlp_classifier  accuracy  balanced_accuracy  f1_score\n",
      "0  smaller-bert    naive-bayes  0.379479           0.380968  0.328668\n",
      "1  smaller-bert            svm  0.399837           0.391419  0.353035\n",
      "2  smaller-bert        xgboost  0.375407           0.372651  0.374183\n",
      "3  smaller-bert            cnn  0.415309           0.405351  0.401595\n",
      "4         glove    naive-bayes  0.333876           0.353781  0.259667\n",
      "5         glove            svm  0.320033           0.314322  0.295821\n",
      "6         glove        xgboost  0.343648           0.346914  0.336383\n",
      "7         glove            cnn  0.374593           0.378082  0.382742\n"
     ]
    }
   ],
   "source": [
    "# Printing results\n",
    "\n",
    "get_all_results(dataset_name, nlp_embeddings, nlp_classifiers, y_true)"
   ]
  }
 ],
 "metadata": {
  "kernelspec": {
   "display_name": "Python 3",
   "language": "python",
   "name": "python3"
  },
  "language_info": {
   "codemirror_mode": {
    "name": "ipython",
    "version": 3
   },
   "file_extension": ".py",
   "mimetype": "text/x-python",
   "name": "python",
   "nbconvert_exporter": "python",
   "pygments_lexer": "ipython3",
   "version": "3.9.13 (main, Aug 25 2022, 23:51:50) [MSC v.1916 64 bit (AMD64)]"
  },
  "vscode": {
   "interpreter": {
    "hash": "1c978efebeb2270acb6188b84252153fa3db86f2d5406301959b558db2528b4a"
   }
  }
 },
 "nbformat": 4,
 "nbformat_minor": 2
}
