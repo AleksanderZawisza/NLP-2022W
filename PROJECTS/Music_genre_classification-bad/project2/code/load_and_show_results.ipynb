{
 "cells": [
  {
   "cell_type": "code",
   "execution_count": null,
   "metadata": {},
   "outputs": [],
   "source": [
    "import pandas as pd\n",
    "from sklearn import metrics\n",
    "import matplotlib.pyplot as plt\n",
    "import numpy as np"
   ]
  },
  {
   "cell_type": "code",
   "execution_count": null,
   "metadata": {},
   "outputs": [],
   "source": [
    "def get_all_results(dataset_name, embeddings, classifiers, y_true):\n",
    "    '''\n",
    "    Print accuracy, balanced accuracy and F1 score for provided dataset, embedding methods and classifiers.\n",
    "    Parameters:\n",
    "        dataset_name (str): Dataset name.\n",
    "        embeddings (list): Names of embedding methods.\n",
    "        classifiers (list): Names of classifiers.\n",
    "        y_true (Series): Real genres of the test data.\n",
    "    '''\n",
    "    accuracy = []\n",
    "    balanced_accuracy = []\n",
    "    f1 = []\n",
    "    emb_names = []\n",
    "    cls_names = []\n",
    "    for emb_name in embeddings:\n",
    "        for cls_name in classifiers:\n",
    "            fname = f'predictions/{dataset_name}/model_{emb_name}_{cls_name}.csv'\n",
    "            y_pred = pd.read_csv(fname, header=None)\n",
    "            accuracy.append(metrics.accuracy_score(y_true=y_true, y_pred=y_pred))\n",
    "            balanced_accuracy.append(metrics.balanced_accuracy_score(y_true=y_true, y_pred=y_pred))\n",
    "            f1.append(metrics.f1_score(y_true=y_true, y_pred=y_pred, average='weighted'))\n",
    "            emb_names.append(emb_name)\n",
    "            cls_names.append(cls_name)\n",
    "    results = pd.DataFrame({\n",
    "        'nlp_embedding': emb_names,\n",
    "        'nlp_classifier': cls_names,\n",
    "        'accuracy': accuracy,\n",
    "        'balanced_accuracy': balanced_accuracy,\n",
    "        'f1_score': f1})\n",
    "    return results"
   ]
  },
  {
   "cell_type": "code",
   "execution_count": null,
   "metadata": {},
   "outputs": [],
   "source": [
    "def save_plots_of_results(dataset_name, embeddings, classifiers, y_true, labels_x, labels_y):\n",
    "    '''\n",
    "    Save plots of accuracy, balanced accuracy and F1 score for provided dataset, embedding methods and classifiers.\n",
    "    Parameters:\n",
    "        dataset_name (str): Dataset name.\n",
    "        embeddings (list): Names of embedding methods.\n",
    "        classifiers (list): Names of classifiers.\n",
    "        y_true (Series): Real genres of the test data.\n",
    "        labels_x (list): Labels of embedding methods.\n",
    "        labels_y (list): Labels of classifiers.\n",
    "    '''\n",
    "    accuracy = pd.DataFrame(np.zeros((len(embeddings), len(classifiers))), columns=labels_y, index=labels_x)\n",
    "    balanced_accuracy = pd.DataFrame(np.zeros((len(embeddings), len(classifiers))), columns=labels_y, index=labels_x)\n",
    "    f1 = pd.DataFrame(np.zeros((len(embeddings), len(classifiers))), columns=labels_y, index=labels_x)\n",
    "    for i, emb_name in enumerate(embeddings):\n",
    "        for j, cls_name in enumerate(classifiers):\n",
    "            fname = f'predictions/{dataset_name}/model_{emb_name}_{cls_name}.csv'\n",
    "            y_pred = pd.read_csv(fname, header=None)\n",
    "            accuracy.at[labels_x[i], labels_y[j]] = metrics.accuracy_score(y_true=y_true, y_pred=y_pred)\n",
    "            balanced_accuracy.at[labels_x[i], labels_y[j]] = metrics.balanced_accuracy_score(y_true=y_true, y_pred=y_pred)\n",
    "            f1.at[labels_x[i], labels_y[j]] = metrics.f1_score(y_true=y_true, y_pred=y_pred, average='weighted')\n",
    "    accuracy.plot(y=accuracy.columns, kind='bar', color=['#F6BD60', '#AB4E68', '#F5CAC3', '#84A59D', '#F28482'], xlabel='Accuracy')\n",
    "    plt.legend(bbox_to_anchor=(1, 0.5))\n",
    "    plt.savefig(f'accuracy_{dataset_name}.svg', bbox_inches='tight')\n",
    "    plt.savefig(f'accuracy_{dataset_name}.pdf', bbox_inches='tight')\n",
    "    balanced_accuracy.plot(y=balanced_accuracy.columns, kind='bar', color=['#F6BD60', '#AB4E68', '#F5CAC3', '#84A59D', '#F28482'], xlabel='Balanced accuracy')\n",
    "    plt.legend(bbox_to_anchor=(1, 0.5))\n",
    "    plt.savefig(f'bal_accuracy_{dataset_name}.svg', bbox_inches='tight')\n",
    "    plt.savefig(f'bal_accuracy_{dataset_name}.pdf', bbox_inches='tight')\n",
    "    f1.plot(y=f1.columns, kind='bar', color=['#F6BD60', '#AB4E68', '#F5CAC3', '#84A59D', '#F28482'], xlabel='F1-score')\n",
    "    plt.legend(bbox_to_anchor=(1, 0.5))\n",
    "    plt.savefig(f'f1_{dataset_name}.svg', bbox_inches='tight')\n",
    "    plt.savefig(f'f1_{dataset_name}.pdf', bbox_inches='tight')"
   ]
  },
  {
   "cell_type": "code",
   "execution_count": null,
   "metadata": {},
   "outputs": [],
   "source": [
    "# Parameters\n",
    "\n",
    "dataset_name = 'dataset_proc'\n",
    "nlp_embeddings = ['smaller-bert', 'glove']\n",
    "nlp_classifiers = ['naive-bayes', 'svm', 'xgboost', 'cnn']\n",
    "labels_x = ['Smaller BERT', 'Glove']\n",
    "labels_y = ['Naive Bayes', 'Linear SVM', 'XGBoost', 'CNN']"
   ]
  },
  {
   "cell_type": "code",
   "execution_count": null,
   "metadata": {},
   "outputs": [],
   "source": [
    "# Reading test data from CSV file\n",
    "\n",
    "test_data = pd.read_csv(f'data/test/{dataset_name}.csv')\n",
    "y_true = test_data.genre"
   ]
  },
  {
   "cell_type": "code",
   "execution_count": null,
   "metadata": {},
   "outputs": [],
   "source": [
    "# Printing results\n",
    "\n",
    "get_all_results(dataset_name, nlp_embeddings, nlp_classifiers, y_true)"
   ]
  },
  {
   "cell_type": "code",
   "execution_count": null,
   "metadata": {},
   "outputs": [],
   "source": [
    "# Saving plots\n",
    "\n",
    "save_plots_of_results(dataset_name, nlp_embeddings, nlp_classifiers, y_true, labels_x, labels_y)"
   ]
  }
 ],
 "metadata": {
  "kernelspec": {
   "display_name": "Python 3",
   "language": "python",
   "name": "python3"
  },
  "language_info": {
   "codemirror_mode": {
    "name": "ipython",
    "version": 3
   },
   "file_extension": ".py",
   "mimetype": "text/x-python",
   "name": "python",
   "nbconvert_exporter": "python",
   "pygments_lexer": "ipython3",
   "version": "3.9.13"
  },
  "vscode": {
   "interpreter": {
    "hash": "1c978efebeb2270acb6188b84252153fa3db86f2d5406301959b558db2528b4a"
   }
  }
 },
 "nbformat": 4,
 "nbformat_minor": 2
}
