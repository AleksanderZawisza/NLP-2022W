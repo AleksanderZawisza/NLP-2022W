{
 "cells": [
  {
   "cell_type": "markdown",
   "id": "0a2f4002-8b33-4c76-82ac-7b1a8bfad613",
   "metadata": {
    "pycharm": {
     "name": "#%% md\n"
    }
   },
   "source": [
    "## Adding sentiment"
   ]
  },
  {
   "cell_type": "code",
   "execution_count": 21,
   "id": "b111f9c0-77c5-4c22-81fb-add53dcceaf7",
   "metadata": {
    "pycharm": {
     "is_executing": true,
     "name": "#%%\n"
    }
   },
   "outputs": [
    {
     "data": {
      "text/plain": [
       "<torch._C.Generator at 0x21303a78970>"
      ]
     },
     "execution_count": 21,
     "metadata": {},
     "output_type": "execute_result"
    }
   ],
   "source": [
    "import seaborn as sns\n",
    "import matplotlib.pyplot as plt\n",
    "import numpy as np\n",
    "import pandas as pd\n",
    "import transformers\n",
    "from transformers import DistilBertTokenizer, DistilBertModel, get_linear_schedule_with_warmup\n",
    "from transformers import AutoTokenizer, AutoModelForSequenceClassification, AutoModelWithLMHead\n",
    "from sklearn.model_selection import train_test_split\n",
    "from sklearn.metrics import f1_score, precision_score, recall_score, balanced_accuracy_score, accuracy_score\n",
    "\n",
    "import torch\n",
    "from torch import nn, optim\n",
    "from torch.utils.data import Dataset, DataLoader\n",
    "from torch.optim import AdamW\n",
    "\n",
    "plt.rcParams['figure.figsize'] = (8,6)\n",
    "sns.set_context('paper', 1.2)\n",
    "\n",
    "\n",
    "from time import time\n",
    "import gc\n",
    "\n",
    "RANDOM_SEED = 42\n",
    "np.random.seed(RANDOM_SEED)\n",
    "torch.manual_seed(RANDOM_SEED)"
   ]
  },
  {
   "cell_type": "code",
   "execution_count": 22,
   "id": "9a7bf3fb",
   "metadata": {
    "collapsed": false,
    "jupyter": {
     "outputs_hidden": false
    },
    "pycharm": {
     "name": "#%%\n"
    }
   },
   "outputs": [],
   "source": [
    "class LyricsDataset(Dataset):\n",
    "    def __init__(self, lyrics, targets, tokenizer, max_len):\n",
    "        self.lyrics = lyrics\n",
    "        self.targets = targets\n",
    "        self.tokenizer = tokenizer\n",
    "        self.max_len = max_len\n",
    "\n",
    "    def __len__(self):\n",
    "        return len(self.lyrics)\n",
    "\n",
    "    def __getitem__(self, item):\n",
    "        lyrics = str(self.lyrics[item])\n",
    "        target = self.targets[item]\n",
    "        encoding = self.tokenizer.encode_plus(\n",
    "            lyrics,\n",
    "            add_special_tokens=True,\n",
    "            max_length=self.max_len,\n",
    "            truncation=True,\n",
    "            return_token_type_ids=False,\n",
    "            padding='max_length',\n",
    "            return_attention_mask=True,\n",
    "            return_tensors='pt',\n",
    "        )\n",
    "\n",
    "        return {\n",
    "            'lyrics': lyrics,\n",
    "            'input_ids': encoding['input_ids'].flatten(),\n",
    "            'attention_mask': encoding['attention_mask'].flatten(),\n",
    "            'targets': torch.tensor(target, dtype=torch.long)\n",
    "        }\n",
    "\n",
    "def create_data_loader(df, tokenizer, max_len, batch_size, target_cols):\n",
    "    ds = LyricsDataset(\n",
    "        lyrics=df['lyrics'].to_numpy(),\n",
    "        targets=df[target_cols].to_numpy(),\n",
    "        tokenizer=tokenizer,\n",
    "        max_len=max_len\n",
    "    )\n",
    "\n",
    "    return DataLoader(\n",
    "        ds,\n",
    "        batch_size=batch_size,\n",
    "        num_workers=0\n",
    "    )\n",
    "\n",
    "def get_scores(true, pred):\n",
    "    return {\n",
    "        \"precision_score/micro\": precision_score(true, pred, average='micro', zero_division=0),\n",
    "        \"precision_score/weighted\": precision_score(true, pred, average='weighted', zero_division=0),\n",
    "        \"recall_score/micro\": recall_score(true, pred, average='micro', zero_division=0),\n",
    "        \"recall_score/weighted\": recall_score(true, pred, average='weighted', zero_division=0),\n",
    "        \"f1_score/micro\": f1_score(true, pred, average='micro', zero_division=0),\n",
    "        \"f1_score/weighted\": f1_score(true, pred, average='weighted', zero_division=0),\n",
    "        \"accuracy/balanced\": accuracy_score(true, pred),\n",
    "    }\n",
    "\n",
    "\n",
    "def train_epoch(\n",
    "        model,\n",
    "        data_loader,\n",
    "        loss_fn,\n",
    "        optimizer,\n",
    "        device,\n",
    "        scheduler\n",
    "):\n",
    "    model = model.train()\n",
    "\n",
    "    losses = []\n",
    "    scores = pd.DataFrame()\n",
    "\n",
    "    for d in data_loader:\n",
    "        input_ids = d[\"input_ids\"].to(device)\n",
    "        attention_mask = d[\"attention_mask\"].to(device)\n",
    "        targets = d[\"targets\"].float().to(device)\n",
    "\n",
    "        outputs = model(\n",
    "            input_ids=input_ids,\n",
    "            attention_mask=attention_mask\n",
    "        )\n",
    "\n",
    "        loss = loss_fn(outputs, targets)\n",
    "        pred_class = (outputs > 0) * 1\n",
    "\n",
    "        scores_dict = get_scores(targets.cpu(), pred_class.cpu())\n",
    "        scores = pd.concat([scores, pd.DataFrame(scores_dict, index=[0])])\n",
    "\n",
    "        losses.append(loss.item())\n",
    "\n",
    "        loss.backward()\n",
    "        nn.utils.clip_grad_norm_(model.parameters(), max_norm=1.0)\n",
    "        optimizer.step()\n",
    "        scheduler.step()\n",
    "        optimizer.zero_grad()\n",
    "\n",
    "    scores = pd.DataFrame(scores.mean()).T\n",
    "    scores['loss'] = np.mean(losses)\n",
    "\n",
    "    return scores\n",
    "\n",
    "\n",
    "def eval_model(model, data_loader, loss_fn, device):\n",
    "    model = model.eval()\n",
    "\n",
    "    losses = []\n",
    "    scores = pd.DataFrame()\n",
    "\n",
    "    with torch.no_grad():\n",
    "        for d in data_loader:\n",
    "            input_ids = d[\"input_ids\"].to(device)\n",
    "            attention_mask = d[\"attention_mask\"].to(device)\n",
    "            targets = d[\"targets\"].float().to(device)\n",
    "\n",
    "            outputs = model(\n",
    "                input_ids=input_ids,\n",
    "                attention_mask=attention_mask\n",
    "            )\n",
    "            pred_class = (outputs > 0) * 1\n",
    "            scores_dict = get_scores(targets.cpu(), pred_class.cpu())\n",
    "            scores = pd.concat([scores, pd.DataFrame(scores_dict, index=[0])])\n",
    "\n",
    "            loss = loss_fn(outputs, targets)\n",
    "            losses.append(loss.item())\n",
    "\n",
    "    scores = pd.DataFrame(scores.mean()).T\n",
    "    scores['loss'] = np.mean(losses)\n",
    "\n",
    "    return scores\n",
    "\n"
   ]
  },
  {
   "cell_type": "code",
   "execution_count": 23,
   "id": "bc4a75ab-a707-422f-9f31-4fe5769a8f7e",
   "metadata": {
    "pycharm": {
     "name": "#%%\n"
    }
   },
   "outputs": [],
   "source": [
    "DEFAUTL_TOKENIZER_CLASS = DistilBertTokenizer\n",
    "DEFAULT_MODEL_CLASS = DistilBertModel\n",
    "PRE_TRAINED_MODEL_NAME = 'distilbert-base-uncased'"
   ]
  },
  {
   "cell_type": "code",
   "execution_count": 24,
   "id": "0451e664-600d-4ac9-b45b-329c8ebb49ae",
   "metadata": {
    "pycharm": {
     "name": "#%%\n"
    }
   },
   "outputs": [],
   "source": [
    "device = torch.device(\"cuda:0\" if torch.cuda.is_available() else \"cpu\")"
   ]
  },
  {
   "cell_type": "markdown",
   "id": "8ea0aa6b-45db-4006-b3c1-43f4465d1dbb",
   "metadata": {
    "pycharm": {
     "name": "#%% md\n"
    }
   },
   "source": [
    "## Read dataset"
   ]
  },
  {
   "cell_type": "code",
   "execution_count": 25,
   "id": "37992a26-7b6b-478d-92c5-21dff24ac30a",
   "metadata": {
    "pycharm": {
     "name": "#%%\n"
    }
   },
   "outputs": [],
   "source": [
    "dataset = pd.read_csv(\"data/train/small_balanced.csv\")\n",
    "dataset = pd.concat([dataset.drop('genre', axis = 1), pd.get_dummies(dataset['genre'])], axis = 1)"
   ]
  },
  {
   "cell_type": "code",
   "execution_count": 26,
   "id": "e8ac0545-b875-4277-a29a-cf459182d685",
   "metadata": {
    "pycharm": {
     "name": "#%%\n"
    }
   },
   "outputs": [
    {
     "data": {
      "text/html": [
       "<div>\n",
       "<style scoped>\n",
       "    .dataframe tbody tr th:only-of-type {\n",
       "        vertical-align: middle;\n",
       "    }\n",
       "\n",
       "    .dataframe tbody tr th {\n",
       "        vertical-align: top;\n",
       "    }\n",
       "\n",
       "    .dataframe thead th {\n",
       "        text-align: right;\n",
       "    }\n",
       "</style>\n",
       "<table border=\"1\" class=\"dataframe\">\n",
       "  <thead>\n",
       "    <tr style=\"text-align: right;\">\n",
       "      <th></th>\n",
       "      <th>lyrics</th>\n",
       "      <th>tokens</th>\n",
       "      <th>Country</th>\n",
       "      <th>Hip-Hop</th>\n",
       "      <th>Metal</th>\n",
       "      <th>Pop</th>\n",
       "      <th>Rock</th>\n",
       "    </tr>\n",
       "  </thead>\n",
       "  <tbody>\n",
       "    <tr>\n",
       "      <th>0</th>\n",
       "      <td>i just love when i am with you yeah this shit ...</td>\n",
       "      <td>['love', 'yeah', 'shit', 'ten', 'used', 'frien...</td>\n",
       "      <td>0</td>\n",
       "      <td>1</td>\n",
       "      <td>0</td>\n",
       "      <td>0</td>\n",
       "      <td>0</td>\n",
       "    </tr>\n",
       "    <tr>\n",
       "      <th>1</th>\n",
       "      <td>she is got butterflies you have got them too y...</td>\n",
       "      <td>['got', 'butterfly', 'got', 'look', 'eye', 'qu...</td>\n",
       "      <td>1</td>\n",
       "      <td>0</td>\n",
       "      <td>0</td>\n",
       "      <td>0</td>\n",
       "      <td>0</td>\n",
       "    </tr>\n",
       "    <tr>\n",
       "      <th>2</th>\n",
       "      <td>after the morning there comes an evening and a...</td>\n",
       "      <td>['morning', 'come', 'evening', 'evening', 'ano...</td>\n",
       "      <td>1</td>\n",
       "      <td>0</td>\n",
       "      <td>0</td>\n",
       "      <td>0</td>\n",
       "      <td>0</td>\n",
       "    </tr>\n",
       "    <tr>\n",
       "      <th>3</th>\n",
       "      <td>looking for food as i dig through the trash th...</td>\n",
       "      <td>['looking', 'food', 'dig', 'trash', 'capitalis...</td>\n",
       "      <td>0</td>\n",
       "      <td>0</td>\n",
       "      <td>0</td>\n",
       "      <td>0</td>\n",
       "      <td>1</td>\n",
       "    </tr>\n",
       "    <tr>\n",
       "      <th>4</th>\n",
       "      <td>where have i been what should i be looking for...</td>\n",
       "      <td>['looking', 'going', 'come', 'age', 'strong', ...</td>\n",
       "      <td>0</td>\n",
       "      <td>0</td>\n",
       "      <td>0</td>\n",
       "      <td>1</td>\n",
       "      <td>0</td>\n",
       "    </tr>\n",
       "  </tbody>\n",
       "</table>\n",
       "</div>"
      ],
      "text/plain": [
       "                                              lyrics  \\\n",
       "0  i just love when i am with you yeah this shit ...   \n",
       "1  she is got butterflies you have got them too y...   \n",
       "2  after the morning there comes an evening and a...   \n",
       "3  looking for food as i dig through the trash th...   \n",
       "4  where have i been what should i be looking for...   \n",
       "\n",
       "                                              tokens  Country  Hip-Hop  Metal  \\\n",
       "0  ['love', 'yeah', 'shit', 'ten', 'used', 'frien...        0        1      0   \n",
       "1  ['got', 'butterfly', 'got', 'look', 'eye', 'qu...        1        0      0   \n",
       "2  ['morning', 'come', 'evening', 'evening', 'ano...        1        0      0   \n",
       "3  ['looking', 'food', 'dig', 'trash', 'capitalis...        0        0      0   \n",
       "4  ['looking', 'going', 'come', 'age', 'strong', ...        0        0      0   \n",
       "\n",
       "   Pop  Rock  \n",
       "0    0     0  \n",
       "1    0     0  \n",
       "2    0     0  \n",
       "3    0     1  \n",
       "4    1     0  "
      ]
     },
     "execution_count": 26,
     "metadata": {},
     "output_type": "execute_result"
    }
   ],
   "source": [
    "dataset.head()"
   ]
  },
  {
   "cell_type": "markdown",
   "id": "c122d295-b1dd-4853-8839-2f2d4359780e",
   "metadata": {
    "pycharm": {
     "name": "#%% md\n"
    }
   },
   "source": [
    "## Tokenizer preparation"
   ]
  },
  {
   "cell_type": "code",
   "execution_count": 27,
   "id": "1e0a0cfd-f548-4742-b511-5f0e96d89cda",
   "metadata": {
    "pycharm": {
     "name": "#%%\n"
    }
   },
   "outputs": [],
   "source": [
    "tokenizer = DEFAUTL_TOKENIZER_CLASS.from_pretrained(PRE_TRAINED_MODEL_NAME)"
   ]
  },
  {
   "cell_type": "code",
   "execution_count": 28,
   "id": "b32b4653-0431-45a6-bc70-dfffccd27959",
   "metadata": {
    "pycharm": {
     "name": "#%%\n"
    }
   },
   "outputs": [],
   "source": [
    "MAX_LEN = 256"
   ]
  },
  {
   "cell_type": "code",
   "execution_count": 29,
   "id": "58f10aa4-3001-4c6d-9cd7-30bc4d2226b4",
   "metadata": {
    "pycharm": {
     "name": "#%%\n"
    }
   },
   "outputs": [],
   "source": [
    "df_train, df_val = train_test_split(dataset, test_size=0.1, random_state=RANDOM_SEED)\n",
    "targets = dataset.select_dtypes('uint8').columns"
   ]
  },
  {
   "cell_type": "code",
   "execution_count": 30,
   "id": "c592b80e-5504-4504-bc37-97115713c689",
   "metadata": {
    "pycharm": {
     "name": "#%%\n"
    }
   },
   "outputs": [],
   "source": [
    "BATCH_SIZE = 32\n",
    "\n",
    "train_data_loader = create_data_loader(df_train, tokenizer, MAX_LEN, BATCH_SIZE, target_cols=targets)\n",
    "val_data_loader = create_data_loader(df_val, tokenizer, MAX_LEN, BATCH_SIZE, target_cols=targets)"
   ]
  },
  {
   "cell_type": "code",
   "execution_count": 31,
   "id": "84a7b726-1ebd-4cca-b6ae-9b6afd8dce88",
   "metadata": {
    "pycharm": {
     "name": "#%%\n"
    }
   },
   "outputs": [
    {
     "data": {
      "text/plain": [
       "dict_keys(['lyrics', 'input_ids', 'attention_mask', 'targets'])"
      ]
     },
     "execution_count": 31,
     "metadata": {},
     "output_type": "execute_result"
    }
   ],
   "source": [
    "data = next(iter(train_data_loader))\n",
    "data.keys()"
   ]
  },
  {
   "cell_type": "code",
   "execution_count": 32,
   "id": "0d319c42-3d4f-4ac3-85c3-a48279101119",
   "metadata": {
    "pycharm": {
     "name": "#%%\n"
    }
   },
   "outputs": [
    {
     "name": "stdout",
     "output_type": "stream",
     "text": [
      "torch.Size([32, 256])\n",
      "torch.Size([32, 256])\n",
      "torch.Size([32, 5])\n"
     ]
    }
   ],
   "source": [
    "print(data['input_ids'].shape)\n",
    "print(data['attention_mask'].shape)\n",
    "print(data['targets'].shape)"
   ]
  },
  {
   "cell_type": "markdown",
   "id": "5c11d80e-141d-4b8e-afac-ae1aa66b2729",
   "metadata": {
    "pycharm": {
     "name": "#%% md\n"
    }
   },
   "source": [
    "## Bert fine-tuning without sentiment"
   ]
  },
  {
   "cell_type": "code",
   "execution_count": 33,
   "id": "de03f5da-1450-4ff3-a5d3-ce93e7a1b1e0",
   "metadata": {
    "pycharm": {
     "name": "#%%\n"
    }
   },
   "outputs": [],
   "source": [
    "class Bert(nn.Module):\n",
    "\n",
    "    def __init__(self, n_classes, embedding_model):\n",
    "        super(Bert, self).__init__()\n",
    "        self.bert = embedding_model\n",
    "        self.pool = nn.Linear(self.bert.config.dim, self.bert.config.dim)\n",
    "        self.drop = nn.Dropout(p=0.3)\n",
    "        self.out = nn.Linear(self.bert.config.hidden_size, n_classes)\n",
    "\n",
    "    def forward(self, input_ids, attention_mask):\n",
    "        model_output = self.bert(\n",
    "            input_ids=input_ids,\n",
    "            attention_mask=attention_mask\n",
    "        )\n",
    "        embeddings = model_output.last_hidden_state.mean(axis=1)\n",
    "        pooled_output = self.pool(embeddings)  \n",
    "        pooled_output = nn.ReLU()(pooled_output)\n",
    "        output = self.drop(pooled_output)\n",
    "        return self.out(output)"
   ]
  },
  {
   "cell_type": "code",
   "execution_count": 34,
   "id": "b3f0dcc2-d32e-41bd-ace7-6d05d4890e14",
   "metadata": {
    "pycharm": {
     "name": "#%%\n"
    }
   },
   "outputs": [
    {
     "name": "stderr",
     "output_type": "stream",
     "text": [
      "Some weights of the model checkpoint at distilbert-base-uncased were not used when initializing DistilBertModel: ['vocab_transform.weight', 'vocab_layer_norm.weight', 'vocab_transform.bias', 'vocab_layer_norm.bias', 'vocab_projector.weight', 'vocab_projector.bias']\n",
      "- This IS expected if you are initializing DistilBertModel from the checkpoint of a model trained on another task or with another architecture (e.g. initializing a BertForSequenceClassification model from a BertForPreTraining model).\n",
      "- This IS NOT expected if you are initializing DistilBertModel from the checkpoint of a model that you expect to be exactly identical (initializing a BertForSequenceClassification model from a BertForSequenceClassification model).\n"
     ]
    }
   ],
   "source": [
    "model = Bert(len(targets), embedding_model=DEFAULT_MODEL_CLASS.from_pretrained(PRE_TRAINED_MODEL_NAME))\n",
    "model = model.to(device)"
   ]
  },
  {
   "cell_type": "code",
   "execution_count": 35,
   "id": "437954f7-be6a-4d2c-83e2-4762ead0c57b",
   "metadata": {
    "pycharm": {
     "name": "#%%\n"
    }
   },
   "outputs": [],
   "source": [
    "EPOCHS = 7\n",
    "\n",
    "optimizer = AdamW(model.parameters(), lr=2e-5)\n",
    "total_steps = len(train_data_loader) * EPOCHS\n",
    "\n",
    "scheduler = get_linear_schedule_with_warmup(\n",
    "  optimizer,\n",
    "  num_warmup_steps=0,\n",
    "  num_training_steps=total_steps\n",
    ")\n",
    "\n",
    "loss_fn = nn.BCEWithLogitsLoss().to(device)"
   ]
  },
  {
   "cell_type": "code",
   "execution_count": null,
   "id": "b59070b4-57fc-4a5a-9c18-c1d7f8978b7b",
   "metadata": {
    "pycharm": {
     "name": "#%%\n"
    }
   },
   "outputs": [
    {
     "name": "stdout",
     "output_type": "stream",
     "text": [
      "Epoch 1/7\n",
      "Previous epoch took 0.00 minutes\n",
      "----------\n"
     ]
    }
   ],
   "source": [
    "history = pd.DataFrame()\n",
    "best_accuracy = 0\n",
    "\n",
    "start_time = time()\n",
    "for epoch in range(EPOCHS):\n",
    "    \n",
    "    print(f'Epoch {epoch + 1}/{EPOCHS}')\n",
    "    print(f\"Previous epoch took {(time() - start_time)/60:.2f} minutes\")\n",
    "    print('-' * 10)\n",
    "    \n",
    "    start_time = time()\n",
    "\n",
    "    train_scores = train_epoch(\n",
    "        model,\n",
    "        train_data_loader,    \n",
    "        loss_fn, \n",
    "        optimizer, \n",
    "        device, \n",
    "        scheduler\n",
    "    )\n",
    "\n",
    "    print(f'Train scores {train_scores.to_dict()}')\n",
    "\n",
    "    val_scores = eval_model(\n",
    "        model,\n",
    "        val_data_loader,\n",
    "        loss_fn, \n",
    "        device\n",
    "    )\n",
    "\n",
    "    print(f'Val scores {val_scores.to_dict()}')\n",
    "    print()\n",
    "    \n",
    "    train_scores.columns = \"train_\" + train_scores.columns\n",
    "    val_scores.columns = \"val_\" + val_scores.columns\n",
    "    scores = pd.concat([train_scores, val_scores], axis = 1)\n",
    "    scores['epoch'] = epoch\n",
    "    history = pd.concat([history, scores])\n",
    "\n",
    "    if val_scores['val_accuracy/balanced'].iloc[0]  > best_accuracy:\n",
    "        torch.save(model.bert.state_dict(), 'bert_best_model_state.bin')\n",
    "        best_accuracy = val_scores['val_accuracy/balanced']"
   ]
  },
  {
   "cell_type": "code",
   "execution_count": null,
   "id": "aa3f217e",
   "metadata": {
    "collapsed": false,
    "jupyter": {
     "outputs_hidden": false
    },
    "pycharm": {
     "name": "#%%\n"
    }
   },
   "outputs": [],
   "source": [
    "history.to_csv(f\"results/Bert_fine_tuning.csv\", index=False)"
   ]
  },
  {
   "cell_type": "code",
   "execution_count": null,
   "id": "304c3906",
   "metadata": {
    "collapsed": false,
    "jupyter": {
     "outputs_hidden": false
    },
    "pycharm": {
     "name": "#%%\n"
    }
   },
   "outputs": [],
   "source": [
    "## releasing gpu memory, to load another model\n",
    "model.cpu()\n",
    "del model\n",
    "gc.collect()\n",
    "torch.cuda.empty_cache()"
   ]
  },
  {
   "cell_type": "markdown",
   "id": "f42db747-36b5-4be9-a531-3c997de74889",
   "metadata": {
    "pycharm": {
     "name": "#%% md\n"
    }
   },
   "source": [
    "## Bert fine-tuning with Sentiment"
   ]
  },
  {
   "cell_type": "code",
   "execution_count": null,
   "id": "841fa2d3-966d-4068-8469-2a77ea6a74a9",
   "metadata": {
    "pycharm": {
     "name": "#%%\n"
    }
   },
   "outputs": [],
   "source": [
    "class BertSentiment(nn.Module):\n",
    "\n",
    "    def __init__(self, n_classes, embedding_model, sentiment_model):\n",
    "        super(BertSentiment, self).__init__()\n",
    "        self.bert = embedding_model\n",
    "        self.sentiment = sentiment_model\n",
    "        self.pool = nn.Linear(self.bert.config.dim + 6, self.bert.config.dim + 6)\n",
    "        self.drop = nn.Dropout(p=0.3)\n",
    "        self.out = nn.Linear(self.bert.config.hidden_size + 6, n_classes)\n",
    "\n",
    "    def forward(self, input_ids, attention_mask):\n",
    "        model_output = self.bert(\n",
    "            input_ids=input_ids,\n",
    "            attention_mask=attention_mask\n",
    "        )\n",
    "        embeddings = model_output.last_hidden_state.mean(axis=1)\n",
    "        sentiment = self.sentiment(\n",
    "            input_ids=input_ids,\n",
    "            attention_mask=attention_mask)\n",
    "        embeddings_with_sentiment = torch.concat([embeddings, nn.functional.softmax(sentiment.logits, dim=1)], dim = 1)\n",
    "        pooled_output = self.pool(embeddings_with_sentiment)  # (bs, dim)\n",
    "        pooled_output = nn.ReLU()(pooled_output)\n",
    "        output = self.drop(pooled_output)\n",
    "        return self.out(output)"
   ]
  },
  {
   "cell_type": "code",
   "execution_count": null,
   "id": "16a03b5f-60ef-4b60-9864-d22542c7bba3",
   "metadata": {
    "pycharm": {
     "name": "#%%\n"
    }
   },
   "outputs": [],
   "source": [
    "model = BertSentiment(len(targets),\n",
    "                      embedding_model=DEFAULT_MODEL_CLASS.from_pretrained(PRE_TRAINED_MODEL_NAME),\n",
    "                      sentiment_model=AutoModelForSequenceClassification.from_pretrained(\"gokuls/BERT-tiny-emotion-intent\")\n",
    "                     )\n",
    "model = model.to(device)"
   ]
  },
  {
   "cell_type": "code",
   "execution_count": null,
   "id": "b6b5e162-0523-4145-90d4-98cb7e793529",
   "metadata": {
    "pycharm": {
     "name": "#%%\n"
    }
   },
   "outputs": [],
   "source": [
    "EPOCHS = 7\n",
    "\n",
    "optimizer = AdamW(model.parameters(), lr=2e-5)\n",
    "total_steps = len(train_data_loader) * EPOCHS\n",
    "\n",
    "scheduler = get_linear_schedule_with_warmup(\n",
    "  optimizer,\n",
    "  num_warmup_steps=0,\n",
    "  num_training_steps=total_steps\n",
    ")\n",
    "\n",
    "loss_fn = nn.BCEWithLogitsLoss().to(device)"
   ]
  },
  {
   "cell_type": "code",
   "execution_count": null,
   "id": "1beda7a2-f256-4200-87cb-7f9452edd215",
   "metadata": {
    "pycharm": {
     "name": "#%%\n"
    }
   },
   "outputs": [],
   "source": [
    "history = pd.DataFrame()\n",
    "best_accuracy = 0\n",
    "\n",
    "start_time = time()\n",
    "for epoch in range(EPOCHS):\n",
    "    \n",
    "    print(f'Epoch {epoch + 1}/{EPOCHS}')\n",
    "    print(f\"Previous epoch took {(time() - start_time)/60:.2f} minutes\")\n",
    "    print('-' * 10)\n",
    "    \n",
    "    start_time = time()\n",
    "\n",
    "    train_scores = train_epoch(\n",
    "        model,\n",
    "        train_data_loader,    \n",
    "        loss_fn, \n",
    "        optimizer, \n",
    "        device, \n",
    "        scheduler\n",
    "    )\n",
    "\n",
    "    print(f'Train scores {train_scores.to_dict()}')\n",
    "\n",
    "    val_scores = eval_model(\n",
    "        model,\n",
    "        val_data_loader,\n",
    "        loss_fn, \n",
    "        device\n",
    "    )\n",
    "\n",
    "    print(f'Val scores {val_scores.to_dict()}')\n",
    "    print()\n",
    "    \n",
    "    train_scores.columns = \"train_\" + train_scores.columns\n",
    "    val_scores.columns = \"val_\" + val_scores.columns\n",
    "    scores = pd.concat([train_scores, val_scores], axis = 1)\n",
    "    scores['epoch'] = epoch\n",
    "    history = pd.concat([history, scores])\n",
    "\n",
    "    if val_scores['val_accuracy/balanced'].iloc[0]  > best_accuracy:\n",
    "        torch.save(model.bert.state_dict(), 'bert_best_model_state.bin')\n",
    "        best_accuracy = val_scores['val_accuracy/balanced']"
   ]
  },
  {
   "cell_type": "code",
   "execution_count": null,
   "id": "34448069",
   "metadata": {
    "collapsed": false,
    "jupyter": {
     "outputs_hidden": false
    },
    "pycharm": {
     "name": "#%%\n"
    }
   },
   "outputs": [],
   "source": [
    "history.to_csv(f\"results/BertSentiment_fine_tuning.csv\", index=False)"
   ]
  }
 ],
 "metadata": {
  "kernelspec": {
   "display_name": "semantic",
   "language": "python",
   "name": "semantic"
  },
  "language_info": {
   "codemirror_mode": {
    "name": "ipython",
    "version": 3
   },
   "file_extension": ".py",
   "mimetype": "text/x-python",
   "name": "python",
   "nbconvert_exporter": "python",
   "pygments_lexer": "ipython3",
   "version": "3.9.6"
  }
 },
 "nbformat": 4,
 "nbformat_minor": 5
}
