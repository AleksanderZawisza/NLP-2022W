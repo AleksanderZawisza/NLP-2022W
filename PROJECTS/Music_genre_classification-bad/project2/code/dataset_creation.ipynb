{
 "cells": [
  {
   "cell_type": "code",
   "execution_count": null,
   "metadata": {},
   "outputs": [],
   "source": [
    "import pandas as pd\n",
    "import spotipy\n",
    "from spotipy.oauth2 import SpotifyClientCredentials\n",
    "import lyricsgenius"
   ]
  },
  {
   "cell_type": "code",
   "execution_count": null,
   "metadata": {},
   "outputs": [],
   "source": [
    "def create_dataset(genres, count=5):\n",
    "    '''\n",
    "    Create dataset and save it to CSV file.\n",
    "    Parameters:\n",
    "        genres (list): List of genre names.\n",
    "        count (int): Desired number of observations from each genre.\n",
    "    '''\n",
    "    k = int(count / 50)\n",
    "    l = count % 50\n",
    "    for i in range(k + 1):\n",
    "        lyrics = []\n",
    "        genre_names = []\n",
    "        if i == k:\n",
    "            count = l\n",
    "            if count == 0:\n",
    "                break\n",
    "        else:\n",
    "            count = 50\n",
    "        for genre in genres:\n",
    "            try:\n",
    "                df = pd.DataFrame(sp.search(q=f'genre:{genre}', limit=count, type='track', market='US', offset=(i * 50))['tracks']['items'])[['artists', 'name']]\n",
    "                df.artists = df.artists.apply(lambda x: x[0]['name'])\n",
    "                for index, song in df.iterrows():\n",
    "                    song_lyrics = genius.search_song(song['name'], song['artists'])\n",
    "                    if song_lyrics is None:\n",
    "                        continue\n",
    "                    song_lyrics = song_lyrics.to_text()\n",
    "                    lyrics.append(song_lyrics[song_lyrics.find('Lyrics') + 6:])\n",
    "                    genre_names.append(genre)\n",
    "            except:\n",
    "                continue\n",
    "        df = pd.DataFrame({\n",
    "            'lyrics': lyrics,\n",
    "            'genre': genre_names\n",
    "        })\n",
    "        df = df.sample(frac=1).reset_index(drop=True)\n",
    "        df.to_csv('data/raw/dataset.csv', index=False, mode='a', header=False)"
   ]
  },
  {
   "cell_type": "code",
   "execution_count": null,
   "metadata": {},
   "outputs": [],
   "source": [
    "# Needed credentials\n",
    "\n",
    "cid_spotify = ''\n",
    "secret_spotify = ''\n",
    "cat_genius = ''"
   ]
  },
  {
   "cell_type": "code",
   "execution_count": null,
   "metadata": {},
   "outputs": [],
   "source": [
    "client_credentials_manager = SpotifyClientCredentials(client_id=cid_spotify, client_secret=secret_spotify)\n",
    "sp = spotipy.Spotify(client_credentials_manager = client_credentials_manager, requests_timeout=10, retries=10)\n",
    "\n",
    "genius = lyricsgenius.Genius(cat_genius, timeout=10, retries=10)"
   ]
  },
  {
   "cell_type": "code",
   "execution_count": null,
   "metadata": {},
   "outputs": [],
   "source": [
    "# Possible genres to choose from\n",
    "\n",
    "print(list(sp.recommendation_genre_seeds()['genres']))"
   ]
  },
  {
   "cell_type": "code",
   "execution_count": null,
   "metadata": {},
   "outputs": [],
   "source": [
    "# Creation of a dataset with 5 genres 1000 observations each\n",
    "\n",
    "create_dataset(['country', 'hip-hop', 'metal', 'pop', 'rock'], 1000)"
   ]
  }
 ],
 "metadata": {
  "kernelspec": {
   "display_name": "base",
   "language": "python",
   "name": "python3"
  },
  "language_info": {
   "codemirror_mode": {
    "name": "ipython",
    "version": 3
   },
   "file_extension": ".py",
   "mimetype": "text/x-python",
   "name": "python",
   "nbconvert_exporter": "python",
   "pygments_lexer": "ipython3",
   "version": "3.9.13 (main, Aug 25 2022, 23:51:50) [MSC v.1916 64 bit (AMD64)]"
  },
  "orig_nbformat": 4,
  "vscode": {
   "interpreter": {
    "hash": "1c978efebeb2270acb6188b84252153fa3db86f2d5406301959b558db2528b4a"
   }
  }
 },
 "nbformat": 4,
 "nbformat_minor": 2
}
