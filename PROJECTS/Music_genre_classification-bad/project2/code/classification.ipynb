{
 "cells": [
  {
   "cell_type": "code",
   "execution_count": null,
   "metadata": {
    "pycharm": {
     "name": "#%%\n"
    }
   },
   "outputs": [],
   "source": [
    "import os\n",
    "import numpy as np\n",
    "import pandas as pd\n",
    "import absl.logging\n",
    "from nlp_classifier import NaiveBayes, SVM, XGBoost, CNN, Dense, NLPClassifier, CNN2Step\n",
    "from nlp_embeddings_no_nlu import DistilBERT, SentenceTransformerMPNET\n",
    "from sklearn import preprocessing, metrics\n",
    "from ast import literal_eval\n",
    "import torch\n",
    "absl.logging.set_verbosity(absl.logging.ERROR)"
   ]
  },
  {
   "cell_type": "code",
   "execution_count": null,
   "metadata": {
    "pycharm": {
     "name": "#%%\n"
    }
   },
   "outputs": [],
   "source": [
    "max_words = 400\n",
    "dataset_name = 'small_balanced'\n",
    "cnn_epochs = 5\n",
    "device = torch.device(\"cuda:0\" if torch.cuda.is_available() else \"cpu\")\n",
    "optimizer = 'adam'\n",
    "indiv_genre = 'Rock'"
   ]
  },
  {
   "cell_type": "code",
   "execution_count": null,
   "metadata": {
    "pycharm": {
     "name": "#%%\n"
    }
   },
   "outputs": [],
   "source": [
    "def train(data_x, data_y, nlp_embedding, nlp_classifier, label_encoder, batch_size, dataset_name, embeddings = None, epochs=1, model_dir='models', start_idx=0, fname_end=''):\n",
    "    print('Training...')\n",
    "    fname = os.path.join(model_dir, dataset_name, f'model_{nlp_embedding.name}_{nlp_classifier.name}{fname_end}')\n",
    "    data_y_enc = label_encoder.transform(data_y)\n",
    "    classes = np.unique(data_y_enc)\n",
    "    \n",
    "    for epoch in range(epochs):\n",
    "        print(f'Epoch: {str(epoch + 1)}/{str(epochs)}')\n",
    "        for i in range(start_idx, data_x.shape[0], batch_size):\n",
    "            \n",
    "            if i + batch_size > data_x.shape[0]:\n",
    "                j = data_x.shape[0]\n",
    "            else:\n",
    "                j = i + batch_size\n",
    "            \n",
    "            print(f'Processing rows: {i} - {j - 1}')\n",
    "            \n",
    "            if embeddings is not None:\n",
    "                embeddings_batch = embeddings[i:j]\n",
    "            else:\n",
    "                embeddings_batch = nlp_embedding.embed_lyrics(data_x[i:j])\n",
    "                \n",
    "            nlp_classifier.partial_fit(embeddings_batch.values, data_y_enc[i:j], classes=classes)\n",
    "            nlp_classifier.save(fname)\n",
    "        start_idx = 0\n",
    "    \n",
    "    print('Success!')"
   ]
  },
  {
   "cell_type": "code",
   "execution_count": null,
   "metadata": {
    "pycharm": {
     "name": "#%%\n"
    }
   },
   "outputs": [],
   "source": [
    "def test(data_x, nlp_embedding, nlp_classifier, label_encoder, batch_size, dataset_name, embeddings = None, pred_dir='predictions', start_idx=0, fname_end=''):\n",
    "    print('Testing...')\n",
    "    fname = os.path.join(pred_dir, dataset_name, f'model_{nlp_embedding.name}_{nlp_classifier.name}{fname_end}.csv')\n",
    "    predictions_all = []\n",
    "\n",
    "    if start_idx == 0 and os.path.exists(fname):\n",
    "        os.remove(fname)\n",
    "    \n",
    "    for i in range(start_idx, data_x.shape[0], batch_size):\n",
    "\n",
    "        if i + batch_size > data_x.shape[0]:\n",
    "            j = data_x.shape[0]\n",
    "        else:\n",
    "            j = i + batch_size\n",
    "        \n",
    "        print(f'Processing rows: {i} - {j - 1}')\n",
    "\n",
    "        if embeddings is not None:\n",
    "            embeddings_batch = embeddings[i:j]\n",
    "        else:\n",
    "            embeddings_batch = nlp_embedding.embed_lyrics(data_x[i:j])\n",
    "                \n",
    "        predictions_enc = nlp_classifier.predict(embeddings_batch.values)\n",
    "        predictions = label_encoder.inverse_transform(predictions_enc)\n",
    "        \n",
    "        predictions_all.extend(predictions)\n",
    "\n",
    "        pd.DataFrame(predictions.reshape(-1, 1)).to_csv(fname, mode='a', index=False, header=False)\n",
    "    \n",
    "    print('Success!')    \n",
    "    \n",
    "    return predictions_all"
   ]
  },
  {
   "cell_type": "code",
   "execution_count": null,
   "metadata": {
    "pycharm": {
     "name": "#%%\n"
    }
   },
   "outputs": [],
   "source": [
    "def get_results(y_true, y_pred):\n",
    "    print('RESULTS:')\n",
    "    print(f'accuracy = {metrics.accuracy_score(y_true=y_true, y_pred=y_pred)}')\n",
    "    print(f'balanced accuracy = {metrics.balanced_accuracy_score(y_true=y_true, y_pred=y_pred)}')\n",
    "    print(f'f1 score = {metrics.f1_score(y_true=y_true, y_pred=y_pred, average=\"weighted\")}')"
   ]
  },
  {
   "cell_type": "code",
   "execution_count": null,
   "metadata": {
    "pycharm": {
     "name": "#%%\n"
    }
   },
   "outputs": [],
   "source": [
    "def train_and_save_results(emb, clf, x_train, y_train, x_test, y_test, dataset_name, le, train_embeddings = None, test_embeddings = None, batch_size=5000, epochs=1, fname_end=''):\n",
    "    train(x_train, y_train, emb, clf, le, batch_size, dataset_name, train_embeddings, epochs=epochs, fname_end=fname_end)\n",
    "    y_pred = test(x_test, emb, clf, le, batch_size, dataset_name, test_embeddings, fname_end=fname_end)\n",
    "    get_results(y_test, y_pred)\n",
    "    return"
   ]
  },
  {
   "cell_type": "code",
   "execution_count": null,
   "metadata": {
    "pycharm": {
     "name": "#%%\n"
    }
   },
   "outputs": [],
   "source": [
    "def add_normalized_lyrics(data):\n",
    "    tokens = data.tokens.apply(literal_eval)\n",
    "    data['normalized_lyrics'] = [' '.join(t) for t in tokens]"
   ]
  },
  {
   "cell_type": "code",
   "execution_count": null,
   "metadata": {
    "pycharm": {
     "name": "#%%\n"
    }
   },
   "outputs": [],
   "source": [
    "model_dir = os.path.join('models', dataset_name)\n",
    "if not os.path.exists(model_dir):\n",
    "    os.makedirs(model_dir)\n",
    "\n",
    "pred_dir = os.path.join('predictions', dataset_name)\n",
    "if not os.path.exists(pred_dir):\n",
    "    os.makedirs(pred_dir)"
   ]
  },
  {
   "cell_type": "code",
   "execution_count": null,
   "metadata": {
    "pycharm": {
     "name": "#%%\n"
    }
   },
   "outputs": [],
   "source": [
    "train_data = pd.read_csv(f'data/train/{dataset_name}.csv')\n",
    "test_data = pd.read_csv(f'data/test/{dataset_name}.csv')\n",
    "\n",
    "train_data = train_data.loc[~train_data['lyrics'].isna()]\n",
    "test_data = test_data.loc[~test_data['lyrics'].isna()]"
   ]
  },
  {
   "cell_type": "code",
   "execution_count": null,
   "metadata": {
    "pycharm": {
     "name": "#%%\n"
    }
   },
   "outputs": [],
   "source": [
    "add_normalized_lyrics(train_data)\n",
    "add_normalized_lyrics(test_data)"
   ]
  },
  {
   "cell_type": "code",
   "execution_count": null,
   "metadata": {
    "pycharm": {
     "name": "#%%\n"
    }
   },
   "outputs": [],
   "source": [
    "genres = np.unique(train_data.genre)\n",
    "label_encoder = preprocessing.LabelEncoder()\n",
    "label_encoder.fit(genres)\n",
    "label_encoder.classes_"
   ]
  },
  {
   "cell_type": "code",
   "execution_count": null,
   "metadata": {},
   "outputs": [],
   "source": [
    "indiv_genre_label = label_encoder.transform([indiv_genre])[0]"
   ]
  },
  {
   "cell_type": "markdown",
   "metadata": {
    "pycharm": {
     "name": "#%% md\n"
    }
   },
   "source": [
    "## DistilBERT"
   ]
  },
  {
   "cell_type": "code",
   "execution_count": null,
   "metadata": {
    "pycharm": {
     "name": "#%%\n"
    }
   },
   "outputs": [],
   "source": [
    "emb_distil_bert = DistilBERT(max_words, device)"
   ]
  },
  {
   "cell_type": "code",
   "execution_count": null,
   "metadata": {},
   "outputs": [],
   "source": [
    "train_embeddings_path = f'data/train/embeddings_nn/embedded_{emb_distil_bert.name}_{dataset_name}.csv'\n",
    "train_embeddings = None\n",
    "if os.path.exists(train_embeddings_path):\n",
    "    train_embeddings = pd.read_csv(train_embeddings_path, header=None)\n",
    "    \n",
    "test_embeddings_path = f'data/test/embeddings_nn/embedded_{emb_distil_bert.name}_{dataset_name}.csv'\n",
    "test_embeddings = None\n",
    "if os.path.exists(test_embeddings_path):\n",
    "    test_embeddings = pd.read_csv(test_embeddings_path, header=None)\n",
    "\n",
    "train_embeddings_path_norm = f'data/train/embeddings/embedded_{emb_distil_bert.name}_{dataset_name}.csv'\n",
    "train_embeddings_norm = None\n",
    "if os.path.exists(train_embeddings_path):\n",
    "    train_embeddings_norm = pd.read_csv(train_embeddings_path_norm, header=None)\n",
    "    \n",
    "test_embeddings_path_norm = f'data/test/embeddings/embedded_{emb_distil_bert.name}_{dataset_name}.csv'\n",
    "test_embeddings_norm = None\n",
    "if os.path.exists(test_embeddings_path):\n",
    "    test_embeddings_norm = pd.read_csv(test_embeddings_path_norm, header=None)"
   ]
  },
  {
   "cell_type": "markdown",
   "metadata": {
    "pycharm": {
     "name": "#%% md\n"
    }
   },
   "source": [
    "### Unnormalized lyrics"
   ]
  },
  {
   "cell_type": "code",
   "execution_count": null,
   "metadata": {
    "pycharm": {
     "name": "#%%\n"
    },
    "scrolled": true
   },
   "outputs": [],
   "source": [
    "clf_nb = NaiveBayes()\n",
    "train_and_save_results(emb_distil_bert, clf_nb, \n",
    "                       train_data.lyrics, train_data.genre, test_data.lyrics, test_data.genre, \n",
    "                       dataset_name, label_encoder, \n",
    "                       train_embeddings, test_embeddings)"
   ]
  },
  {
   "cell_type": "code",
   "execution_count": null,
   "metadata": {
    "pycharm": {
     "name": "#%%\n"
    },
    "scrolled": true
   },
   "outputs": [],
   "source": [
    "clf_svm = SVM()\n",
    "train_and_save_results(emb_distil_bert, clf_svm, \n",
    "                       train_data.lyrics, train_data.genre, test_data.lyrics, test_data.genre, \n",
    "                       dataset_name, label_encoder, \n",
    "                       train_embeddings, test_embeddings)"
   ]
  },
  {
   "cell_type": "code",
   "execution_count": null,
   "metadata": {
    "pycharm": {
     "name": "#%%\n"
    },
    "scrolled": true
   },
   "outputs": [],
   "source": [
    "clf_xgb = XGBoost(len(label_encoder.classes_))\n",
    "train_and_save_results(emb_distil_bert, clf_xgb, \n",
    "                       train_data.lyrics, train_data.genre, test_data.lyrics, test_data.genre, \n",
    "                       dataset_name, label_encoder, \n",
    "                       train_embeddings, test_embeddings)"
   ]
  },
  {
   "cell_type": "code",
   "execution_count": null,
   "metadata": {
    "pycharm": {
     "name": "#%%\n"
    },
    "scrolled": true
   },
   "outputs": [],
   "source": [
    "clf_cnn = CNN(emb_distil_bert.embedding_size, len(genres), optimizer)\n",
    "train_and_save_results(emb_distil_bert, clf_cnn,\n",
    "                       train_data.lyrics, train_data.genre, test_data.lyrics, test_data.genre, \n",
    "                       dataset_name, label_encoder, \n",
    "                       train_embeddings, test_embeddings, epochs=cnn_epochs)"
   ]
  },
  {
   "cell_type": "code",
   "execution_count": null,
   "metadata": {
    "pycharm": {
     "name": "#%%\n"
    },
    "scrolled": true
   },
   "outputs": [],
   "source": [
    "clf_dense = Dense(emb_distil_bert.embedding_size, len(genres), optimizer)\n",
    "train_and_save_results(emb_distil_bert, clf_dense,\n",
    "                       train_data.lyrics, train_data.genre, test_data.lyrics, test_data.genre, \n",
    "                       dataset_name, label_encoder, \n",
    "                       train_embeddings, test_embeddings, \n",
    "                       epochs=cnn_epochs)"
   ]
  },
  {
   "cell_type": "code",
   "execution_count": null,
   "metadata": {
    "scrolled": true
   },
   "outputs": [],
   "source": [
    "clf_cnn2 = CNN2Step(emb_distil_bert.embedding_size, len(genres), optimizer, indiv_genre_label)\n",
    "train_and_save_results(emb_distil_bert, clf_cnn2,\n",
    "                       train_data.lyrics, train_data.genre, test_data.lyrics, test_data.genre, \n",
    "                       dataset_name, label_encoder, \n",
    "                       train_embeddings, test_embeddings, \n",
    "                       epochs=cnn_epochs)"
   ]
  },
  {
   "cell_type": "markdown",
   "metadata": {
    "pycharm": {
     "name": "#%% md\n"
    }
   },
   "source": [
    "### Normalized lyrics"
   ]
  },
  {
   "cell_type": "code",
   "execution_count": null,
   "metadata": {
    "pycharm": {
     "name": "#%%\n"
    },
    "scrolled": true
   },
   "outputs": [],
   "source": [
    "clf_nb_norm = NaiveBayes()\n",
    "train_and_save_results(emb_distil_bert, clf_nb_norm,\n",
    "                       train_data.normalized_lyrics, train_data.genre, test_data.normalized_lyrics, test_data.genre, \n",
    "                       dataset_name, label_encoder, \n",
    "                       train_embeddings_norm, test_embeddings_norm, \n",
    "                       fname_end='_norm')"
   ]
  },
  {
   "cell_type": "code",
   "execution_count": null,
   "metadata": {
    "pycharm": {
     "name": "#%%\n"
    },
    "scrolled": true
   },
   "outputs": [],
   "source": [
    "clf_svm_norm = SVM()\n",
    "train_and_save_results(emb_distil_bert, clf_svm_norm,\n",
    "                       train_data.normalized_lyrics, train_data.genre, test_data.normalized_lyrics, test_data.genre, \n",
    "                       dataset_name, label_encoder, \n",
    "                       train_embeddings_norm, test_embeddings_norm, \n",
    "                       fname_end='_norm')"
   ]
  },
  {
   "cell_type": "code",
   "execution_count": null,
   "metadata": {
    "pycharm": {
     "name": "#%%\n"
    },
    "scrolled": true
   },
   "outputs": [],
   "source": [
    "clf_xgb_norm = XGBoost(len(label_encoder.classes_))\n",
    "train_and_save_results(emb_distil_bert, clf_xgb_norm,\n",
    "                       train_data.normalized_lyrics, train_data.genre, test_data.normalized_lyrics, test_data.genre, \n",
    "                       dataset_name, label_encoder, \n",
    "                       train_embeddings_norm, test_embeddings_norm, \n",
    "                       fname_end='_norm')"
   ]
  },
  {
   "cell_type": "code",
   "execution_count": null,
   "metadata": {
    "pycharm": {
     "name": "#%%\n"
    },
    "scrolled": true
   },
   "outputs": [],
   "source": [
    "clf_cnn_norm = CNN(max_words * emb_distil_bert.embedding_size, len(genres), optimizer')\n",
    "train_and_save_results(emb_distil_bert, clf_cnn_norm,\n",
    "                       train_data.normalized_lyrics, train_data.genre, test_data.normalized_lyrics, test_data.genre, \n",
    "                       dataset_name, label_encoder, \n",
    "                       train_embeddings_norm, test_embeddings_norm,\n",
    "                       epochs=cnn_epochs, fname_end='_norm')"
   ]
  },
  {
   "cell_type": "code",
   "execution_count": null,
   "metadata": {},
   "outputs": [],
   "source": [
    "clf_dense_norm = Dense(emb_distil_bert.embedding_size, len(genres), optimizer)\n",
    "train_and_save_results(emb_distil_bert, clf_dense_norm,\n",
    "                       train_data.normalized_lyrics, train_data.genre, test_data.normalized_lyrics, test_data.genre, \n",
    "                       dataset_name, label_encoder, \n",
    "                       train_embeddings_norm, test_embeddings_norm, \n",
    "                       epochs=cnn_epochs)"
   ]
  },
  {
   "cell_type": "code",
   "execution_count": null,
   "metadata": {},
   "outputs": [],
   "source": [
    "clf_cnn2_norm = CNN2Step(emb_distil_bert.embedding_size, len(genres), optimizer, indiv_genre_label)\n",
    "train_and_save_results(emb_distil_bert, clf_cnn2_norm,\n",
    "                       train_data.normalized_lyrics, train_data.genre, test_data.normalized_lyrics, test_data.genre, \n",
    "                       dataset_name, label_encoder, \n",
    "                       train_embeddings_norm, test_embeddings_norm, \n",
    "                       epochs=cnn_epochs)"
   ]
  },
  {
   "cell_type": "markdown",
   "metadata": {},
   "source": [
    "## SentenceTransformerMPNET"
   ]
  },
  {
   "cell_type": "code",
   "execution_count": null,
   "metadata": {},
   "outputs": [],
   "source": [
    "emb_mpnet = SentenceTransformerMPNET()"
   ]
  },
  {
   "cell_type": "code",
   "execution_count": null,
   "metadata": {},
   "outputs": [],
   "source": [
    "train_embeddings_path = f'data/train/embeddings_nn/embedded_{emb_mpnet.name}_{dataset_name}.csv'\n",
    "train_embeddings = None\n",
    "if os.path.exists(train_embeddings_path):\n",
    "    train_embeddings = pd.read_csv(train_embeddings_path, header=None)\n",
    "    \n",
    "test_embeddings_path = f'data/test/embeddings_nn/embedded_{emb_mpnet.name}_{dataset_name}.csv'\n",
    "test_embeddings = None\n",
    "if os.path.exists(test_embeddings_path):\n",
    "    test_embeddings = pd.read_csv(test_embeddings_path, header=None)\n",
    "\n",
    "train_embeddings_path_norm = f'data/train/embeddings/embedded_{emb_mpnet.name}_{dataset_name}.csv'\n",
    "train_embeddings_norm = None\n",
    "if os.path.exists(train_embeddings_path):\n",
    "    train_embeddings_norm = pd.read_csv(train_embeddings_path_norm, header=None)\n",
    "    \n",
    "test_embeddings_path_norm = f'data/test/embeddings/embedded_{emb_mpnet.name}_{dataset_name}.csv'\n",
    "test_embeddings_norm = None\n",
    "if os.path.exists(test_embeddings_path):\n",
    "    test_embeddings_norm = pd.read_csv(test_embeddings_path_norm, header=None)"
   ]
  },
  {
   "cell_type": "markdown",
   "metadata": {},
   "source": [
    "### Unnormalized lyrics"
   ]
  },
  {
   "cell_type": "code",
   "execution_count": null,
   "metadata": {},
   "outputs": [],
   "source": [
    "clf_cnn = CNN(emb_mpnet.embedding_size, len(genres), optimizer)\n",
    "train_and_save_results(emb_mpnet, clf_cnn,\n",
    "                       train_data.lyrics, train_data.genre, test_data.lyrics, test_data.genre, \n",
    "                       dataset_name, label_encoder, \n",
    "                       train_embeddings, test_embeddings, epochs=cnn_epochs)"
   ]
  },
  {
   "cell_type": "code",
   "execution_count": null,
   "metadata": {},
   "outputs": [],
   "source": [
    "clf_dense = Dense(emb_mpnet.embedding_size, len(genres), optimizer)\n",
    "train_and_save_results(emb_mpnet, clf_dense,\n",
    "                       train_data.lyrics, train_data.genre, test_data.lyrics, test_data.genre, \n",
    "                       dataset_name, label_encoder, \n",
    "                       train_embeddings, test_embeddings, \n",
    "                       epochs=cnn_epochs)"
   ]
  },
  {
   "cell_type": "code",
   "execution_count": null,
   "metadata": {},
   "outputs": [],
   "source": [
    "clf_cnn2 = CNN2Step(emb_mpnet.embedding_size, len(genres), optimizer, indiv_genre_label)\n",
    "train_and_save_results(emb_mpnet, clf_cnn2,\n",
    "                       train_data.lyrics, train_data.genre, test_data.lyrics, test_data.genre, \n",
    "                       dataset_name, label_encoder, \n",
    "                       train_embeddings, test_embeddings, \n",
    "                       epochs=cnn_epochs)"
   ]
  },
  {
   "cell_type": "markdown",
   "metadata": {},
   "source": [
    "### Normalized lyrics"
   ]
  },
  {
   "cell_type": "code",
   "execution_count": null,
   "metadata": {},
   "outputs": [],
   "source": [
    "clf_cnn_norm = CNN(max_words * emb_mpnet.embedding_size, len(genres), optimizer)\n",
    "train_and_save_results(emb_mpnet, clf_cnn_norm,\n",
    "                       train_data.normalized_lyrics, train_data.genre, test_data.normalized_lyrics, test_data.genre, \n",
    "                       dataset_name, label_encoder, \n",
    "                       train_embeddings_norm, test_embeddings_norm,\n",
    "                       epochs=cnn_epochs, fname_end='_norm')"
   ]
  },
  {
   "cell_type": "code",
   "execution_count": null,
   "metadata": {},
   "outputs": [],
   "source": [
    "clf_dense_norm = Dense(emb_mpnet.embedding_size, len(genres), optimizer)\n",
    "train_and_save_results(emb_mpnet, clf_dense_norm,\n",
    "                       train_data.normalized_lyrics, train_data.genre, test_data.normalized_lyrics, test_data.genre, \n",
    "                       dataset_name, label_encoder, \n",
    "                       train_embeddings_norm, test_embeddings_norm, \n",
    "                       epochs=cnn_epochs)"
   ]
  },
  {
   "cell_type": "code",
   "execution_count": null,
   "metadata": {},
   "outputs": [],
   "source": [
    "clf_cnn2_norm = CNN2Step(emb_mpnet.embedding_size, len(genres), optimizer, indiv_genre_label)\n",
    "train_and_save_results(emb_mpnet, clf_cnn2_norm,\n",
    "                       train_data.normalized_lyrics, train_data.genre, test_data.normalized_lyrics, test_data.genre, \n",
    "                       dataset_name, label_encoder, \n",
    "                       train_embeddings_norm, test_embeddings_norm, \n",
    "                       epochs=cnn_epochs)"
   ]
  }
 ],
 "metadata": {
  "kernelspec": {
   "display_name": "Python 3",
   "language": "python",
   "name": "python3"
  },
  "language_info": {
   "codemirror_mode": {
    "name": "ipython",
    "version": 3
   },
   "file_extension": ".py",
   "mimetype": "text/x-python",
   "name": "python",
   "nbconvert_exporter": "python",
   "pygments_lexer": "ipython3",
   "version": "3.7.6"
  },
  "vscode": {
   "interpreter": {
    "hash": "cf3867dc7eb6b74b717291f53998e39b1c4928e27b652817468199b3aea2c37e"
   }
  }
 },
 "nbformat": 4,
 "nbformat_minor": 4
}
