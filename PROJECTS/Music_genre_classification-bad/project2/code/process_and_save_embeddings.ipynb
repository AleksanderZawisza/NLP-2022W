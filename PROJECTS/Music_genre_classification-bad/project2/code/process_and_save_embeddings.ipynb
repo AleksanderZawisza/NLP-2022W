{
 "cells": [
  {
   "cell_type": "code",
   "execution_count": null,
   "metadata": {
    "pycharm": {
     "name": "#%%\n"
    }
   },
   "outputs": [],
   "source": [
    "import os\n",
    "import numpy as np\n",
    "import pandas as pd\n",
    "import absl.logging\n",
    "from ast import literal_eval\n",
    "import torch\n",
    "from nlp_embeddings_no_nlu import DistilBERT, SentenceTransformerMPNET\n",
    "\n",
    "absl.logging.set_verbosity(absl.logging.ERROR)"
   ]
  },
  {
   "cell_type": "code",
   "execution_count": null,
   "metadata": {
    "pycharm": {
     "name": "#%%\n"
    }
   },
   "outputs": [],
   "source": [
    "dataset_name = 'dataset2_proc'\n",
    "\n",
    "max_words = 400\n",
    "device = torch.device(\"cuda:0\" if torch.cuda.is_available() else \"cpu\")"
   ]
  },
  {
   "cell_type": "code",
   "execution_count": null,
   "metadata": {
    "pycharm": {
     "name": "#%%\n"
    }
   },
   "outputs": [],
   "source": [
    "def save_embedding(data_x, nlp_embedding, batch_size=5000, start_idx=0, dir_path='data', prefix=''):\n",
    "    fname = os.path.join(dir_path, f'{prefix}_{nlp_embedding.name}_{dataset_name}.csv')\n",
    "\n",
    "    if not os.path.exists(dir_path):\n",
    "        os.makedirs(dir_path)\n",
    "\n",
    "    if start_idx == 0 and os.path.exists(fname):\n",
    "        os.remove(fname)\n",
    "\n",
    "    for i in range(start_idx, data_x.shape[0], batch_size):\n",
    "\n",
    "        if i + batch_size > data_x.shape[0]:\n",
    "            j = data_x.shape[0]\n",
    "        else:\n",
    "            j = i + batch_size\n",
    "\n",
    "        print(f'Processing rows: {i} - {j - 1}')\n",
    "\n",
    "        embeddings = nlp_embedding.embed_lyrics(data_x[i:j])\n",
    "        pd.DataFrame(embeddings).to_csv(fname, mode='a', index=False, header=False)\n",
    "    \n",
    "    print('Success!')   "
   ]
  },
  {
   "cell_type": "code",
   "execution_count": null,
   "metadata": {
    "pycharm": {
     "name": "#%%\n"
    }
   },
   "outputs": [],
   "source": [
    "def add_normalized_lyrics(data):\n",
    "    tokens = data.tokens.apply(literal_eval)\n",
    "    data['normalized_lyrics'] = [' '.join(t) for t in tokens]"
   ]
  },
  {
   "cell_type": "code",
   "execution_count": null,
   "metadata": {
    "pycharm": {
     "name": "#%%\n"
    }
   },
   "outputs": [],
   "source": [
    "train_data = pd.read_csv(f'data/train/{dataset_name}.csv')\n",
    "test_data = pd.read_csv(f'data/test/{dataset_name}.csv')"
   ]
  },
  {
   "cell_type": "code",
   "execution_count": null,
   "metadata": {
    "pycharm": {
     "name": "#%%\n"
    }
   },
   "outputs": [],
   "source": [
    "add_normalized_lyrics(train_data)\n",
    "add_normalized_lyrics(test_data)"
   ]
  },
  {
   "cell_type": "code",
   "execution_count": null,
   "metadata": {
    "pycharm": {
     "name": "#%%\n"
    }
   },
   "outputs": [],
   "source": [
    "train_data = train_data.loc[~train_data['lyrics'].isna()]\n",
    "test_data = test_data.loc[~test_data['lyrics'].isna()]"
   ]
  },
  {
   "cell_type": "code",
   "execution_count": null,
   "metadata": {},
   "outputs": [],
   "source": [
    "embedded_train_data_path = 'data/train/embeddings'\n",
    "if not os.path.exists(embedded_train_data_path):\n",
    "    os.makedirs(embedded_train_data_path)\n",
    "\n",
    "embedded_test_data_path = 'data/test/embeddings'\n",
    "if not os.path.exists(embedded_test_data_path):\n",
    "    os.makedirs(embedded_test_data_path)\n",
    "    \n",
    "prefix = 'embedded'\n",
    "prefix_normalized = 'embedded_norm'"
   ]
  },
  {
   "cell_type": "markdown",
   "metadata": {
    "pycharm": {
     "name": "#%% md\n"
    }
   },
   "source": [
    "## DistilBERT"
   ]
  },
  {
   "cell_type": "code",
   "execution_count": null,
   "metadata": {
    "pycharm": {
     "name": "#%%\n"
    }
   },
   "outputs": [],
   "source": [
    "emb_dbert = DistilBERT(max_words, device)"
   ]
  },
  {
   "cell_type": "code",
   "execution_count": null,
   "metadata": {},
   "outputs": [],
   "source": [
    "save_embedding(test_data.lyrics, emb_dbert, dir_path=embedded_test_data_path, prefix=prefix)"
   ]
  },
  {
   "cell_type": "code",
   "execution_count": null,
   "metadata": {},
   "outputs": [],
   "source": [
    "save_embedding(train_data.lyrics, emb_dbert, dir_path=embedded_train_data_path, prefix=prefix)"
   ]
  },
  {
   "cell_type": "markdown",
   "metadata": {},
   "source": [
    "### Normalized data"
   ]
  },
  {
   "cell_type": "code",
   "execution_count": null,
   "metadata": {},
   "outputs": [],
   "source": [
    "save_embedding(test_data.normalized_lyrics, emb_dbert, dir_path=embedded_test_data_path, prefix=prefix_normalized)"
   ]
  },
  {
   "cell_type": "code",
   "execution_count": null,
   "metadata": {
    "pycharm": {
     "name": "#%%\n"
    }
   },
   "outputs": [],
   "source": [
    "save_embedding(train_data.normalized_lyrics, emb_dbert, dir_path=embedded_train_data_path, prefix=prefix_normalized)"
   ]
  },
  {
   "cell_type": "markdown",
   "metadata": {
    "pycharm": {
     "name": "#%% md\n"
    }
   },
   "source": [
    "## SentenceTransformerMPNET"
   ]
  },
  {
   "cell_type": "code",
   "execution_count": null,
   "metadata": {
    "pycharm": {
     "name": "#%%\n"
    }
   },
   "outputs": [],
   "source": [
    "emb_mpnet = SentenceTransformerMPNET()"
   ]
  },
  {
   "cell_type": "code",
   "execution_count": null,
   "metadata": {},
   "outputs": [],
   "source": [
    "save_embedding(test_data.lyrics, emb_mpnet, dir_path=embedded_test_data_path, prefix=prefix)"
   ]
  },
  {
   "cell_type": "code",
   "execution_count": null,
   "metadata": {
    "pycharm": {
     "name": "#%%\n"
    }
   },
   "outputs": [],
   "source": [
    "save_embedding(train_data.lyrics, emb_mpnet, dir_path=embedded_train_data_path, prefix=prefix)"
   ]
  },
  {
   "cell_type": "markdown",
   "metadata": {},
   "source": [
    "### Normalized data"
   ]
  },
  {
   "cell_type": "code",
   "execution_count": null,
   "metadata": {
    "pycharm": {
     "name": "#%%\n"
    }
   },
   "outputs": [],
   "source": [
    "save_embedding(test_data.normalized_lyrics, emb_mpnet, dir_path=embedded_test_data_path, prefix=prefix_normalized)"
   ]
  },
  {
   "cell_type": "code",
   "execution_count": null,
   "metadata": {
    "pycharm": {
     "name": "#%%\n"
    }
   },
   "outputs": [],
   "source": [
    "save_embedding(train_data.normalized_lyrics, emb_mpnet, dir_path=embedded_train_data_path, prefix=prefix_normalized)"
   ]
  },
  {
   "cell_type": "code",
   "execution_count": null,
   "metadata": {},
   "outputs": [],
   "source": []
  }
 ],
 "metadata": {
  "kernelspec": {
   "display_name": "Python 3",
   "language": "python",
   "name": "python3"
  },
  "language_info": {
   "codemirror_mode": {
    "name": "ipython",
    "version": 3
   },
   "file_extension": ".py",
   "mimetype": "text/x-python",
   "name": "python",
   "nbconvert_exporter": "python",
   "pygments_lexer": "ipython3",
   "version": "3.7.6"
  },
  "vscode": {
   "interpreter": {
    "hash": "1c978efebeb2270acb6188b84252153fa3db86f2d5406301959b558db2528b4a"
   }
  }
 },
 "nbformat": 4,
 "nbformat_minor": 4
}
