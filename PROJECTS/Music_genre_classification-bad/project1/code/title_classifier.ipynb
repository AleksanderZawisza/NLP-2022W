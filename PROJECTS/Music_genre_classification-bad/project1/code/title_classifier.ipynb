{
 "cells": [
  {
   "cell_type": "code",
   "execution_count": null,
   "metadata": {},
   "outputs": [],
   "source": [
    "import os\n",
    "import numpy as np\n",
    "import pandas as pd\n",
    "import absl.logging\n",
    "from nlp_title_embedding import BertTitle\n",
    "from nlp_classifier import CNN\n",
    "from sklearn import preprocessing\n",
    "\n",
    "absl.logging.set_verbosity(absl.logging.ERROR)"
   ]
  },
  {
   "cell_type": "code",
   "execution_count": null,
   "metadata": {},
   "outputs": [],
   "source": [
    "def train(data_x_lyrics, data_x_title, data_y, nlp_title_embedding, nlp_classifier, label_encoder, dataset_name, epochs=1, batch_size=1000, model_dir='models', start_idx=0):\n",
    "    print('Training...')\n",
    "    data_y_enc = label_encoder.transform(data_y)\n",
    "    classes = np.unique(data_y_enc)\n",
    "    \n",
    "    for epoch in range(epochs):\n",
    "        print(f'Epoch: {str(epoch + 1)}/{str(epochs)}')\n",
    "        for i in range(start_idx, data_x_lyrics.shape[0], batch_size):\n",
    "            \n",
    "            if i + batch_size > data_x_lyrics.shape[0]:\n",
    "                j = data_x_lyrics.shape[0]\n",
    "            else:\n",
    "                j = i + batch_size\n",
    "            \n",
    "            print(f'Processing rows: {i} - {j - 1}')\n",
    "\n",
    "            embeddings = nlp_title_embedding.get_title_lyrics_embedding(data_x_lyrics[i:j], data_x_title[i:j])\n",
    "            nlp_classifier.partial_fit(embeddings, data_y_enc[i:j], classes=classes)\n",
    "            nlp_classifier.save(os.path.join(model_dir, dataset_name, f'model_{nlp_title_embedding.name}_{nlp_classifier.name}'))\n",
    "        start_idx = 0\n",
    "    \n",
    "    print('Success!')"
   ]
  },
  {
   "cell_type": "code",
   "execution_count": null,
   "metadata": {},
   "outputs": [],
   "source": [
    "def test(data_x_lyrics, data_x_title, nlp_title_embedding, nlp_classifier, label_encoder, dataset_name, batch_size=1000, predictions_dir='predictions', start_idx=0):\n",
    "    print('Testing...')\n",
    "    fname = os.path.join(predictions_dir, dataset_name, f'model_{nlp_title_embedding.name}_{nlp_classifier.name}.csv')\n",
    "    predictions_all = []\n",
    "\n",
    "    if start_idx == 0 and os.path.exists(fname):\n",
    "        os.remove(fname)\n",
    "    \n",
    "    for i in range(start_idx, data_x_lyrics.shape[0], batch_size):\n",
    "\n",
    "        if i + batch_size > data_x_lyrics.shape[0]:\n",
    "            j = data_x_lyrics.shape[0]\n",
    "        else:\n",
    "            j = i + batch_size\n",
    "        \n",
    "        print(f'Processing rows: {i} - {j - 1}')\n",
    "\n",
    "        embeddings = nlp_title_embedding.get_title_lyrics_embedding(data_x_lyrics[i:j], data_x_title[i:j])\n",
    "        predictions_enc = nlp_classifier.predict(embeddings)\n",
    "        predictions = label_encoder.inverse_transform(predictions_enc)\n",
    "        \n",
    "        predictions_all.extend(predictions)\n",
    "\n",
    "        pd.DataFrame(predictions.reshape(-1, 1)).to_csv(fname, mode='a', index=False, header=False)\n",
    "    \n",
    "    print('Success!')    \n",
    "    \n",
    "    return predictions_all"
   ]
  },
  {
   "cell_type": "code",
   "execution_count": null,
   "metadata": {},
   "outputs": [],
   "source": [
    "def get_results(y_true, y_pred):\n",
    "    print('RESULTS:')\n",
    "    print(f'accuracy = {metrics.accuracy_score(y_true=y_true, y_pred=y_pred)}')\n",
    "    print(f'balanced accuracy = {metrics.balanced_accuracy_score(y_true=y_true, y_pred=y_pred)}')\n",
    "    print(f'f1 score = {metrics.f1_score(y_true=y_true, y_pred=y_pred, average=\"weighted\")}')"
   ]
  },
  {
   "cell_type": "code",
   "execution_count": null,
   "metadata": {},
   "outputs": [],
   "source": [
    "max_words = 400\n",
    "max_words_title = 15\n",
    "dataset_name = 'small_musicalgenres'"
   ]
  },
  {
   "cell_type": "code",
   "execution_count": null,
   "metadata": {},
   "outputs": [],
   "source": [
    "if not os.path.exists(f'models/{dataset_name}'):\n",
    "    os.makedirs(f'models/{dataset_name}')\n",
    "\n",
    "if not os.path.exists(f'predictions/{dataset_name}'):\n",
    "    os.makedirs(f'predictions/{dataset_name}')"
   ]
  },
  {
   "cell_type": "code",
   "execution_count": null,
   "metadata": {},
   "outputs": [],
   "source": [
    "train_data = pd.read_csv(f'data/train/{dataset_name}.csv')[:2000]\n",
    "test_data = pd.read_csv(f'data/test/{dataset_name}.csv')[:2000]"
   ]
  },
  {
   "cell_type": "code",
   "execution_count": null,
   "metadata": {},
   "outputs": [],
   "source": [
    "genres = np.unique(train_data.genre)\n",
    "label_encoder = preprocessing.LabelEncoder()\n",
    "label_encoder.fit(genres)"
   ]
  },
  {
   "cell_type": "code",
   "execution_count": null,
   "metadata": {
    "scrolled": true
   },
   "outputs": [],
   "source": [
    "nlp_title_embedding = BertTitle(max_words, max_words_title)\n",
    "nlp_classifier = CNN((max_words + max_words_title) * nlp_title_embedding.embedding_size, len(genres), 'adam')\n",
    "train(train_data.lyrics, train_data.title, train_data.genre, nlp_title_embedding, nlp_classifier, label_encoder, dataset_name, epochs=5)\n",
    "y_pred = test(test_data.lyrics, test_data.title, nlp_title_embedding, nlp_classifier, label_encoder, dataset_name)\n",
    "get_results(test_data.genre, y_pred)"
   ]
  }
 ],
 "metadata": {
  "kernelspec": {
   "display_name": "Python 3",
   "language": "python",
   "name": "python3"
  },
  "language_info": {
   "codemirror_mode": {
    "name": "ipython",
    "version": 3
   },
   "file_extension": ".py",
   "mimetype": "text/x-python",
   "name": "python",
   "nbconvert_exporter": "python",
   "pygments_lexer": "ipython3",
   "version": "3.8.15"
  },
  "vscode": {
   "interpreter": {
    "hash": "cf3867dc7eb6b74b717291f53998e39b1c4928e27b652817468199b3aea2c37e"
   }
  }
 },
 "nbformat": 4,
 "nbformat_minor": 2
}
