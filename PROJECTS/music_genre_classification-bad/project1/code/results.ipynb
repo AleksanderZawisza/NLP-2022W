{
 "cells": [
  {
   "cell_type": "code",
   "execution_count": 1,
   "metadata": {},
   "outputs": [],
   "source": [
    "import pandas as pd\n",
    "from sklearn.metrics import accuracy_score, f1_score, balanced_accuracy_score"
   ]
  },
  {
   "cell_type": "code",
   "execution_count": 2,
   "metadata": {},
   "outputs": [],
   "source": [
    "dataset_name = 'metrolyrics'"
   ]
  },
  {
   "cell_type": "code",
   "execution_count": 3,
   "metadata": {},
   "outputs": [],
   "source": [
    "test_data = pd.read_csv(f'data/test/{dataset_name}.csv')"
   ]
  },
  {
   "cell_type": "code",
   "execution_count": 4,
   "metadata": {},
   "outputs": [
    {
     "data": {
      "text/html": [
       "<div>\n",
       "<style scoped>\n",
       "    .dataframe tbody tr th:only-of-type {\n",
       "        vertical-align: middle;\n",
       "    }\n",
       "\n",
       "    .dataframe tbody tr th {\n",
       "        vertical-align: top;\n",
       "    }\n",
       "\n",
       "    .dataframe thead th {\n",
       "        text-align: right;\n",
       "    }\n",
       "</style>\n",
       "<table border=\"1\" class=\"dataframe\">\n",
       "  <thead>\n",
       "    <tr style=\"text-align: right;\">\n",
       "      <th></th>\n",
       "      <th>nlp_embedding</th>\n",
       "      <th>nlp_classifier</th>\n",
       "      <th>accuracy</th>\n",
       "      <th>balanced_accuracy</th>\n",
       "      <th>f1_score</th>\n",
       "    </tr>\n",
       "  </thead>\n",
       "  <tbody>\n",
       "    <tr>\n",
       "      <th>0</th>\n",
       "      <td>glove</td>\n",
       "      <td>naive-bayes</td>\n",
       "      <td>0.154260</td>\n",
       "      <td>0.164804</td>\n",
       "      <td>0.096647</td>\n",
       "    </tr>\n",
       "    <tr>\n",
       "      <th>1</th>\n",
       "      <td>glove</td>\n",
       "      <td>svm</td>\n",
       "      <td>0.461845</td>\n",
       "      <td>0.205520</td>\n",
       "      <td>0.427801</td>\n",
       "    </tr>\n",
       "    <tr>\n",
       "      <th>2</th>\n",
       "      <td>glove</td>\n",
       "      <td>xgboost</td>\n",
       "      <td>0.303869</td>\n",
       "      <td>0.132049</td>\n",
       "      <td>0.311719</td>\n",
       "    </tr>\n",
       "    <tr>\n",
       "      <th>3</th>\n",
       "      <td>glove</td>\n",
       "      <td>cnn</td>\n",
       "      <td>0.541871</td>\n",
       "      <td>0.226268</td>\n",
       "      <td>0.487967</td>\n",
       "    </tr>\n",
       "  </tbody>\n",
       "</table>\n",
       "</div>"
      ],
      "text/plain": [
       "  nlp_embedding nlp_classifier  accuracy  balanced_accuracy  f1_score\n",
       "0         glove    naive-bayes  0.154260           0.164804  0.096647\n",
       "1         glove            svm  0.461845           0.205520  0.427801\n",
       "2         glove        xgboost  0.303869           0.132049  0.311719\n",
       "3         glove            cnn  0.541871           0.226268  0.487967"
      ]
     },
     "execution_count": 4,
     "metadata": {},
     "output_type": "execute_result"
    }
   ],
   "source": [
    "y_true = test_data.genre\n",
    "nlp_embeddings = ['glove']\n",
    "nlp_classifiers = ['naive-bayes', 'svm', 'xgboost', 'cnn']\n",
    "accuracy = []\n",
    "balanced_accuracy = []\n",
    "f1 = []\n",
    "for emb_name in nlp_embeddings:\n",
    "    for cls_name in nlp_classifiers:\n",
    "        fname = f'{dataset_name}/predictions/model_{emb_name}_{cls_name}.csv'\n",
    "        y_pred = pd.read_csv(fname, header=None)\n",
    "        accuracy.append(accuracy_score(y_true=y_true, y_pred=y_pred))\n",
    "        balanced_accuracy.append(balanced_accuracy_score(y_true=y_true, y_pred=y_pred))\n",
    "        f1.append(f1_score(y_true=y_true, y_pred=y_pred, average='weighted'))\n",
    "results = pd.DataFrame({\n",
    "    'nlp_embedding': nlp_embeddings * 4,\n",
    "    'nlp_classifier': nlp_classifiers,\n",
    "    'accuracy': accuracy,\n",
    "    'balanced_accuracy': balanced_accuracy,\n",
    "    'f1_score': f1})\n",
    "results"
   ]
  }
 ],
 "metadata": {
  "kernelspec": {
   "display_name": "Python 3.9.13 ('base')",
   "language": "python",
   "name": "python3"
  },
  "language_info": {
   "codemirror_mode": {
    "name": "ipython",
    "version": 3
   },
   "file_extension": ".py",
   "mimetype": "text/x-python",
   "name": "python",
   "nbconvert_exporter": "python",
   "pygments_lexer": "ipython3",
   "version": "3.9.13"
  },
  "orig_nbformat": 4,
  "vscode": {
   "interpreter": {
    "hash": "1c978efebeb2270acb6188b84252153fa3db86f2d5406301959b558db2528b4a"
   }
  }
 },
 "nbformat": 4,
 "nbformat_minor": 2
}
