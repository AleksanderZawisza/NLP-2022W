{
 "cells": [
  {
   "cell_type": "code",
   "execution_count": 1,
   "metadata": {},
   "outputs": [],
   "source": [
    "# !pip install xgboost"
   ]
  },
  {
   "cell_type": "code",
   "execution_count": 2,
   "metadata": {},
   "outputs": [],
   "source": [
    "import pandas as pd\n",
    "import itertools\n",
    "import os\n",
    "import numpy as np\n",
    "import xgboost as xgb\n",
    "\n",
    "from johnsnowlabs import nlu\n",
    "from sklearn.naive_bayes import GaussianNB\n",
    "from sklearn.linear_model import SGDClassifier\n",
    "from joblib import dump, load\n",
    "from sklearn.metrics import accuracy_score\n",
    "from sklearn import preprocessing"
   ]
  },
  {
   "cell_type": "code",
   "execution_count": 3,
   "metadata": {},
   "outputs": [
    {
     "name": "stdout",
     "output_type": "stream",
     "text": [
      "glove_100d download started this may take some time.\n",
      "Approximate size to download 145.3 MB\n",
      "[OK!]\n"
     ]
    }
   ],
   "source": [
    "glove_pipe = nlu.load('glove')"
   ]
  },
  {
   "cell_type": "code",
   "execution_count": 4,
   "metadata": {},
   "outputs": [],
   "source": [
    "data = pd.read_csv('data/train/metrolyrics.csv')"
   ]
  },
  {
   "cell_type": "code",
   "execution_count": 5,
   "metadata": {},
   "outputs": [],
   "source": [
    "train_data = data[0:1000]\n",
    "test_data = data[0:100]"
   ]
  },
  {
   "cell_type": "code",
   "execution_count": 6,
   "metadata": {},
   "outputs": [],
   "source": [
    "max_words = 200\n",
    "embedding_size = 100\n",
    "model_dir = \"model\"\n",
    "# pred_dir = \"predictions\""
   ]
  },
  {
   "cell_type": "code",
   "execution_count": 19,
   "metadata": {},
   "outputs": [],
   "source": [
    "if not os.path.exists(model_dir):\n",
    "    os.makedirs(model_dir)\n",
    "\n",
    "# if not os.path.exists(pred_dir):\n",
    "#     os.makedirs(pred_dir)"
   ]
  },
  {
   "cell_type": "code",
   "execution_count": 8,
   "metadata": {},
   "outputs": [],
   "source": [
    "def proc_emb(x):\n",
    "    x.resize((max_words, embedding_size), refcheck=False)\n",
    "    x = x.flatten()\n",
    "    return x"
   ]
  },
  {
   "cell_type": "code",
   "execution_count": 9,
   "metadata": {},
   "outputs": [],
   "source": [
    "def embed_lyrics(data, emb_pipe):\n",
    "    embeddings = emb_pipe.predict(data, output_level='document')\n",
    "    return np.array([proc_emb(x) for x in embeddings.word_embedding_glove])"
   ]
  },
  {
   "cell_type": "code",
   "execution_count": 10,
   "metadata": {},
   "outputs": [],
   "source": [
    "class NaiveBayes:\n",
    "    name = \"naive-bayes\"\n",
    "    def __init__(self):\n",
    "        self.model = GaussianNB()\n",
    "    \n",
    "    def partial_fit(self, X, Y, classes):\n",
    "        self.model.partial_fit(X, Y, classes)\n",
    "    \n",
    "    def predict(self, X):\n",
    "        return self.model.predict(X)\n",
    "    \n",
    "    def save(self, filename):\n",
    "        dump(self.model, filename)\n",
    "    \n",
    "    def load(self, filename):\n",
    "        self.model = load(filename)\n"
   ]
  },
  {
   "cell_type": "code",
   "execution_count": 11,
   "metadata": {},
   "outputs": [],
   "source": [
    "class SVM:\n",
    "    name = \"svm\"\n",
    "    def __init__(self):\n",
    "        self.model = SGDClassifier()\n",
    "    \n",
    "    def partial_fit(self, X, Y, classes):\n",
    "        self.model.partial_fit(X, Y, classes)\n",
    "    \n",
    "    def predict(self, X):\n",
    "        return self.model.predict(X)\n",
    "    \n",
    "    def save(self, filename):\n",
    "        dump(self.model, filename)\n",
    "    \n",
    "    def load(self, filename):\n",
    "        self.model = load(filename)"
   ]
  },
  {
   "cell_type": "code",
   "execution_count": 12,
   "metadata": {},
   "outputs": [],
   "source": [
    "class XGBoost:\n",
    "    name = \"xgboost\"\n",
    "    \n",
    "    def __init__(self):\n",
    "        self.params = {'objective': 'multi:softmax'}\n",
    "        self.model = None\n",
    "        self.boost_iter = 30\n",
    "        self.le = preprocessing.LabelEncoder()\n",
    "    \n",
    "    def partial_fit(self, X, Y, classes):\n",
    "        \n",
    "        if self.model is None:\n",
    "            self.le.fit(classes)\n",
    "            data = xgb.DMatrix(X, label=self.le.transform(Y))\n",
    "            self.params['num_class'] = len(classes)\n",
    "            self.model = xgb.train(self.params, data, self.boost_iter)\n",
    "        else:\n",
    "            data = xgb.DMatrix(X, label=self.le.transform(Y))\n",
    "            self.model = xgb.train(self.params, data, self.boost_iter, xgb_model=self.model)\n",
    "    \n",
    "    def predict(self, X):\n",
    "        return self.le.inverse_transform(self.model.predict(xgb.DMatrix(X)).astype(int))\n",
    "    \n",
    "    def save(self, filename):\n",
    "        self.model.save_model(filename)\n",
    "    \n",
    "    def load(self, filename):\n",
    "        self.model = xgb.Booster()\n",
    "        self.model.load_model(filename)"
   ]
  },
  {
   "cell_type": "code",
   "execution_count": 13,
   "metadata": {},
   "outputs": [],
   "source": [
    "# TODO: class for CNN"
   ]
  },
  {
   "cell_type": "code",
   "execution_count": 14,
   "metadata": {},
   "outputs": [],
   "source": [
    "def train(data_x, data_y, emb_pipe, emb_name, model, batch_size=100):\n",
    "    print(f\"Training...\")\n",
    "    classes = np.unique(data_y)\n",
    "    for i in range(0, data_x.shape[0], batch_size):\n",
    "\n",
    "        if i + batch_size > data_x.shape[0]:\n",
    "            j = data_x.shape[0]\n",
    "        else:\n",
    "            j = i + batch_size\n",
    "        \n",
    "        print(f\"Processing rows: {i} - {j - 1}\")\n",
    "\n",
    "        embeddings = embed_lyrics(data_x[i:j], emb_pipe)\n",
    "        model.partial_fit(embeddings, data_y[i:j], classes=classes)\n",
    "        # Zapisywać w nazwie j? Albo j-1 zamiast j?\n",
    "        model.save(os.path.join(model_dir, f'model-{model.name}-{emb_name}-{j}.joblib'))\n",
    "    print(f\"Success!\")\n"
   ]
  },
  {
   "cell_type": "code",
   "execution_count": 15,
   "metadata": {},
   "outputs": [],
   "source": [
    "def test(data_x, emb_pipe, emb_name, model, batch_size=100):\n",
    "    print(f\"Testing...\")\n",
    "    predictions_all = []\n",
    "    for i in range(0, data_x.shape[0], batch_size):\n",
    "\n",
    "        if i + batch_size > data_x.shape[0]:\n",
    "            j = data_x.shape[0]\n",
    "        else:\n",
    "            j = i + batch_size\n",
    "        \n",
    "        print(f\"Processing rows: {i} - {j - 1}\")\n",
    "\n",
    "        embeddings = embed_lyrics(data_x[i:j], emb_pipe)\n",
    "        \n",
    "        predictions = model.predict(embeddings)\n",
    "        predictions_all.extend(predictions)\n",
    "        # Można to zapisywać po każdym batchu ale przydałoby się też gdzieś mądrze to usuwać być może\n",
    "        # pd.DataFrame(predictions.reshape(-1, 1)).to_csv(os.path.join(pred_dir, f'model-{model.name}-{emb_name}.csv'), mode='a', index=False, header=False)\n",
    "    print(f\"Success!\")    \n",
    "    return predictions_all"
   ]
  },
  {
   "cell_type": "code",
   "execution_count": 16,
   "metadata": {},
   "outputs": [
    {
     "name": "stdout",
     "output_type": "stream",
     "text": [
      "Training...\n",
      "Processing rows: 0 - 99\n",
      "Processing rows: 100 - 199\n",
      "Processing rows: 200 - 299\n",
      "Processing rows: 300 - 399\n",
      "Processing rows: 400 - 499\n",
      "Processing rows: 500 - 599\n",
      "Processing rows: 600 - 699\n",
      "Processing rows: 700 - 799\n",
      "Processing rows: 800 - 899\n",
      "Processing rows: 900 - 999\n",
      "Success!\n",
      "Testing...\n",
      "Processing rows: 0 - 99\n",
      "Success!\n"
     ]
    },
    {
     "data": {
      "text/plain": [
       "0.38"
      ]
     },
     "execution_count": 16,
     "metadata": {},
     "output_type": "execute_result"
    }
   ],
   "source": [
    "model_nb = NaiveBayes()\n",
    "train(train_data.lyrics, train_data.genre, glove_pipe, \"glove\", model_nb)\n",
    "p = test(test_data.lyrics, glove_pipe, \"glove\", model_nb)\n",
    "accuracy_score(test_data.genre.values, p)"
   ]
  },
  {
   "cell_type": "code",
   "execution_count": 17,
   "metadata": {},
   "outputs": [
    {
     "name": "stdout",
     "output_type": "stream",
     "text": [
      "Training...\n",
      "Processing rows: 0 - 99\n",
      "Processing rows: 100 - 199\n",
      "Processing rows: 200 - 299\n",
      "Processing rows: 300 - 399\n",
      "Processing rows: 400 - 499\n",
      "Processing rows: 500 - 599\n",
      "Processing rows: 600 - 699\n",
      "Processing rows: 700 - 799\n",
      "Processing rows: 800 - 899\n",
      "Processing rows: 900 - 999\n",
      "Success!\n",
      "Testing...\n",
      "Processing rows: 0 - 99\n",
      "Success!\n"
     ]
    },
    {
     "data": {
      "text/plain": [
       "0.62"
      ]
     },
     "execution_count": 17,
     "metadata": {},
     "output_type": "execute_result"
    }
   ],
   "source": [
    "model_svm = SVM()\n",
    "train(train_data.lyrics, train_data.genre, glove_pipe, \"glove\", model_svm)\n",
    "p = test(test_data.lyrics, glove_pipe, \"glove\", model_svm)\n",
    "accuracy_score(test_data.genre.values, p)"
   ]
  },
  {
   "cell_type": "code",
   "execution_count": 18,
   "metadata": {},
   "outputs": [
    {
     "name": "stdout",
     "output_type": "stream",
     "text": [
      "Training...\n",
      "Processing rows: 0 - 99\n",
      "Processing rows: 100 - 199\n",
      "Processing rows: 200 - 299\n",
      "Processing rows: 300 - 399\n",
      "Processing rows: 400 - 499\n",
      "Processing rows: 500 - 599\n",
      "Processing rows: 600 - 699\n",
      "Processing rows: 700 - 799\n",
      "Processing rows: 800 - 899\n",
      "Processing rows: 900 - 999\n",
      "Success!\n",
      "Testing...\n",
      "Processing rows: 0 - 99\n",
      "Success!\n"
     ]
    },
    {
     "data": {
      "text/plain": [
       "0.64"
      ]
     },
     "execution_count": 18,
     "metadata": {},
     "output_type": "execute_result"
    }
   ],
   "source": [
    "model_xgb = XGBoost()\n",
    "train(train_data.lyrics, train_data.genre, glove_pipe, \"glove\", model_xgb)\n",
    "p = test(test_data.lyrics, glove_pipe, \"glove\", model_xgb)\n",
    "accuracy_score(test_data.genre.values, p)"
   ]
  },
  {
   "cell_type": "code",
   "execution_count": null,
   "metadata": {},
   "outputs": [],
   "source": []
  }
 ],
 "metadata": {
  "kernelspec": {
   "display_name": "Python 3",
   "language": "python",
   "name": "python3"
  },
  "language_info": {
   "codemirror_mode": {
    "name": "ipython",
    "version": 3
   },
   "file_extension": ".py",
   "mimetype": "text/x-python",
   "name": "python",
   "nbconvert_exporter": "python",
   "pygments_lexer": "ipython3",
   "version": "3.7.6"
  },
  "vscode": {
   "interpreter": {
    "hash": "cf3867dc7eb6b74b717291f53998e39b1c4928e27b652817468199b3aea2c37e"
   }
  }
 },
 "nbformat": 4,
 "nbformat_minor": 2
}
