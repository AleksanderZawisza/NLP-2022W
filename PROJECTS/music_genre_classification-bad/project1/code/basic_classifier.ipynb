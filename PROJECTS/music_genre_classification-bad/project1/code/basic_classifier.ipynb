{
 "cells": [
  {
   "cell_type": "code",
   "execution_count": null,
   "metadata": {},
   "outputs": [],
   "source": [
    "import os\n",
    "import numpy as np\n",
    "import pandas as pd\n",
    "import absl.logging\n",
    "from sklearn.metrics import accuracy_score\n",
    "from nlp_embedding import GloVe\n",
    "from nlp_classifier import NaiveBayes, SVM, XGBoost, CNN\n",
    "from sklearn import preprocessing\n",
    "\n",
    "absl.logging.set_verbosity(absl.logging.ERROR)"
   ]
  },
  {
   "cell_type": "code",
   "execution_count": null,
   "metadata": {},
   "outputs": [],
   "source": [
    "def train(data_x, data_y, nlp_embedding, nlp_classifier, label_encoder, epochs=1, batch_size=1000, model_dir='models', start_idx=0):\n",
    "    print('Training...')\n",
    "    data_y_enc = label_encoder.transform(data_y)\n",
    "    classes = np.unique(data_y_enc)\n",
    "    \n",
    "    for epoch in range(epochs):\n",
    "        print(f'Epoch: {str(epoch + 1)}/{str(epochs)}')\n",
    "        for i in range(start_idx, data_x.shape[0], batch_size):\n",
    "            \n",
    "            if i + batch_size > data_x.shape[0]:\n",
    "                j = data_x.shape[0]\n",
    "            else:\n",
    "                j = i + batch_size\n",
    "            \n",
    "            print(f'Processing rows: {i} - {j - 1}')\n",
    "\n",
    "            embeddings = nlp_embedding.embed_lyrics(data_x[i:j])\n",
    "            nlp_classifier.partial_fit(embeddings, data_y_enc[i:j], classes=classes)\n",
    "            nlp_classifier.save(os.path.join(model_dir, f'model_{nlp_embedding.name}_{nlp_classifier.name}'))\n",
    "        start_idx = 0\n",
    "    \n",
    "    print('Success!')"
   ]
  },
  {
   "cell_type": "code",
   "execution_count": null,
   "metadata": {},
   "outputs": [],
   "source": [
    "def test(data_x, nlp_embedding, nlp_classifier, label_encoder, batch_size=1000, predictions_dir='predictions', start_idx=0):\n",
    "    print('Testing...')\n",
    "    fname = os.path.join(predictions_dir, f'model_{nlp_embedding.name}_{nlp_classifier.name}.csv')\n",
    "    predictions_all = []\n",
    "\n",
    "    if start_idx == 0 and os.path.exists(fname):\n",
    "        os.remove(fname)\n",
    "    \n",
    "    for i in range(start_idx, data_x.shape[0], batch_size):\n",
    "\n",
    "        if i + batch_size > data_x.shape[0]:\n",
    "            j = data_x.shape[0]\n",
    "        else:\n",
    "            j = i + batch_size\n",
    "        \n",
    "        print(f'Processing rows: {i} - {j - 1}')\n",
    "\n",
    "        embeddings = nlp_embedding.embed_lyrics(data_x[i:j])\n",
    "        predictions_enc = nlp_classifier.predict(embeddings)\n",
    "        predictions = label_encoder.inverse_transform(predictions_enc)\n",
    "        \n",
    "        predictions_all.extend(predictions)\n",
    "\n",
    "        pd.DataFrame(predictions.reshape(-1, 1)).to_csv(fname, mode='a', index=False, header=False)\n",
    "    \n",
    "    print('Success!')    \n",
    "    \n",
    "    return predictions_all"
   ]
  },
  {
   "cell_type": "code",
   "execution_count": null,
   "metadata": {},
   "outputs": [],
   "source": [
    "max_words = 400\n",
    "dataset_name = 'metrolyrics'"
   ]
  },
  {
   "cell_type": "code",
   "execution_count": null,
   "metadata": {},
   "outputs": [],
   "source": [
    "if not os.path.exists(f'{dataset_name}/models'):\n",
    "    os.makedirs(f'{dataset_name}/models')\n",
    "\n",
    "if not os.path.exists(f'{dataset_name}/predictions'):\n",
    "    os.makedirs(f'{dataset_name}/predictions')"
   ]
  },
  {
   "cell_type": "code",
   "execution_count": null,
   "metadata": {},
   "outputs": [],
   "source": [
    "train_data = pd.read_csv(f'data/train/{dataset_name}.csv')\n",
    "test_data = pd.read_csv(f'data/test/{dataset_name}.csv')"
   ]
  },
  {
   "cell_type": "code",
   "execution_count": null,
   "metadata": {},
   "outputs": [],
   "source": [
    "genres = np.unique(train_data.genre)\n",
    "label_encoder = preprocessing.LabelEncoder()\n",
    "label_encoder.fit(genres)"
   ]
  },
  {
   "cell_type": "code",
   "execution_count": null,
   "metadata": {},
   "outputs": [],
   "source": [
    "nlp_classifier = NaiveBayes()\n",
    "nlp_embedding = GloVe(max_words)\n",
    "train(train_data.lyrics, train_data.genre, nlp_embedding, nlp_classifier, label_encoder, model_dir=f'{dataset_name}/models')\n",
    "test(test_data.lyrics, nlp_embedding, nlp_classifier, label_encoder, predictions_dir=f'{dataset_name}/predictions')"
   ]
  },
  {
   "cell_type": "code",
   "execution_count": null,
   "metadata": {},
   "outputs": [],
   "source": [
    "nlp_classifier = SVM()\n",
    "nlp_embedding = GloVe(max_words)\n",
    "train(train_data.lyrics, train_data.genre, nlp_embedding, nlp_classifier, label_encoder, model_dir=f'{dataset_name}/models')\n",
    "test(test_data.lyrics, nlp_embedding, nlp_classifier, label_encoder, predictions_dir=f'{dataset_name}/predictions')"
   ]
  },
  {
   "cell_type": "code",
   "execution_count": null,
   "metadata": {},
   "outputs": [],
   "source": [
    "nlp_classifier = XGBoost(len(genres))\n",
    "nlp_embedding = GloVe(max_words)\n",
    "train(train_data.lyrics, train_data.genre, nlp_embedding, nlp_classifier, label_encoder, model_dir=f'{dataset_name}/models')\n",
    "test(test_data.lyrics, nlp_embedding, nlp_classifier, label_encoder, predictions_dir=f'{dataset_name}/predictions')"
   ]
  },
  {
   "cell_type": "code",
   "execution_count": null,
   "metadata": {
    "scrolled": true
   },
   "outputs": [],
   "source": [
    "nlp_classifier = CNN(max_words * 100, len(genres), 'adam')\n",
    "nlp_embedding = GloVe(max_words)\n",
    "train(train_data.lyrics, train_data.genre, nlp_embedding, nlp_classifier, label_encoder, epochs=5, model_dir=f'{dataset_name}/models')\n",
    "test(test_data.lyrics, nlp_embedding, nlp_classifier, label_encoder, predictions_dir=f'{dataset_name}/predictions')"
   ]
  }
 ],
 "metadata": {
  "kernelspec": {
   "display_name": "Python 3",
   "language": "python",
   "name": "python3"
  },
  "language_info": {
   "codemirror_mode": {
    "name": "ipython",
    "version": 3
   },
   "file_extension": ".py",
   "mimetype": "text/x-python",
   "name": "python",
   "nbconvert_exporter": "python",
   "pygments_lexer": "ipython3",
   "version": "3.8.15"
  },
  "vscode": {
   "interpreter": {
    "hash": "cf3867dc7eb6b74b717291f53998e39b1c4928e27b652817468199b3aea2c37e"
   }
  }
 },
 "nbformat": 4,
 "nbformat_minor": 2
}
