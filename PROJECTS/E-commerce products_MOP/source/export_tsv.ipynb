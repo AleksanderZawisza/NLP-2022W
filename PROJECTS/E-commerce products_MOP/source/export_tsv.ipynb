{
 "cells": [
  {
   "cell_type": "code",
   "execution_count": 1,
   "metadata": {},
   "outputs": [],
   "source": [
    "from os import path\n",
    "import numpy as np\n",
    "import pandas as pd\n",
    "\n",
    "from config import EMBEDDING_PATH\n",
    "from emb_extr_res.emb_extr_res import get_embeddings_df\n",
    "from load_data.wdc.load_wdc_dataset import EnglishDatasetLoader"
   ]
  },
  {
   "cell_type": "code",
   "execution_count": 7,
   "metadata": {},
   "outputs": [],
   "source": [
    "dataset_type = \"cameras\"\n",
    "dataset_size = \"medium\""
   ]
  },
  {
   "cell_type": "code",
   "execution_count": 8,
   "metadata": {},
   "outputs": [],
   "source": [
    "#load dataset\n",
    "train_df = EnglishDatasetLoader.load_train(dataset_type, dataset_size)\n",
    "test_df = EnglishDatasetLoader.load_test(dataset_type)"
   ]
  },
  {
   "cell_type": "code",
   "execution_count": 2,
   "metadata": {},
   "outputs": [],
   "source": [
    "train_embeddings_path = path.join(EMBEDDING_PATH, r'train_embeddings.csv')\n",
    "train_embeddings = get_embeddings_df(train_embeddings_path)"
   ]
  },
  {
   "cell_type": "code",
   "execution_count": 10,
   "metadata": {},
   "outputs": [],
   "source": [
    "def extract_ids_and_cluster_ids(train_df):\n",
    "    \"\"\"\n",
    "    extract unique pairs of cluster_id and offer_id\n",
    "    \"\"\"\n",
    "    train_df_left = train_df[[\"id_left\", \"title_left\"]]\n",
    "    train_df_right = train_df[[\"id_right\", \"title_right\"]]\n",
    "    train_df_left = train_df_left.drop_duplicates().rename({\"id_left\" : \"offer_id\", \"title_left\" : \"title\"}, axis = 'columns')\n",
    "    train_df_right = train_df_right.drop_duplicates().rename({\"id_right\" : \"offer_id\", \"title_right\" : \"title\"}, axis = 'columns')\n",
    "    df_train_all = pd.concat([train_df_right, train_df_left])\n",
    "\n",
    "    return df_train_all.drop_duplicates()"
   ]
  },
  {
   "cell_type": "code",
   "execution_count": 15,
   "metadata": {},
   "outputs": [],
   "source": [
    "res = extract_ids_and_cluster_ids(train_df)"
   ]
  },
  {
   "cell_type": "code",
   "execution_count": 26,
   "metadata": {},
   "outputs": [
    {
     "data": {
      "text/plain": [
       "(2782, 769)"
      ]
     },
     "execution_count": 26,
     "metadata": {},
     "output_type": "execute_result"
    }
   ],
   "source": [
    "train_embeddings.shape"
   ]
  },
  {
   "cell_type": "code",
   "execution_count": 27,
   "metadata": {},
   "outputs": [],
   "source": [
    "ids, counts = np.unique(train_embeddings[\"id\"], return_counts=True)"
   ]
  },
  {
   "cell_type": "code",
   "execution_count": 29,
   "metadata": {},
   "outputs": [
    {
     "data": {
      "text/plain": [
       "2782"
      ]
     },
     "execution_count": 29,
     "metadata": {},
     "output_type": "execute_result"
    }
   ],
   "source": [
    "sum(counts)"
   ]
  },
  {
   "cell_type": "code",
   "execution_count": 12,
   "metadata": {},
   "outputs": [],
   "source": [
    "train_embeddings.drop([\"id\"], axis=1).to_csv('train_embeddings.tsv', sep='\\t', index=False, header=False)"
   ]
  },
  {
   "cell_type": "code",
   "execution_count": 21,
   "metadata": {},
   "outputs": [],
   "source": [
    "pd.merge(train_embeddings, res, left_on = \"id\", right_on = \"offer_id\",  how='left')[\"title\"].to_csv('train_embeddings_titles.tsv', sep='\\t', index=False, header=False)#.rename({\"product_id\":\"label\"}, axis = 'columns')"
   ]
  }
 ],
 "metadata": {
  "kernelspec": {
   "display_name": "Python 3.8.12 ('base')",
   "language": "python",
   "name": "python3"
  },
  "language_info": {
   "codemirror_mode": {
    "name": "ipython",
    "version": 3
   },
   "file_extension": ".py",
   "mimetype": "text/x-python",
   "name": "python",
   "nbconvert_exporter": "python",
   "pygments_lexer": "ipython3",
   "version": "3.8.12"
  },
  "orig_nbformat": 4,
  "vscode": {
   "interpreter": {
    "hash": "c536d464c425baa195bec6e8a0508c63c0f4224f917fb0d5c1fc3d571634ac5a"
   }
  }
 },
 "nbformat": 4,
 "nbformat_minor": 2
}
