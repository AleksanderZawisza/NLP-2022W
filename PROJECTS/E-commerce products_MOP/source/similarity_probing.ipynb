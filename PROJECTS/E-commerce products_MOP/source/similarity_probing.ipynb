{
 "cells": [
  {
   "cell_type": "code",
   "execution_count": 2,
   "metadata": {},
   "outputs": [],
   "source": [
    "from os import path\n",
    "from config import TYPE, SIZE, EMBEDDING_PATH\n",
    "\n",
    "from load_data.wdc.load_wdc_dataset import EnglishDatasetLoader\n",
    "from utils.levenshtein_distance import compute_lev_dist_for_pairs\n",
    "from emb_extr_res.emb_extr_res import get_embeddings_df\n",
    "from utils.visualization import plot_histogram\n",
    "from probing.similarity_pairs_probing.get_data import get_pair_similarity_probing_task_df\n",
    "\n",
    "import pandas as pd\n",
    "import numpy as np\n"
   ]
  },
  {
   "attachments": {},
   "cell_type": "markdown",
   "metadata": {},
   "source": [
    "# Probing task: similarity"
   ]
  },
  {
   "cell_type": "code",
   "execution_count": null,
   "metadata": {},
   "outputs": [],
   "source": []
  },
  {
   "attachments": {},
   "cell_type": "markdown",
   "metadata": {},
   "source": [
    "### a) similarity of offers used in training (training set) "
   ]
  },
  {
   "attachments": {},
   "cell_type": "markdown",
   "metadata": {},
   "source": [
    "Loading training dataset"
   ]
  },
  {
   "cell_type": "code",
   "execution_count": 3,
   "metadata": {},
   "outputs": [],
   "source": [
    "df_train = EnglishDatasetLoader.load_train(type=TYPE, size=SIZE)"
   ]
  },
  {
   "attachments": {},
   "cell_type": "markdown",
   "metadata": {},
   "source": [
    "Computing Levenshtein Distance for each pair - a new target variable for this probing task"
   ]
  },
  {
   "cell_type": "code",
   "execution_count": 4,
   "metadata": {},
   "outputs": [],
   "source": [
    "df_train['title_lev_dist'] = compute_lev_dist_for_pairs(df_train)"
   ]
  },
  {
   "attachments": {},
   "cell_type": "markdown",
   "metadata": {},
   "source": [
    "Choosing the best bins for discretization of the new target variable - similarity score of each pair"
   ]
  },
  {
   "cell_type": "code",
   "execution_count": 5,
   "metadata": {},
   "outputs": [
    {
     "data": {
      "image/png": "[encoded data removed]",
      "text/plain": [
       "<Figure size 432x288 with 1 Axes>"
      ]
     },
     "metadata": {
      "needs_background": "light"
     },
     "output_type": "display_data"
    }
   ],
   "source": [
    "plot_histogram(df_train['title_lev_dist'].values, bins='auto')"
   ]
  },
  {
   "cell_type": "code",
   "execution_count": 6,
   "metadata": {},
   "outputs": [
    {
     "data": {
      "image/png": "[encoded data removed]",
      "text/plain": [
       "<Figure size 432x288 with 1 Axes>"
      ]
     },
     "metadata": {
      "needs_background": "light"
     },
     "output_type": "display_data"
    }
   ],
   "source": [
    "bins = [0, 20, 40, 60, 80, 1000]\n",
    "plot_histogram(df_train['title_lev_dist'].values, bins=bins)"
   ]
  },
  {
   "attachments": {},
   "cell_type": "markdown",
   "metadata": {},
   "source": [
    "Discretize the target variable"
   ]
  },
  {
   "cell_type": "code",
   "execution_count": 7,
   "metadata": {},
   "outputs": [
    {
     "data": {
      "text/plain": [
       "0       3\n",
       "1       2\n",
       "2       0\n",
       "3       3\n",
       "4       2\n",
       "       ..\n",
       "5250    2\n",
       "5251    2\n",
       "5252    1\n",
       "5253    1\n",
       "5254    2\n",
       "Name: title_lev_dist, Length: 5255, dtype: category\n",
       "Categories (5, int64): [0 < 1 < 2 < 3 < 4]"
      ]
     },
     "execution_count": 7,
     "metadata": {},
     "output_type": "execute_result"
    }
   ],
   "source": [
    "df_train['title_lev_dist'] = pd.cut(x=df_train['title_lev_dist'], bins=bins, labels=[0, 1, 2, 3, 4])\n",
    "df_train['title_lev_dist']"
   ]
  },
  {
   "attachments": {},
   "cell_type": "markdown",
   "metadata": {},
   "source": [
    "Get embeddings result data frame:"
   ]
  },
  {
   "cell_type": "code",
   "execution_count": 8,
   "metadata": {},
   "outputs": [],
   "source": [
    "train_embeddings_path = path.join(EMBEDDING_PATH, r'train_embeddings.csv')\n",
    "embedding_train_df = get_embeddings_df(train_embeddings_path)"
   ]
  },
  {
   "cell_type": "code",
   "execution_count": 9,
   "metadata": {},
   "outputs": [],
   "source": [
    "df = get_pair_similarity_probing_task_df(df_train, embedding_train_df)"
   ]
  },
  {
   "cell_type": "code",
   "execution_count": 10,
   "metadata": {},
   "outputs": [
    {
     "data": {
      "text/html": [
       "<div>\n",
       "<style scoped>\n",
       "    .dataframe tbody tr th:only-of-type {\n",
       "        vertical-align: middle;\n",
       "    }\n",
       "\n",
       "    .dataframe tbody tr th {\n",
       "        vertical-align: top;\n",
       "    }\n",
       "\n",
       "    .dataframe thead th {\n",
       "        text-align: right;\n",
       "    }\n",
       "</style>\n",
       "<table border=\"1\" class=\"dataframe\">\n",
       "  <thead>\n",
       "    <tr style=\"text-align: right;\">\n",
       "      <th></th>\n",
       "      <th>title_lev_dist</th>\n",
       "      <th>left_id</th>\n",
       "      <th>left_0</th>\n",
       "      <th>left_1</th>\n",
       "      <th>left_2</th>\n",
       "      <th>left_3</th>\n",
       "      <th>left_4</th>\n",
       "      <th>left_5</th>\n",
       "      <th>left_6</th>\n",
       "      <th>left_7</th>\n",
       "      <th>...</th>\n",
       "      <th>right_758</th>\n",
       "      <th>right_759</th>\n",
       "      <th>right_760</th>\n",
       "      <th>right_761</th>\n",
       "      <th>right_762</th>\n",
       "      <th>right_763</th>\n",
       "      <th>right_764</th>\n",
       "      <th>right_765</th>\n",
       "      <th>right_766</th>\n",
       "      <th>right_767</th>\n",
       "    </tr>\n",
       "  </thead>\n",
       "  <tbody>\n",
       "    <tr>\n",
       "      <th>0</th>\n",
       "      <td>3</td>\n",
       "      <td>12939297</td>\n",
       "      <td>-0.149791</td>\n",
       "      <td>1.071217</td>\n",
       "      <td>0.187230</td>\n",
       "      <td>-0.139591</td>\n",
       "      <td>-0.807871</td>\n",
       "      <td>-0.046871</td>\n",
       "      <td>-0.418031</td>\n",
       "      <td>-0.100208</td>\n",
       "      <td>...</td>\n",
       "      <td>0.797846</td>\n",
       "      <td>-0.080050</td>\n",
       "      <td>-0.185518</td>\n",
       "      <td>0.397698</td>\n",
       "      <td>-0.138480</td>\n",
       "      <td>-1.232638</td>\n",
       "      <td>-0.162692</td>\n",
       "      <td>0.073755</td>\n",
       "      <td>0.053071</td>\n",
       "      <td>-1.146569</td>\n",
       "    </tr>\n",
       "    <tr>\n",
       "      <th>2</th>\n",
       "      <td>2</td>\n",
       "      <td>17100990</td>\n",
       "      <td>-0.047905</td>\n",
       "      <td>1.216980</td>\n",
       "      <td>0.245378</td>\n",
       "      <td>-0.004205</td>\n",
       "      <td>-0.797601</td>\n",
       "      <td>0.002864</td>\n",
       "      <td>-0.316836</td>\n",
       "      <td>-0.107791</td>\n",
       "      <td>...</td>\n",
       "      <td>0.897925</td>\n",
       "      <td>-0.188297</td>\n",
       "      <td>-0.243057</td>\n",
       "      <td>0.478510</td>\n",
       "      <td>-0.081364</td>\n",
       "      <td>-1.289565</td>\n",
       "      <td>0.149673</td>\n",
       "      <td>0.150715</td>\n",
       "      <td>0.095488</td>\n",
       "      <td>-1.226075</td>\n",
       "    </tr>\n",
       "    <tr>\n",
       "      <th>3</th>\n",
       "      <td>1</td>\n",
       "      <td>17100990</td>\n",
       "      <td>-0.047905</td>\n",
       "      <td>1.216980</td>\n",
       "      <td>0.245378</td>\n",
       "      <td>-0.004205</td>\n",
       "      <td>-0.797601</td>\n",
       "      <td>0.002864</td>\n",
       "      <td>-0.316836</td>\n",
       "      <td>-0.107791</td>\n",
       "      <td>...</td>\n",
       "      <td>0.368393</td>\n",
       "      <td>0.189557</td>\n",
       "      <td>-0.478091</td>\n",
       "      <td>-0.293820</td>\n",
       "      <td>-0.887781</td>\n",
       "      <td>0.900259</td>\n",
       "      <td>0.227131</td>\n",
       "      <td>0.367114</td>\n",
       "      <td>0.561405</td>\n",
       "      <td>-0.056190</td>\n",
       "    </tr>\n",
       "    <tr>\n",
       "      <th>4</th>\n",
       "      <td>0</td>\n",
       "      <td>16638707</td>\n",
       "      <td>0.067015</td>\n",
       "      <td>-0.674859</td>\n",
       "      <td>0.512917</td>\n",
       "      <td>-0.328953</td>\n",
       "      <td>-0.683486</td>\n",
       "      <td>-0.473680</td>\n",
       "      <td>0.242210</td>\n",
       "      <td>-0.825564</td>\n",
       "      <td>...</td>\n",
       "      <td>0.368393</td>\n",
       "      <td>0.189557</td>\n",
       "      <td>-0.478091</td>\n",
       "      <td>-0.293820</td>\n",
       "      <td>-0.887781</td>\n",
       "      <td>0.900259</td>\n",
       "      <td>0.227131</td>\n",
       "      <td>0.367114</td>\n",
       "      <td>0.561405</td>\n",
       "      <td>-0.056190</td>\n",
       "    </tr>\n",
       "    <tr>\n",
       "      <th>5</th>\n",
       "      <td>4</td>\n",
       "      <td>8030713</td>\n",
       "      <td>-0.648637</td>\n",
       "      <td>-0.043288</td>\n",
       "      <td>0.583120</td>\n",
       "      <td>-0.672200</td>\n",
       "      <td>-0.752488</td>\n",
       "      <td>-0.265190</td>\n",
       "      <td>-0.026415</td>\n",
       "      <td>-0.275188</td>\n",
       "      <td>...</td>\n",
       "      <td>0.368393</td>\n",
       "      <td>0.189557</td>\n",
       "      <td>-0.478091</td>\n",
       "      <td>-0.293820</td>\n",
       "      <td>-0.887781</td>\n",
       "      <td>0.900259</td>\n",
       "      <td>0.227131</td>\n",
       "      <td>0.367114</td>\n",
       "      <td>0.561405</td>\n",
       "      <td>-0.056190</td>\n",
       "    </tr>\n",
       "  </tbody>\n",
       "</table>\n",
       "<p>5 rows × 1539 columns</p>\n",
       "</div>"
      ],
      "text/plain": [
       "  title_lev_dist   left_id    left_0    left_1    left_2    left_3    left_4  \\\n",
       "0              3  12939297 -0.149791  1.071217  0.187230 -0.139591 -0.807871   \n",
       "2              2  17100990 -0.047905  1.216980  0.245378 -0.004205 -0.797601   \n",
       "3              1  17100990 -0.047905  1.216980  0.245378 -0.004205 -0.797601   \n",
       "4              0  16638707  0.067015 -0.674859  0.512917 -0.328953 -0.683486   \n",
       "5              4   8030713 -0.648637 -0.043288  0.583120 -0.672200 -0.752488   \n",
       "\n",
       "     left_5    left_6    left_7  ...  right_758  right_759  right_760  \\\n",
       "0 -0.046871 -0.418031 -0.100208  ...   0.797846  -0.080050  -0.185518   \n",
       "2  0.002864 -0.316836 -0.107791  ...   0.897925  -0.188297  -0.243057   \n",
       "3  0.002864 -0.316836 -0.107791  ...   0.368393   0.189557  -0.478091   \n",
       "4 -0.473680  0.242210 -0.825564  ...   0.368393   0.189557  -0.478091   \n",
       "5 -0.265190 -0.026415 -0.275188  ...   0.368393   0.189557  -0.478091   \n",
       "\n",
       "   right_761  right_762  right_763  right_764  right_765  right_766  right_767  \n",
       "0   0.397698  -0.138480  -1.232638  -0.162692   0.073755   0.053071  -1.146569  \n",
       "2   0.478510  -0.081364  -1.289565   0.149673   0.150715   0.095488  -1.226075  \n",
       "3  -0.293820  -0.887781   0.900259   0.227131   0.367114   0.561405  -0.056190  \n",
       "4  -0.293820  -0.887781   0.900259   0.227131   0.367114   0.561405  -0.056190  \n",
       "5  -0.293820  -0.887781   0.900259   0.227131   0.367114   0.561405  -0.056190  \n",
       "\n",
       "[5 rows x 1539 columns]"
      ]
     },
     "execution_count": 10,
     "metadata": {},
     "output_type": "execute_result"
    }
   ],
   "source": [
    "df.head()"
   ]
  },
  {
   "attachments": {},
   "cell_type": "markdown",
   "metadata": {},
   "source": [
    "modeling "
   ]
  },
  {
   "cell_type": "code",
   "execution_count": 11,
   "metadata": {},
   "outputs": [],
   "source": [
    "# TO DO"
   ]
  },
  {
   "attachments": {},
   "cell_type": "markdown",
   "metadata": {},
   "source": [
    "results"
   ]
  },
  {
   "cell_type": "code",
   "execution_count": 12,
   "metadata": {},
   "outputs": [],
   "source": [
    "# TO DO"
   ]
  },
  {
   "attachments": {},
   "cell_type": "markdown",
   "metadata": {},
   "source": [
    "***\n"
   ]
  },
  {
   "attachments": {},
   "cell_type": "markdown",
   "metadata": {},
   "source": [
    "### b) similarity of offers not used in training (test set) "
   ]
  },
  {
   "attachments": {},
   "cell_type": "markdown",
   "metadata": {},
   "source": [
    "Loading training dataset"
   ]
  },
  {
   "cell_type": "code",
   "execution_count": 13,
   "metadata": {},
   "outputs": [],
   "source": [
    "df_test = EnglishDatasetLoader.load_test(type=TYPE)"
   ]
  },
  {
   "attachments": {},
   "cell_type": "markdown",
   "metadata": {},
   "source": [
    "Computing Levenshtein Distance for each pair - a new target variable for this probing task"
   ]
  },
  {
   "cell_type": "code",
   "execution_count": 14,
   "metadata": {},
   "outputs": [],
   "source": [
    "df_test['title_lev_dist'] = compute_lev_dist_for_pairs(df_test)"
   ]
  },
  {
   "attachments": {},
   "cell_type": "markdown",
   "metadata": {},
   "source": [
    "Choosing the best bins for discretization of the new target variable - similarity score of each pair"
   ]
  },
  {
   "cell_type": "code",
   "execution_count": 15,
   "metadata": {},
   "outputs": [
    {
     "data": {
      "image/png": "[encoded data removed]",
      "text/plain": [
       "<Figure size 432x288 with 1 Axes>"
      ]
     },
     "metadata": {
      "needs_background": "light"
     },
     "output_type": "display_data"
    }
   ],
   "source": [
    "plot_histogram(df_test['title_lev_dist'].values, bins='auto')"
   ]
  },
  {
   "cell_type": "code",
   "execution_count": 16,
   "metadata": {},
   "outputs": [
    {
     "data": {
      "image/png": "[encoded data removed]",
      "text/plain": [
       "<Figure size 432x288 with 1 Axes>"
      ]
     },
     "metadata": {
      "needs_background": "light"
     },
     "output_type": "display_data"
    }
   ],
   "source": [
    "bins = [0, 20, 40, 60, 80, 1000]\n",
    "plot_histogram(df_test['title_lev_dist'].values, bins=bins)"
   ]
  },
  {
   "attachments": {},
   "cell_type": "markdown",
   "metadata": {},
   "source": [
    "Discretize the target variable"
   ]
  },
  {
   "cell_type": "code",
   "execution_count": 17,
   "metadata": {},
   "outputs": [
    {
     "data": {
      "text/plain": [
       "0       0\n",
       "1       1\n",
       "2       1\n",
       "3       1\n",
       "4       1\n",
       "       ..\n",
       "1095    2\n",
       "1096    3\n",
       "1097    3\n",
       "1098    3\n",
       "1099    1\n",
       "Name: title_lev_dist, Length: 1100, dtype: category\n",
       "Categories (5, int64): [0 < 1 < 2 < 3 < 4]"
      ]
     },
     "execution_count": 17,
     "metadata": {},
     "output_type": "execute_result"
    }
   ],
   "source": [
    "df_test['title_lev_dist'] = pd.cut(x=df_test['title_lev_dist'], bins=bins, labels=[0, 1, 2, 3, 4])\n",
    "df_test['title_lev_dist']"
   ]
  },
  {
   "attachments": {},
   "cell_type": "markdown",
   "metadata": {},
   "source": [
    "Get embeddings result data frame:"
   ]
  },
  {
   "cell_type": "code",
   "execution_count": 18,
   "metadata": {},
   "outputs": [],
   "source": [
    "test_embeddings_path = path.join(EMBEDDING_PATH, r'test_embeddings.csv')\n",
    "embedding_test_df = get_embeddings_df(test_embeddings_path)"
   ]
  },
  {
   "cell_type": "code",
   "execution_count": 23,
   "metadata": {},
   "outputs": [
    {
     "data": {
      "text/html": [
       "<div>\n",
       "<style scoped>\n",
       "    .dataframe tbody tr th:only-of-type {\n",
       "        vertical-align: middle;\n",
       "    }\n",
       "\n",
       "    .dataframe tbody tr th {\n",
       "        vertical-align: top;\n",
       "    }\n",
       "\n",
       "    .dataframe thead th {\n",
       "        text-align: right;\n",
       "    }\n",
       "</style>\n",
       "<table border=\"1\" class=\"dataframe\">\n",
       "  <thead>\n",
       "    <tr style=\"text-align: right;\">\n",
       "      <th></th>\n",
       "      <th>title_lev_dist</th>\n",
       "      <th>left_id</th>\n",
       "      <th>left_0</th>\n",
       "      <th>left_1</th>\n",
       "      <th>left_2</th>\n",
       "      <th>left_3</th>\n",
       "      <th>left_4</th>\n",
       "      <th>left_5</th>\n",
       "      <th>left_6</th>\n",
       "      <th>left_7</th>\n",
       "      <th>...</th>\n",
       "      <th>right_758</th>\n",
       "      <th>right_759</th>\n",
       "      <th>right_760</th>\n",
       "      <th>right_761</th>\n",
       "      <th>right_762</th>\n",
       "      <th>right_763</th>\n",
       "      <th>right_764</th>\n",
       "      <th>right_765</th>\n",
       "      <th>right_766</th>\n",
       "      <th>right_767</th>\n",
       "    </tr>\n",
       "  </thead>\n",
       "  <tbody>\n",
       "    <tr>\n",
       "      <th>0</th>\n",
       "      <td>0</td>\n",
       "      <td>8571506</td>\n",
       "      <td>0.550398</td>\n",
       "      <td>-0.526154</td>\n",
       "      <td>0.082125</td>\n",
       "      <td>0.444099</td>\n",
       "      <td>0.053268</td>\n",
       "      <td>-0.345504</td>\n",
       "      <td>-0.084409</td>\n",
       "      <td>0.096725</td>\n",
       "      <td>...</td>\n",
       "      <td>0.300989</td>\n",
       "      <td>0.605257</td>\n",
       "      <td>-0.031447</td>\n",
       "      <td>0.055329</td>\n",
       "      <td>0.581134</td>\n",
       "      <td>-0.562669</td>\n",
       "      <td>-0.185219</td>\n",
       "      <td>-0.150309</td>\n",
       "      <td>0.547994</td>\n",
       "      <td>0.673631</td>\n",
       "    </tr>\n",
       "    <tr>\n",
       "      <th>2</th>\n",
       "      <td>1</td>\n",
       "      <td>8571506</td>\n",
       "      <td>0.550398</td>\n",
       "      <td>-0.526154</td>\n",
       "      <td>0.082125</td>\n",
       "      <td>0.444099</td>\n",
       "      <td>0.053268</td>\n",
       "      <td>-0.345504</td>\n",
       "      <td>-0.084409</td>\n",
       "      <td>0.096725</td>\n",
       "      <td>...</td>\n",
       "      <td>-0.567429</td>\n",
       "      <td>0.363189</td>\n",
       "      <td>-0.289208</td>\n",
       "      <td>-0.063081</td>\n",
       "      <td>-0.901390</td>\n",
       "      <td>-0.405271</td>\n",
       "      <td>0.049443</td>\n",
       "      <td>0.515929</td>\n",
       "      <td>-0.140260</td>\n",
       "      <td>-0.624937</td>\n",
       "    </tr>\n",
       "    <tr>\n",
       "      <th>3</th>\n",
       "      <td>1</td>\n",
       "      <td>8571506</td>\n",
       "      <td>0.550398</td>\n",
       "      <td>-0.526154</td>\n",
       "      <td>0.082125</td>\n",
       "      <td>0.444099</td>\n",
       "      <td>0.053268</td>\n",
       "      <td>-0.345504</td>\n",
       "      <td>-0.084409</td>\n",
       "      <td>0.096725</td>\n",
       "      <td>...</td>\n",
       "      <td>-1.015687</td>\n",
       "      <td>-0.076606</td>\n",
       "      <td>-0.227819</td>\n",
       "      <td>-0.420046</td>\n",
       "      <td>-0.208214</td>\n",
       "      <td>-0.679192</td>\n",
       "      <td>0.195318</td>\n",
       "      <td>-0.276532</td>\n",
       "      <td>-0.493191</td>\n",
       "      <td>-0.406144</td>\n",
       "    </tr>\n",
       "    <tr>\n",
       "      <th>4</th>\n",
       "      <td>1</td>\n",
       "      <td>11809928</td>\n",
       "      <td>-0.302815</td>\n",
       "      <td>-0.326458</td>\n",
       "      <td>-0.213350</td>\n",
       "      <td>0.392424</td>\n",
       "      <td>-0.177313</td>\n",
       "      <td>0.885198</td>\n",
       "      <td>0.045655</td>\n",
       "      <td>0.018103</td>\n",
       "      <td>...</td>\n",
       "      <td>-1.015687</td>\n",
       "      <td>-0.076606</td>\n",
       "      <td>-0.227819</td>\n",
       "      <td>-0.420046</td>\n",
       "      <td>-0.208214</td>\n",
       "      <td>-0.679192</td>\n",
       "      <td>0.195318</td>\n",
       "      <td>-0.276532</td>\n",
       "      <td>-0.493191</td>\n",
       "      <td>-0.406144</td>\n",
       "    </tr>\n",
       "    <tr>\n",
       "      <th>5</th>\n",
       "      <td>1</td>\n",
       "      <td>8571506</td>\n",
       "      <td>0.550398</td>\n",
       "      <td>-0.526154</td>\n",
       "      <td>0.082125</td>\n",
       "      <td>0.444099</td>\n",
       "      <td>0.053268</td>\n",
       "      <td>-0.345504</td>\n",
       "      <td>-0.084409</td>\n",
       "      <td>0.096725</td>\n",
       "      <td>...</td>\n",
       "      <td>0.367300</td>\n",
       "      <td>0.102650</td>\n",
       "      <td>-0.348079</td>\n",
       "      <td>-0.934553</td>\n",
       "      <td>-0.089702</td>\n",
       "      <td>-0.820126</td>\n",
       "      <td>0.130514</td>\n",
       "      <td>1.331819</td>\n",
       "      <td>0.021485</td>\n",
       "      <td>-0.814547</td>\n",
       "    </tr>\n",
       "  </tbody>\n",
       "</table>\n",
       "<p>5 rows × 1539 columns</p>\n",
       "</div>"
      ],
      "text/plain": [
       "  title_lev_dist   left_id    left_0    left_1    left_2    left_3    left_4  \\\n",
       "0              0   8571506  0.550398 -0.526154  0.082125  0.444099  0.053268   \n",
       "2              1   8571506  0.550398 -0.526154  0.082125  0.444099  0.053268   \n",
       "3              1   8571506  0.550398 -0.526154  0.082125  0.444099  0.053268   \n",
       "4              1  11809928 -0.302815 -0.326458 -0.213350  0.392424 -0.177313   \n",
       "5              1   8571506  0.550398 -0.526154  0.082125  0.444099  0.053268   \n",
       "\n",
       "     left_5    left_6    left_7  ...  right_758  right_759  right_760  \\\n",
       "0 -0.345504 -0.084409  0.096725  ...   0.300989   0.605257  -0.031447   \n",
       "2 -0.345504 -0.084409  0.096725  ...  -0.567429   0.363189  -0.289208   \n",
       "3 -0.345504 -0.084409  0.096725  ...  -1.015687  -0.076606  -0.227819   \n",
       "4  0.885198  0.045655  0.018103  ...  -1.015687  -0.076606  -0.227819   \n",
       "5 -0.345504 -0.084409  0.096725  ...   0.367300   0.102650  -0.348079   \n",
       "\n",
       "   right_761  right_762  right_763  right_764  right_765  right_766  right_767  \n",
       "0   0.055329   0.581134  -0.562669  -0.185219  -0.150309   0.547994   0.673631  \n",
       "2  -0.063081  -0.901390  -0.405271   0.049443   0.515929  -0.140260  -0.624937  \n",
       "3  -0.420046  -0.208214  -0.679192   0.195318  -0.276532  -0.493191  -0.406144  \n",
       "4  -0.420046  -0.208214  -0.679192   0.195318  -0.276532  -0.493191  -0.406144  \n",
       "5  -0.934553  -0.089702  -0.820126   0.130514   1.331819   0.021485  -0.814547  \n",
       "\n",
       "[5 rows x 1539 columns]"
      ]
     },
     "execution_count": 23,
     "metadata": {},
     "output_type": "execute_result"
    }
   ],
   "source": [
    "df = get_pair_similarity_probing_task_df(df_test, embedding_test_df)\n",
    "df.head()"
   ]
  },
  {
   "attachments": {},
   "cell_type": "markdown",
   "metadata": {},
   "source": [
    "modeling "
   ]
  },
  {
   "cell_type": "code",
   "execution_count": 21,
   "metadata": {},
   "outputs": [],
   "source": [
    "# TO DO"
   ]
  },
  {
   "attachments": {},
   "cell_type": "markdown",
   "metadata": {},
   "source": [
    "results"
   ]
  },
  {
   "cell_type": "code",
   "execution_count": 22,
   "metadata": {},
   "outputs": [],
   "source": [
    "# TO DO"
   ]
  }
 ],
 "metadata": {
  "kernelspec": {
   "display_name": "aml_p1",
   "language": "python",
   "name": "python3"
  },
  "language_info": {
   "codemirror_mode": {
    "name": "ipython",
    "version": 3
   },
   "file_extension": ".py",
   "mimetype": "text/x-python",
   "name": "python",
   "nbconvert_exporter": "python",
   "pygments_lexer": "ipython3",
   "version": "3.9.7"
  },
  "orig_nbformat": 4,
  "vscode": {
   "interpreter": {
    "hash": "16970e2829188d07d07053d595ad5a13c0c8df027ffc9d4d7f498f2c03a54a96"
   }
  }
 },
 "nbformat": 4,
 "nbformat_minor": 2
}
